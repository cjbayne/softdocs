{
 "cells": [
  {
   "cell_type": "markdown",
   "id": "1651b11a",
   "metadata": {},
   "source": [
    "# Guide to Pandas"
   ]
  },
  {
   "cell_type": "code",
   "execution_count": null,
   "id": "93e98455",
   "metadata": {
    "scrolled": true
   },
   "outputs": [],
   "source": [
    "# load libraries and datasets\n",
    "\n",
    "from IPython.display import Image\n",
    "import numpy as np\n",
    "import pandas as pd\n",
    "from pathlib import Path\n",
    "import pytz\n",
    "import seaborn as sns\n",
    "np.random.seed(42)\n",
    "path_data = Path.cwd() / 'data'\n",
    "df1 = pd.read_csv(path_data / \"concat_1.csv\")\n",
    "df2 = pd.read_csv(path_data / 'concat_2.csv')\n",
    "df3 = pd.read_csv(path_data / 'concat_3.csv')\n",
    "ebola = pd.read_csv(path_data / 'country_timeseries.csv', parse_dates=['Date'])\n",
    "gapminder = pd.read_csv(path_data / 'gapminder.tsv', sep='\\t')\n",
    "person = pd.read_csv(path_data / 'survey_person.csv')\n",
    "pew = pd.read_csv(path_data / 'pew.csv')\n",
    "scientists = pd.read_csv(path_data / 'scientists.csv')\n",
    "site = pd.read_csv(path_data / 'survey_site.csv')\n",
    "survey = pd.read_csv(path_data / 'survey_survey.csv')\n",
    "tesla = pd.read_csv(path_data / 'tesla_stock_yahoo.csv', parse_dates=['Date'], date_format='%Y-%m-%d')\n",
    "tips = sns.load_dataset('tips')\n",
    "titanic = sns.load_dataset('titanic')\n",
    "visited = pd.read_csv(path_data / 'survey_visited.csv')\n",
    "weather = pd.read_csv(path_data / 'weather.csv')"
   ]
  },
  {
   "cell_type": "markdown",
   "id": "b099e086",
   "metadata": {},
   "source": [
    "Load libraries"
   ]
  },
  {
   "cell_type": "code",
   "execution_count": 572,
   "id": "98e784f3",
   "metadata": {},
   "outputs": [],
   "source": [
    "# Load libraries\n",
    "from datetime import datetime\n",
    "import numpy as np\n",
    "import pandas as pd\n",
    "from pathlib import Path\n",
    "import seaborn as sns\n",
    "\n",
    "# Load data\n",
    "iris = sns.load_dataset(\"iris\")\n",
    "tips = sns.load_dataset('tips')\n",
    "# Drop columns class and deck to avoid dealing with categories\n",
    "titanic = sns.load_dataset(\"titanic\").drop(columns=[\"class\", \"deck\"])\n",
    "survey_path = Path.cwd() / \"data\" / \"survey_visited.csv\"\n",
    "survey = pd.read_csv(survey_path, parse_dates=[\"dated\"], date_format=\"%Y-%m-%d\")"
   ]
  },
  {
   "cell_type": "markdown",
   "id": "8751cf59",
   "metadata": {},
   "source": [
    "## Contents\n",
    "- [Attributes and Methods](#attributes_and_methods)\n",
    "- [Data Types](#data_types)\n",
    "- [`Series` Objects](#series_objects)\n",
    "- [`DataFrame` Objects](#dataframe_objects)\n",
    "- [Select Column, Rows, and Cells](#select_columns_rows_and_cells)\n",
    "- [Missing Values: `NaN`](#missing_values_nan)\n",
    "- [Grouping](#grouped_and_aggregated_calculations)\n",
    "- [Concatenation: Adding Row(s) or Columns(s) to Dataframe](#concatenation_adding_rows_or_columns_to_dataframe)\n",
    "- [Merging Datasets](#merging_datasets)\n",
    "- [Tidy Data](#tidy_data)\n",
    "- [Dealing with `datetime` Objects](#dealing_with_datetime_objects)\n",
    "- [Broadcasting: Dealing with Different Sized Objects](#Broadcasting:_Dealing_with_Different_Sized_Objects)\n",
    "- [Apply Function Across Each Row or Column](#apply_function_across_each_row_or_column)\n",
    "- [References](#references)"
   ]
  },
  {
   "cell_type": "markdown",
   "id": "69f94141",
   "metadata": {},
   "source": [
    "\n",
    "\n",
    "Difference between str.replace and .replace : \n",
    "https://stackoverflow.com/questions/56625031/what-is-the-difference-between-series-replace-and-series-str-replace"
   ]
  },
  {
   "cell_type": "code",
   "execution_count": null,
   "id": "cdd01c1c",
   "metadata": {},
   "outputs": [],
   "source": [
    "## WHAT IS THIS FOR????\n",
    "\n",
    "df['column name'] = df[\"column name\"].replace({\"part of string\":\"new string\"}, regex=True)\n",
    "# replacing values in df\n",
    "# replace values in whole df : replaces exact value matches with ‘a’ to ‘b’ and ‘y’ with ‘z’\n",
    "# add arg regex=True to match partial string\n",
    "df.replace({'a': 'b', 'y': 'z'})\n",
    "# replace values in multiple columns with same value : looks for the value 1 in column ‘a’ and ‘z’ in column ‘b’ and replaces these values with whatever is specified in value\n",
    "df.replace({'a': 1, 'b': 'z'}, value='replace')\n",
    "# replace values in multiple columns with multiple values : looks in column 'a' for pattern and replaces it with replace and column 'b' and replaces 'c' with 'z'\n",
    "replacement = {'pattern':'replace'}\n",
    "df.replace({'a':replacement, 'b':{'c':'z'}}, regex=True, inplace=True)"
   ]
  },
  {
   "cell_type": "markdown",
   "id": "09365a9b",
   "metadata": {},
   "source": [
    "<a id='attributes_and_methods'></a>\n",
    "## Attributes and Methods\n",
    "\n",
    "### Attributes\n",
    "- **DO NOT HAVE parentheses** >> think of as properties of object\n",
    "\n",
    "Examples\n",
    "- `.shape` returns the number of rows and columns as tuple (rows, columns) and will never change unless the data is changed\n",
    "- `.columns` returns the column names\n",
    "\n",
    "### Methods\n",
    "- **HAVE parentheses** >> think of as performing some calculation or operation on object, so args can be passed into parenthesis\n",
    "\n",
    "Examples\n",
    "- `.head()` returns first n rows of DataFrame, and if no arg is passed, the default is 5\n",
    "- `.info()` returns info about dataframe, args can alter how the output information is processed\n",
    "    \n",
    "*WARNING `.loc[]` and `.iloc[]` look similar but use subsetting synthax, like getting first element in Python list: `things[0]`*"
   ]
  },
  {
   "cell_type": "markdown",
   "id": "4efdc761",
   "metadata": {},
   "source": [
    "<a id='data_types'></a>\n",
    "## Data Types\n",
    "|Pandas types | Python type | Description |\n",
    "| ---         | ---         | --- |\n",
    "| object      | string      | Most common data type |\n",
    "| int64       | int         | Whole numbers |\n",
    "| float64     | float       | Numbers with decimals |\n",
    "| datetime64  | datetime    | datetime is found in the Python standard library <br /> (not loaded by default and needs to be imported) |"
   ]
  },
  {
   "cell_type": "markdown",
   "id": "fb6827f6",
   "metadata": {},
   "source": [
    "<a id='series_objects'></a>\n",
    "## `Series` Objects\n",
    "\n",
    "### What is a `Series` Object?\n",
    "\n",
    "**`Series`** object is a one-dimensional container (like a Python built-in list)\n",
    "    - First column contains indices (get by `.index`, default incrementally increases by 1 starting from 0)\n",
    "    - Second column contains values (get by `.values`)\n",
    "- A series is like a list with every element labelled\n",
    "- To convert a `Series` object into a `DataFrame` object, wrap column part in square brackets (pandas interprets the list as a request for multiple columns, even if it only contains one)"
   ]
  },
  {
   "cell_type": "markdown",
   "id": "658a0379",
   "metadata": {},
   "source": [
    "Common way to create a series is by passing a list of elements:"
   ]
  },
  {
   "cell_type": "code",
   "execution_count": 5,
   "id": "8e944c6b",
   "metadata": {
    "scrolled": true
   },
   "outputs": [
    {
     "data": {
      "text/plain": [
       "Class1       Math\n",
       "Class2    Science\n",
       "dtype: object"
      ]
     },
     "execution_count": 5,
     "metadata": {},
     "output_type": "execute_result"
    }
   ],
   "source": [
    "# Create series by passing list of elements and indices (optional)\n",
    "pd.Series([\"Math\", \"Science\"], index=[\"Class1\", \"Class2\"])"
   ]
  },
  {
   "cell_type": "markdown",
   "id": "4a72e733",
   "metadata": {},
   "source": [
    "- Every item in a list *should* be the same variable value (in the case they are added to a DataFrame)"
   ]
  },
  {
   "cell_type": "markdown",
   "id": "1d324008",
   "metadata": {},
   "source": [
    "### How are `Series` Operated on: Vectorization\n",
    "\n",
    "Many operations are vectorized, meaning it runs like a `for` loop on each element"
   ]
  },
  {
   "cell_type": "markdown",
   "id": "6f21c91d",
   "metadata": {},
   "source": [
    "Going to setup two series from the `iris` dataframe to use for examples (`.loc` explained later)"
   ]
  },
  {
   "cell_type": "code",
   "execution_count": 323,
   "id": "22bdb6d9",
   "metadata": {},
   "outputs": [],
   "source": [
    "# Both series contain floats\n",
    "sepal_lengths = iris.loc[:, \"sepal_length\"]\n",
    "petal_lengths = iris.loc[:, \"petal_length\"]"
   ]
  },
  {
   "cell_type": "markdown",
   "id": "b62a553b",
   "metadata": {},
   "source": [
    "Scalar vectorization: for each element in the series, a scalar is applied (example below adds 3.5)"
   ]
  },
  {
   "cell_type": "code",
   "execution_count": 310,
   "id": "3aed9512",
   "metadata": {
    "scrolled": false
   },
   "outputs": [
    {
     "data": {
      "text/plain": [
       "0    8.6\n",
       "1    8.4\n",
       "2    8.2\n",
       "Name: sepal_length, dtype: float64"
      ]
     },
     "execution_count": 310,
     "metadata": {},
     "output_type": "execute_result"
    }
   ],
   "source": [
    "# 3.5 is added to every element and the new value is returned\n",
    "(sepal_lengths + 3.5).head(3)"
   ]
  },
  {
   "cell_type": "markdown",
   "id": "a74c6bb1",
   "metadata": {},
   "source": [
    "Series + series vectorization: for each element in both series, an operation is performed (example below adds up values)"
   ]
  },
  {
   "cell_type": "code",
   "execution_count": null,
   "id": "f6244f99",
   "metadata": {
    "scrolled": false
   },
   "outputs": [
    {
     "data": {
      "text/plain": [
       "0    6.5\n",
       "1    6.3\n",
       "2    6.0\n",
       "dtype: float64"
      ]
     },
     "execution_count": 311,
     "metadata": {},
     "output_type": "execute_result"
    }
   ],
   "source": [
    "# Every element in the same position are added together, the result is returned\n",
    "(sepal_lengths + petal_lengths).head(3)"
   ]
  },
  {
   "cell_type": "markdown",
   "id": "33c8d0dc",
   "metadata": {},
   "source": [
    "- Both series **MUST** be the same length"
   ]
  },
  {
   "cell_type": "markdown",
   "id": "f3d9558d",
   "metadata": {},
   "source": [
    "Equality checking vectorization: for each element in the series, a boolean is returned based on the equality check (the `.mean()` method also adds up all values in the series and divides by n to return a single value)"
   ]
  },
  {
   "cell_type": "code",
   "execution_count": null,
   "id": "c2138bda",
   "metadata": {
    "scrolled": true
   },
   "outputs": [
    {
     "data": {
      "text/plain": [
       "0    False\n",
       "1    False\n",
       "2    False\n",
       "Name: sepal_length, dtype: bool"
      ]
     },
     "execution_count": 314,
     "metadata": {},
     "output_type": "execute_result"
    }
   ],
   "source": [
    "# Every element checked whether it's greater than the mean of all values\n",
    "# A boolean is returned\n",
    "(sepal_lengths > sepal_lengths.mean()).head(3)"
   ]
  },
  {
   "cell_type": "markdown",
   "id": "0bac3d1f",
   "metadata": {},
   "source": [
    "To keep only the values that were `True` from the example above, the boolean needs to be passed into a `.loc[]`"
   ]
  },
  {
   "cell_type": "code",
   "execution_count": 317,
   "id": "a340750f",
   "metadata": {},
   "outputs": [
    {
     "data": {
      "text/plain": [
       "50    7.0\n",
       "51    6.4\n",
       "52    6.9\n",
       "Name: sepal_length, dtype: float64"
      ]
     },
     "execution_count": 317,
     "metadata": {},
     "output_type": "execute_result"
    }
   ],
   "source": [
    "# Every element checked whether it's greater than the mean of all values\n",
    "# A boolean is returned and only rows where True was present are retained\n",
    "sepal_lengths.loc[sepal_lengths > sepal_lengths.mean()].head(3)"
   ]
  },
  {
   "cell_type": "markdown",
   "id": "f125c686",
   "metadata": {},
   "source": [
    "- Notice the index number starts at 50 instead of 0 now, meaning all values from index 0 to 49 were `False`\n",
    "- Since `iris` is actually a dataframe, the following code does the same exact thing `iris.loc[iris[\"sepal_length\"] > iris[\"sepal_length\"].mean(), \"sepal_length\"]`\n",
    "    - `.query` does the same thing as the code above and while it may be easier to read, it is not as robust so it is not recommended > `iris.query(\"sepal_length > sepal_length.mean()\")[\"sepal_length\"]`"
   ]
  },
  {
   "cell_type": "markdown",
   "id": "1173f3cf",
   "metadata": {},
   "source": [
    "In fact, any array of boolean values can be put on a series to retain values where `True` is present"
   ]
  },
  {
   "cell_type": "code",
   "execution_count": null,
   "id": "7fcdcdaf",
   "metadata": {},
   "outputs": [
    {
     "data": {
      "text/plain": [
       "0    5.1\n",
       "1    4.9\n",
       "7    5.0\n",
       "Name: sepal_length, dtype: float64"
      ]
     },
     "execution_count": 322,
     "metadata": {},
     "output_type": "execute_result"
    }
   ],
   "source": [
    "# For every element in a boolean array, only True values are retained\n",
    "manual_bool_values = [True, True, False, False, False, False, False, True]\n",
    "sepal_lengths[:8].loc[manual_bool_values]"
   ]
  },
  {
   "cell_type": "markdown",
   "id": "36903f4a",
   "metadata": {},
   "source": [
    "- Since the boolean array has `True` values at index 0, 1, and 7, only elements at index 0, 1, and 7 from the series will be retained"
   ]
  },
  {
   "cell_type": "markdown",
   "id": "5f988608",
   "metadata": {},
   "source": [
    "<a id='dataframe_objects'></a>\n",
    "## `DataFrame` Objects\n",
    "\n",
    "### What is a `DataFrame` Object?\n",
    "- Each column in DataFrame is a Series (think of as dictionary of Series objects, with column names as the keys and the Series as the values)\n",
    "- After loading a DataFrame, it is recommended to understand it and fix errors before doing anything with it"
   ]
  },
  {
   "cell_type": "markdown",
   "id": "8919f710",
   "metadata": {},
   "source": [
    "### Creating `DataFrame` Objects\n",
    "\n",
    "Create a dataframe by passing a dictionary"
   ]
  },
  {
   "cell_type": "code",
   "execution_count": 458,
   "id": "01d8b669",
   "metadata": {},
   "outputs": [
    {
     "data": {
      "text/html": [
       "<div>\n",
       "<style scoped>\n",
       "    .dataframe tbody tr th:only-of-type {\n",
       "        vertical-align: middle;\n",
       "    }\n",
       "\n",
       "    .dataframe tbody tr th {\n",
       "        vertical-align: top;\n",
       "    }\n",
       "\n",
       "    .dataframe thead th {\n",
       "        text-align: right;\n",
       "    }\n",
       "</style>\n",
       "<table border=\"1\" class=\"dataframe\">\n",
       "  <thead>\n",
       "    <tr style=\"text-align: right;\">\n",
       "      <th></th>\n",
       "      <th>Occupation</th>\n",
       "      <th>Born</th>\n",
       "      <th>Died</th>\n",
       "      <th>Age</th>\n",
       "    </tr>\n",
       "  </thead>\n",
       "  <tbody>\n",
       "    <tr>\n",
       "      <th>Rosaline Franklin</th>\n",
       "      <td>Chemist</td>\n",
       "      <td>1920-07-25</td>\n",
       "      <td>1958-04-16</td>\n",
       "      <td>37</td>\n",
       "    </tr>\n",
       "    <tr>\n",
       "      <th>William Gosset</th>\n",
       "      <td>Statistician</td>\n",
       "      <td>1876-06-13</td>\n",
       "      <td>1937-10-16</td>\n",
       "      <td>61</td>\n",
       "    </tr>\n",
       "  </tbody>\n",
       "</table>\n",
       "</div>"
      ],
      "text/plain": [
       "                     Occupation        Born        Died  Age\n",
       "Rosaline Franklin       Chemist  1920-07-25  1958-04-16   37\n",
       "William Gosset     Statistician  1876-06-13  1937-10-16   61"
      ]
     },
     "execution_count": 458,
     "metadata": {},
     "output_type": "execute_result"
    }
   ],
   "source": [
    "# New dataframe is created by passing a dictionary\n",
    "pd.DataFrame({\n",
    "    \"Occupation\": [\"Chemist\", \"Statistician\"],\n",
    "    \"Born\": [\"1920-07-25\", \"1876-06-13\"],\n",
    "    \"Died\": [\"1958-04-16\", \"1937-10-16\"],\n",
    "    \"Age\": [37, 61]},\n",
    "    index=[\"Rosaline Franklin\", \"William Gosset\"])"
   ]
  },
  {
   "cell_type": "markdown",
   "id": "38a12c3a",
   "metadata": {},
   "source": [
    "- This is a common way to create a dataframe\n",
    "- Each key is the name of a column, which is a type of variable\n",
    "- Each value for a given key is a list of values, which are values of those variables\n",
    "- Can optionally set the index, which are row labels (default is incremental integers from 0)"
   ]
  },
  {
   "cell_type": "markdown",
   "id": "84d143f0",
   "metadata": {},
   "source": [
    "Create an empty dataframe with `pd.DataFrame()`"
   ]
  },
  {
   "cell_type": "code",
   "execution_count": 20,
   "id": "ff0a390c",
   "metadata": {},
   "outputs": [
    {
     "name": "stdout",
     "output_type": "stream",
     "text": [
      "Empty DataFrame\n",
      "Columns: []\n",
      "Index: []\n"
     ]
    }
   ],
   "source": [
    "# Create empty DataFrame\n",
    "print(pd.DataFrame())"
   ]
  },
  {
   "cell_type": "markdown",
   "id": "f623b1f4",
   "metadata": {},
   "source": [
    "- Columns can be added optionally by using `columns` arg\n",
    "- Indices can be added optionally by using `index` arg"
   ]
  },
  {
   "cell_type": "markdown",
   "id": "bed32af2",
   "metadata": {},
   "source": [
    "<a id='select_columns_rows_and_cells'></a>\n",
    "## Select Columns, Rows, and Cells\n",
    "\n",
    "- `.loc[]` selects data based on column or row names\n",
    "    - The order is rows then columns, `.loc[rows, columns]`\n",
    "- Slicing can be used (both start and stop elements **are** included)\n",
    "* `.iloc[]` is depreciated as of version 2.2.0, so do not use anymore\n",
    "\n",
    "Explicit is better than implicit, which is why it is recommended to use `.loc`"
   ]
  },
  {
   "cell_type": "markdown",
   "id": "aafea537",
   "metadata": {},
   "source": [
    "### Selecting Columns\n",
    "\n",
    "Select single column by column name"
   ]
  },
  {
   "cell_type": "code",
   "execution_count": 324,
   "id": "6abc9029",
   "metadata": {},
   "outputs": [
    {
     "data": {
      "text/plain": [
       "0    5.1\n",
       "1    4.9\n",
       "2    4.7\n",
       "Name: sepal_length, dtype: float64"
      ]
     },
     "execution_count": 324,
     "metadata": {},
     "output_type": "execute_result"
    }
   ],
   "source": [
    "# Select all rows (:) and given column (by name)\n",
    "iris.loc[:, \"sepal_length\"].head(3)"
   ]
  },
  {
   "cell_type": "markdown",
   "id": "5c7fbbd7",
   "metadata": {},
   "source": [
    "- Returns a `Series`\n",
    "\n",
    "*Note: `iris[\"sepal_length\"]` IS equivalent to the code above, but it is not explicit whether `sepal_length` is a row or column name*"
   ]
  },
  {
   "cell_type": "markdown",
   "id": "34a63641",
   "metadata": {},
   "source": [
    "Select multiple columns by column names"
   ]
  },
  {
   "cell_type": "code",
   "execution_count": 325,
   "id": "b0c3eb1d",
   "metadata": {},
   "outputs": [
    {
     "data": {
      "text/html": [
       "<div>\n",
       "<style scoped>\n",
       "    .dataframe tbody tr th:only-of-type {\n",
       "        vertical-align: middle;\n",
       "    }\n",
       "\n",
       "    .dataframe tbody tr th {\n",
       "        vertical-align: top;\n",
       "    }\n",
       "\n",
       "    .dataframe thead th {\n",
       "        text-align: right;\n",
       "    }\n",
       "</style>\n",
       "<table border=\"1\" class=\"dataframe\">\n",
       "  <thead>\n",
       "    <tr style=\"text-align: right;\">\n",
       "      <th></th>\n",
       "      <th>sepal_length</th>\n",
       "      <th>petal_length</th>\n",
       "    </tr>\n",
       "  </thead>\n",
       "  <tbody>\n",
       "    <tr>\n",
       "      <th>0</th>\n",
       "      <td>5.1</td>\n",
       "      <td>1.4</td>\n",
       "    </tr>\n",
       "    <tr>\n",
       "      <th>1</th>\n",
       "      <td>4.9</td>\n",
       "      <td>1.4</td>\n",
       "    </tr>\n",
       "    <tr>\n",
       "      <th>2</th>\n",
       "      <td>4.7</td>\n",
       "      <td>1.3</td>\n",
       "    </tr>\n",
       "  </tbody>\n",
       "</table>\n",
       "</div>"
      ],
      "text/plain": [
       "   sepal_length  petal_length\n",
       "0           5.1           1.4\n",
       "1           4.9           1.4\n",
       "2           4.7           1.3"
      ]
     },
     "execution_count": 325,
     "metadata": {},
     "output_type": "execute_result"
    }
   ],
   "source": [
    "# Select all rows (:) and given columns by column names\n",
    "columns = [\"sepal_length\", \"petal_length\"]\n",
    "iris.loc[:, columns].head(3)"
   ]
  },
  {
   "cell_type": "markdown",
   "id": "6ec2e625",
   "metadata": {},
   "source": [
    "- Returns a `DataFrame`\n",
    "\n",
    "*Note: `iris[[\"sepal_length\", \"petal_length\"]]` IS equivalent to the code below, but it is not explicit whether these are row or column names*"
   ]
  },
  {
   "cell_type": "markdown",
   "id": "cae1b7db",
   "metadata": {},
   "source": [
    "Select multiple columns by slicing"
   ]
  },
  {
   "cell_type": "code",
   "execution_count": 327,
   "id": "ca9ba0fd",
   "metadata": {},
   "outputs": [
    {
     "data": {
      "text/html": [
       "<div>\n",
       "<style scoped>\n",
       "    .dataframe tbody tr th:only-of-type {\n",
       "        vertical-align: middle;\n",
       "    }\n",
       "\n",
       "    .dataframe tbody tr th {\n",
       "        vertical-align: top;\n",
       "    }\n",
       "\n",
       "    .dataframe thead th {\n",
       "        text-align: right;\n",
       "    }\n",
       "</style>\n",
       "<table border=\"1\" class=\"dataframe\">\n",
       "  <thead>\n",
       "    <tr style=\"text-align: right;\">\n",
       "      <th></th>\n",
       "      <th>sepal_length</th>\n",
       "      <th>sepal_width</th>\n",
       "      <th>petal_length</th>\n",
       "    </tr>\n",
       "  </thead>\n",
       "  <tbody>\n",
       "    <tr>\n",
       "      <th>0</th>\n",
       "      <td>5.1</td>\n",
       "      <td>3.5</td>\n",
       "      <td>1.4</td>\n",
       "    </tr>\n",
       "    <tr>\n",
       "      <th>1</th>\n",
       "      <td>4.9</td>\n",
       "      <td>3.0</td>\n",
       "      <td>1.4</td>\n",
       "    </tr>\n",
       "    <tr>\n",
       "      <th>2</th>\n",
       "      <td>4.7</td>\n",
       "      <td>3.2</td>\n",
       "      <td>1.3</td>\n",
       "    </tr>\n",
       "  </tbody>\n",
       "</table>\n",
       "</div>"
      ],
      "text/plain": [
       "   sepal_length  sepal_width  petal_length\n",
       "0           5.1          3.5           1.4\n",
       "1           4.9          3.0           1.4\n",
       "2           4.7          3.2           1.3"
      ]
     },
     "execution_count": 327,
     "metadata": {},
     "output_type": "execute_result"
    }
   ],
   "source": [
    "# Select all rows (:) and columns from the first to (and include) the second\n",
    "iris.loc[:, \"sepal_length\":\"petal_length\"].head(3)"
   ]
  },
  {
   "cell_type": "markdown",
   "id": "250d165e",
   "metadata": {},
   "source": [
    "- When slicing, column names do not need to be placed in brackets (just like the rows slicing does not)\n",
    "\n",
    "*Note: contrary to usual python slices, **both** the start and the stop are included*"
   ]
  },
  {
   "cell_type": "markdown",
   "id": "1260def0",
   "metadata": {},
   "source": [
    "### Selecting Rows\n",
    "\n",
    "Select single row by row index name"
   ]
  },
  {
   "cell_type": "code",
   "execution_count": 63,
   "id": "2577a412",
   "metadata": {},
   "outputs": [
    {
     "data": {
      "text/plain": [
       "sepal_length       5.1\n",
       "sepal_width        3.5\n",
       "petal_length       1.4\n",
       "petal_width        0.2\n",
       "species         setosa\n",
       "Name: 0, dtype: object"
      ]
     },
     "execution_count": 63,
     "metadata": {},
     "output_type": "execute_result"
    }
   ],
   "source": [
    "# Select all values in given row by row name\n",
    "iris.loc[0, :]"
   ]
  },
  {
   "cell_type": "markdown",
   "id": "99edabf9",
   "metadata": {},
   "source": [
    "- Returns a `Series` since only 1 row is returned\n",
    "- To return as a `DataFrame`, wrap row part in square brackets (pandas interprets the list as a request for multiple rows, even if it only contains one)"
   ]
  },
  {
   "cell_type": "markdown",
   "id": "a11fd626",
   "metadata": {},
   "source": [
    "Select multiple rows by row index names"
   ]
  },
  {
   "cell_type": "code",
   "execution_count": 328,
   "id": "4f7bdd7d",
   "metadata": {},
   "outputs": [
    {
     "data": {
      "text/html": [
       "<div>\n",
       "<style scoped>\n",
       "    .dataframe tbody tr th:only-of-type {\n",
       "        vertical-align: middle;\n",
       "    }\n",
       "\n",
       "    .dataframe tbody tr th {\n",
       "        vertical-align: top;\n",
       "    }\n",
       "\n",
       "    .dataframe thead th {\n",
       "        text-align: right;\n",
       "    }\n",
       "</style>\n",
       "<table border=\"1\" class=\"dataframe\">\n",
       "  <thead>\n",
       "    <tr style=\"text-align: right;\">\n",
       "      <th></th>\n",
       "      <th>sepal_length</th>\n",
       "      <th>sepal_width</th>\n",
       "      <th>petal_length</th>\n",
       "      <th>petal_width</th>\n",
       "      <th>species</th>\n",
       "    </tr>\n",
       "  </thead>\n",
       "  <tbody>\n",
       "    <tr>\n",
       "      <th>0</th>\n",
       "      <td>5.1</td>\n",
       "      <td>3.5</td>\n",
       "      <td>1.4</td>\n",
       "      <td>0.2</td>\n",
       "      <td>setosa</td>\n",
       "    </tr>\n",
       "    <tr>\n",
       "      <th>5</th>\n",
       "      <td>5.4</td>\n",
       "      <td>3.9</td>\n",
       "      <td>1.7</td>\n",
       "      <td>0.4</td>\n",
       "      <td>setosa</td>\n",
       "    </tr>\n",
       "  </tbody>\n",
       "</table>\n",
       "</div>"
      ],
      "text/plain": [
       "   sepal_length  sepal_width  petal_length  petal_width species\n",
       "0           5.1          3.5           1.4          0.2  setosa\n",
       "5           5.4          3.9           1.7          0.4  setosa"
      ]
     },
     "execution_count": 328,
     "metadata": {},
     "output_type": "execute_result"
    }
   ],
   "source": [
    "# Select all values in given rows by row names\n",
    "iris.loc[[0, 5], :]"
   ]
  },
  {
   "cell_type": "markdown",
   "id": "d98b43d4",
   "metadata": {},
   "source": [
    "- Returns a `DataFrame` since multiple rows are returned"
   ]
  },
  {
   "cell_type": "markdown",
   "id": "fdfef5aa",
   "metadata": {},
   "source": [
    "Select rows based on Boolean conditions"
   ]
  },
  {
   "cell_type": "code",
   "execution_count": 346,
   "id": "afae9124",
   "metadata": {},
   "outputs": [
    {
     "data": {
      "text/html": [
       "<div>\n",
       "<style scoped>\n",
       "    .dataframe tbody tr th:only-of-type {\n",
       "        vertical-align: middle;\n",
       "    }\n",
       "\n",
       "    .dataframe tbody tr th {\n",
       "        vertical-align: top;\n",
       "    }\n",
       "\n",
       "    .dataframe thead th {\n",
       "        text-align: right;\n",
       "    }\n",
       "</style>\n",
       "<table border=\"1\" class=\"dataframe\">\n",
       "  <thead>\n",
       "    <tr style=\"text-align: right;\">\n",
       "      <th></th>\n",
       "      <th>sepal_length</th>\n",
       "      <th>sepal_width</th>\n",
       "      <th>petal_length</th>\n",
       "      <th>petal_width</th>\n",
       "      <th>species</th>\n",
       "    </tr>\n",
       "  </thead>\n",
       "  <tbody>\n",
       "    <tr>\n",
       "      <th>50</th>\n",
       "      <td>7.0</td>\n",
       "      <td>3.2</td>\n",
       "      <td>4.7</td>\n",
       "      <td>1.4</td>\n",
       "      <td>versicolor</td>\n",
       "    </tr>\n",
       "    <tr>\n",
       "      <th>51</th>\n",
       "      <td>6.4</td>\n",
       "      <td>3.2</td>\n",
       "      <td>4.5</td>\n",
       "      <td>1.5</td>\n",
       "      <td>versicolor</td>\n",
       "    </tr>\n",
       "    <tr>\n",
       "      <th>52</th>\n",
       "      <td>6.9</td>\n",
       "      <td>3.1</td>\n",
       "      <td>4.9</td>\n",
       "      <td>1.5</td>\n",
       "      <td>versicolor</td>\n",
       "    </tr>\n",
       "  </tbody>\n",
       "</table>\n",
       "</div>"
      ],
      "text/plain": [
       "    sepal_length  sepal_width  petal_length  petal_width     species\n",
       "50           7.0          3.2           4.7          1.4  versicolor\n",
       "51           6.4          3.2           4.5          1.5  versicolor\n",
       "52           6.9          3.1           4.9          1.5  versicolor"
      ]
     },
     "execution_count": 346,
     "metadata": {},
     "output_type": "execute_result"
    }
   ],
   "source": [
    "(iris.loc[iris.loc[:, \"sepal_length\"] > iris.loc[:, \"sepal_length\"].mean(), :]\n",
    " .head(3))"
   ]
  },
  {
   "cell_type": "markdown",
   "id": "93bd53e0",
   "metadata": {},
   "source": [
    "- This code says, using the `iris` dataset, calculate the mean using all the values in the column `sepal_length`. Then, for each row of the dataframe, if the value in `sepal_length` is greater than the mean, mark it is as `True` or if it is not, mark it as `False`. Then, keep all of the rows where it is `True` and retain all columns\n",
    "\n",
    "*Note: `iris[iris[\"sepal_length\"]>iris[\"sepal_length\"].mean()]` IS equivalent, but it is not explicit whether `sepal_length` is a row or column name*"
   ]
  },
  {
   "cell_type": "markdown",
   "id": "3554c637",
   "metadata": {},
   "source": [
    "### Selecting by Columns and Rows Simultaneously\n",
    "\n",
    "Select single value by it's row and column position"
   ]
  },
  {
   "cell_type": "code",
   "execution_count": 79,
   "id": "fc483695",
   "metadata": {},
   "outputs": [
    {
     "data": {
      "text/plain": [
       "np.float64(5.1)"
      ]
     },
     "execution_count": 79,
     "metadata": {},
     "output_type": "execute_result"
    }
   ],
   "source": [
    "# Select a single value by row and column name\n",
    "iris.loc[0, \"sepal_length\"]"
   ]
  },
  {
   "cell_type": "markdown",
   "id": "b2347919",
   "metadata": {},
   "source": [
    "- Returns a single value\n",
    "- To return as a `Series`, wrap either the column or row parts in square brackets\n",
    "- To return as a `DataFrame`, wrap both column and row parts in square brackets"
   ]
  },
  {
   "cell_type": "markdown",
   "id": "2ed7b049",
   "metadata": {},
   "source": [
    "Select multiple rows or columns by row or column values after setting a column(s) as the index"
   ]
  },
  {
   "cell_type": "code",
   "execution_count": 331,
   "id": "01ac4b2d",
   "metadata": {},
   "outputs": [
    {
     "data": {
      "text/html": [
       "<div>\n",
       "<style scoped>\n",
       "    .dataframe tbody tr th:only-of-type {\n",
       "        vertical-align: middle;\n",
       "    }\n",
       "\n",
       "    .dataframe tbody tr th {\n",
       "        vertical-align: top;\n",
       "    }\n",
       "\n",
       "    .dataframe thead th {\n",
       "        text-align: right;\n",
       "    }\n",
       "</style>\n",
       "<table border=\"1\" class=\"dataframe\">\n",
       "  <thead>\n",
       "    <tr style=\"text-align: right;\">\n",
       "      <th></th>\n",
       "      <th>sepal_length</th>\n",
       "      <th>sepal_width</th>\n",
       "      <th>petal_length</th>\n",
       "      <th>petal_width</th>\n",
       "    </tr>\n",
       "    <tr>\n",
       "      <th>species</th>\n",
       "      <th></th>\n",
       "      <th></th>\n",
       "      <th></th>\n",
       "      <th></th>\n",
       "    </tr>\n",
       "  </thead>\n",
       "  <tbody>\n",
       "    <tr>\n",
       "      <th>setosa</th>\n",
       "      <td>5.1</td>\n",
       "      <td>3.5</td>\n",
       "      <td>1.4</td>\n",
       "      <td>0.2</td>\n",
       "    </tr>\n",
       "    <tr>\n",
       "      <th>setosa</th>\n",
       "      <td>4.9</td>\n",
       "      <td>3.0</td>\n",
       "      <td>1.4</td>\n",
       "      <td>0.2</td>\n",
       "    </tr>\n",
       "    <tr>\n",
       "      <th>setosa</th>\n",
       "      <td>4.7</td>\n",
       "      <td>3.2</td>\n",
       "      <td>1.3</td>\n",
       "      <td>0.2</td>\n",
       "    </tr>\n",
       "  </tbody>\n",
       "</table>\n",
       "</div>"
      ],
      "text/plain": [
       "         sepal_length  sepal_width  petal_length  petal_width\n",
       "species                                                      \n",
       "setosa            5.1          3.5           1.4          0.2\n",
       "setosa            4.9          3.0           1.4          0.2\n",
       "setosa            4.7          3.2           1.3          0.2"
      ]
     },
     "execution_count": 331,
     "metadata": {},
     "output_type": "execute_result"
    }
   ],
   "source": [
    "iris.set_index(\"species\").loc[\"setosa\", :].head(3)"
   ]
  },
  {
   "cell_type": "markdown",
   "id": "d75052fd",
   "metadata": {},
   "source": [
    "- Use `.reset_index()` if index needs to be reset"
   ]
  },
  {
   "cell_type": "markdown",
   "id": "95f6066f",
   "metadata": {},
   "source": [
    "### Depreciated Methods and Functions\n",
    "\n",
    "***`.iloc[]`*** has been depreciated, but here are examples previously given\n",
    "\n",
    "Select single column by index number\n",
    "\n",
    "```python\n",
    "# Select all rows (:) and given column (by index number)\n",
    "iris.iloc[:, 0]\n",
    "```\n",
    "- Returns the column as a `Series`\n",
    "\n",
    "*Note: `iris.iloc[0]` IS NOT equivalent to the code below, this is why explicit is important*\n",
    "\n",
    "Select multiple columns by index numbers\n",
    "\n",
    "```python\n",
    "# Select all rows (:) and given columns by index numbers\n",
    "iris.iloc[:, [0, 2]]\n",
    "```\n",
    "\n",
    "Select single row by row index name\n",
    "\n",
    "```python\n",
    "# Select all values in given row by index number\n",
    "iris.iloc[0]\n",
    "```\n",
    "\n",
    "Select multiple rows by row index names\n",
    "```python\n",
    "# Select all values in given rows by index numbers\n",
    "iris.iloc[[0, 5]]\n",
    "```\n",
    "\n",
    "Select single value by it's row and column position\n",
    "```python\n",
    "# Select a single value by row and column index numbers\n",
    "iris.iloc[0, 0]\n",
    "```"
   ]
  },
  {
   "cell_type": "markdown",
   "id": "bef1f988",
   "metadata": {},
   "source": [
    "<a id='missing_values_nan'></a>\n",
    "## Missing Values: `NaN`\n",
    "\n",
    "Missing values are displayed as `NaN` in the data and they are `np.nan` objects\n",
    "\n",
    "*Note: `np.NAN` and `np.NaN` were removed in the Numpy 2.0 release*"
   ]
  },
  {
   "cell_type": "markdown",
   "id": "48fbb6fd",
   "metadata": {},
   "source": [
    "`np.nan` type is a float"
   ]
  },
  {
   "cell_type": "code",
   "execution_count": 112,
   "id": "f40db1dd",
   "metadata": {},
   "outputs": [
    {
     "data": {
      "text/plain": [
       "float"
      ]
     },
     "execution_count": 112,
     "metadata": {},
     "output_type": "execute_result"
    }
   ],
   "source": [
    "type(np.nan)"
   ]
  },
  {
   "cell_type": "markdown",
   "id": "ac11f01a",
   "metadata": {},
   "source": [
    "### `NaN` Has no Concept of Equality"
   ]
  },
  {
   "cell_type": "markdown",
   "id": "8c3f48a3",
   "metadata": {},
   "source": [
    "`NaN` does not equal `False`"
   ]
  },
  {
   "cell_type": "code",
   "execution_count": null,
   "id": "e21b4032",
   "metadata": {},
   "outputs": [
    {
     "data": {
      "text/plain": [
       "False"
      ]
     },
     "execution_count": 88,
     "metadata": {},
     "output_type": "execute_result"
    }
   ],
   "source": [
    "np.nan == False"
   ]
  },
  {
   "cell_type": "markdown",
   "id": "65acec2a",
   "metadata": {},
   "source": [
    "`Nan` does not equal 0"
   ]
  },
  {
   "cell_type": "code",
   "execution_count": 332,
   "id": "e2d32c4f",
   "metadata": {},
   "outputs": [
    {
     "data": {
      "text/plain": [
       "False"
      ]
     },
     "execution_count": 332,
     "metadata": {},
     "output_type": "execute_result"
    }
   ],
   "source": [
    "np.nan == 0"
   ]
  },
  {
   "cell_type": "markdown",
   "id": "608c9b6f",
   "metadata": {},
   "source": [
    "`NaN` does not equal an empty string"
   ]
  },
  {
   "cell_type": "code",
   "execution_count": 333,
   "id": "2c3a60fe",
   "metadata": {},
   "outputs": [
    {
     "data": {
      "text/plain": [
       "False"
      ]
     },
     "execution_count": 333,
     "metadata": {},
     "output_type": "execute_result"
    }
   ],
   "source": [
    "np.nan == ''"
   ]
  },
  {
   "cell_type": "markdown",
   "id": "7f000ad4",
   "metadata": {},
   "source": [
    "`NaN` does not equal `None`"
   ]
  },
  {
   "cell_type": "code",
   "execution_count": 335,
   "id": "de3b4c4f",
   "metadata": {},
   "outputs": [
    {
     "data": {
      "text/plain": [
       "False"
      ]
     },
     "execution_count": 335,
     "metadata": {},
     "output_type": "execute_result"
    }
   ],
   "source": [
    "np.nan == None"
   ]
  },
  {
   "cell_type": "markdown",
   "id": "5f450499",
   "metadata": {},
   "source": [
    "`NaN` does not even equal `NaN`"
   ]
  },
  {
   "cell_type": "code",
   "execution_count": 337,
   "id": "724cadb2",
   "metadata": {},
   "outputs": [
    {
     "data": {
      "text/plain": [
       "False"
      ]
     },
     "execution_count": 337,
     "metadata": {},
     "output_type": "execute_result"
    }
   ],
   "source": [
    "np.nan == np.nan"
   ]
  },
  {
   "cell_type": "markdown",
   "id": "c02e0b58",
   "metadata": {},
   "source": [
    "### Dealing with `NaN` When Loading in csv Files"
   ]
  },
  {
   "cell_type": "markdown",
   "id": "f9ed199d",
   "metadata": {},
   "source": [
    "Convert all `NaN` values into empty strings"
   ]
  },
  {
   "cell_type": "code",
   "execution_count": 460,
   "id": "01351ace",
   "metadata": {},
   "outputs": [
    {
     "data": {
      "text/html": [
       "<div>\n",
       "<style scoped>\n",
       "    .dataframe tbody tr th:only-of-type {\n",
       "        vertical-align: middle;\n",
       "    }\n",
       "\n",
       "    .dataframe tbody tr th {\n",
       "        vertical-align: top;\n",
       "    }\n",
       "\n",
       "    .dataframe thead th {\n",
       "        text-align: right;\n",
       "    }\n",
       "</style>\n",
       "<table border=\"1\" class=\"dataframe\">\n",
       "  <thead>\n",
       "    <tr style=\"text-align: right;\">\n",
       "      <th></th>\n",
       "      <th>ident</th>\n",
       "      <th>site</th>\n",
       "      <th>dated</th>\n",
       "    </tr>\n",
       "  </thead>\n",
       "  <tbody>\n",
       "    <tr>\n",
       "      <th>5</th>\n",
       "      <td>752</td>\n",
       "      <td>DR-3</td>\n",
       "      <td></td>\n",
       "    </tr>\n",
       "    <tr>\n",
       "      <th>6</th>\n",
       "      <td>837</td>\n",
       "      <td>MSK-4</td>\n",
       "      <td>1932-01-14</td>\n",
       "    </tr>\n",
       "    <tr>\n",
       "      <th>7</th>\n",
       "      <td>844</td>\n",
       "      <td>DR-1</td>\n",
       "      <td>1932-03-22</td>\n",
       "    </tr>\n",
       "  </tbody>\n",
       "</table>\n",
       "</div>"
      ],
      "text/plain": [
       "   ident   site       dated\n",
       "5    752   DR-3            \n",
       "6    837  MSK-4  1932-01-14\n",
       "7    844   DR-1  1932-03-22"
      ]
     },
     "execution_count": 460,
     "metadata": {},
     "output_type": "execute_result"
    }
   ],
   "source": [
    "pd.read_csv(survey_path, keep_default_na=False).tail(3)"
   ]
  },
  {
   "cell_type": "markdown",
   "id": "d948dceb",
   "metadata": {},
   "source": [
    "Convert all the values passed into the `na_values` arg into `NaN`"
   ]
  },
  {
   "cell_type": "code",
   "execution_count": 461,
   "id": "ab2f58a8",
   "metadata": {},
   "outputs": [
    {
     "data": {
      "text/html": [
       "<div>\n",
       "<style scoped>\n",
       "    .dataframe tbody tr th:only-of-type {\n",
       "        vertical-align: middle;\n",
       "    }\n",
       "\n",
       "    .dataframe tbody tr th {\n",
       "        vertical-align: top;\n",
       "    }\n",
       "\n",
       "    .dataframe thead th {\n",
       "        text-align: right;\n",
       "    }\n",
       "</style>\n",
       "<table border=\"1\" class=\"dataframe\">\n",
       "  <thead>\n",
       "    <tr style=\"text-align: right;\">\n",
       "      <th></th>\n",
       "      <th>ident</th>\n",
       "      <th>site</th>\n",
       "      <th>dated</th>\n",
       "    </tr>\n",
       "  </thead>\n",
       "  <tbody>\n",
       "    <tr>\n",
       "      <th>5</th>\n",
       "      <td>752.0</td>\n",
       "      <td>DR-3</td>\n",
       "      <td>NaN</td>\n",
       "    </tr>\n",
       "    <tr>\n",
       "      <th>6</th>\n",
       "      <td>NaN</td>\n",
       "      <td>MSK-4</td>\n",
       "      <td>1932-01-14</td>\n",
       "    </tr>\n",
       "    <tr>\n",
       "      <th>7</th>\n",
       "      <td>844.0</td>\n",
       "      <td>NaN</td>\n",
       "      <td>1932-03-22</td>\n",
       "    </tr>\n",
       "  </tbody>\n",
       "</table>\n",
       "</div>"
      ],
      "text/plain": [
       "   ident   site       dated\n",
       "5  752.0   DR-3         NaN\n",
       "6    NaN  MSK-4  1932-01-14\n",
       "7  844.0    NaN  1932-03-22"
      ]
     },
     "execution_count": 461,
     "metadata": {},
     "output_type": "execute_result"
    }
   ],
   "source": [
    "na_values = [\"DR-1\", 837]\n",
    "pd.read_csv(survey_path, na_values=na_values).tail(3)"
   ]
  },
  {
   "cell_type": "markdown",
   "id": "211e88d1",
   "metadata": {},
   "source": [
    "### Check if `NaN` Values Exist"
   ]
  },
  {
   "cell_type": "markdown",
   "id": "2b8ab547",
   "metadata": {},
   "source": [
    "Check number of `NaN` in each column using `.info()`"
   ]
  },
  {
   "cell_type": "code",
   "execution_count": 260,
   "id": "ba1c3f2c",
   "metadata": {},
   "outputs": [
    {
     "name": "stdout",
     "output_type": "stream",
     "text": [
      "<class 'pandas.core.frame.DataFrame'>\n",
      "RangeIndex: 891 entries, 0 to 890\n",
      "Data columns (total 13 columns):\n",
      " #   Column       Non-Null Count  Dtype  \n",
      "---  ------       --------------  -----  \n",
      " 0   survived     891 non-null    int64  \n",
      " 1   pclass       891 non-null    int64  \n",
      " 2   sex          891 non-null    object \n",
      " 3   age          714 non-null    float64\n",
      " 4   sibsp        891 non-null    int64  \n",
      " 5   parch        891 non-null    int64  \n",
      " 6   fare         891 non-null    float64\n",
      " 7   embarked     889 non-null    object \n",
      " 8   who          891 non-null    object \n",
      " 9   adult_male   891 non-null    bool   \n",
      " 10  embark_town  889 non-null    object \n",
      " 11  alive        891 non-null    object \n",
      " 12  alone        891 non-null    bool   \n",
      "dtypes: bool(2), float64(2), int64(4), object(5)\n",
      "memory usage: 78.4+ KB\n"
     ]
    }
   ],
   "source": [
    "titanic.info()"
   ]
  },
  {
   "cell_type": "markdown",
   "id": "91599a24",
   "metadata": {},
   "source": [
    "- The `RangeIndex` shows there are 891 rows, the `age` column shows 714 rows are non-null"
   ]
  },
  {
   "cell_type": "markdown",
   "id": "9bc114b8",
   "metadata": {},
   "source": [
    "Check if any values in an array are `NaN`"
   ]
  },
  {
   "cell_type": "code",
   "execution_count": 343,
   "id": "0f9d691d",
   "metadata": {},
   "outputs": [
    {
     "data": {
      "text/plain": [
       "888     True\n",
       "889    False\n",
       "890    False\n",
       "Name: age, dtype: bool"
      ]
     },
     "execution_count": 343,
     "metadata": {},
     "output_type": "execute_result"
    }
   ],
   "source": [
    "# Row 888 returns a True value, meaning there is a NaN in that row\n",
    "pd.isnull(titanic.loc[:, \"age\"]).tail(3)"
   ]
  },
  {
   "cell_type": "markdown",
   "id": "bf123bca",
   "metadata": {},
   "source": [
    "- Every value in the array is checked and if it is null, it returns `False`, otherwise it returns `True`\n",
    "- Use `pd.notnull()` to conversely check if values are not null"
   ]
  },
  {
   "cell_type": "markdown",
   "id": "3ee7d265",
   "metadata": {},
   "source": [
    "### Fill in `NaN` Values"
   ]
  },
  {
   "cell_type": "markdown",
   "id": "b000e00a",
   "metadata": {},
   "source": [
    "Replace all `NaN` values with given argument"
   ]
  },
  {
   "cell_type": "code",
   "execution_count": 345,
   "id": "204670d7",
   "metadata": {},
   "outputs": [
    {
     "data": {
      "text/html": [
       "<div>\n",
       "<style scoped>\n",
       "    .dataframe tbody tr th:only-of-type {\n",
       "        vertical-align: middle;\n",
       "    }\n",
       "\n",
       "    .dataframe tbody tr th {\n",
       "        vertical-align: top;\n",
       "    }\n",
       "\n",
       "    .dataframe thead th {\n",
       "        text-align: right;\n",
       "    }\n",
       "</style>\n",
       "<table border=\"1\" class=\"dataframe\">\n",
       "  <thead>\n",
       "    <tr style=\"text-align: right;\">\n",
       "      <th></th>\n",
       "      <th>survived</th>\n",
       "      <th>pclass</th>\n",
       "      <th>sex</th>\n",
       "      <th>age</th>\n",
       "      <th>sibsp</th>\n",
       "      <th>parch</th>\n",
       "      <th>fare</th>\n",
       "      <th>embarked</th>\n",
       "      <th>who</th>\n",
       "      <th>adult_male</th>\n",
       "      <th>embark_town</th>\n",
       "      <th>alive</th>\n",
       "      <th>alone</th>\n",
       "    </tr>\n",
       "  </thead>\n",
       "  <tbody>\n",
       "    <tr>\n",
       "      <th>888</th>\n",
       "      <td>0</td>\n",
       "      <td>3</td>\n",
       "      <td>female</td>\n",
       "      <td>XXX</td>\n",
       "      <td>1</td>\n",
       "      <td>2</td>\n",
       "      <td>23.45</td>\n",
       "      <td>S</td>\n",
       "      <td>woman</td>\n",
       "      <td>False</td>\n",
       "      <td>Southampton</td>\n",
       "      <td>no</td>\n",
       "      <td>False</td>\n",
       "    </tr>\n",
       "    <tr>\n",
       "      <th>889</th>\n",
       "      <td>1</td>\n",
       "      <td>1</td>\n",
       "      <td>male</td>\n",
       "      <td>26.0</td>\n",
       "      <td>0</td>\n",
       "      <td>0</td>\n",
       "      <td>30.00</td>\n",
       "      <td>C</td>\n",
       "      <td>man</td>\n",
       "      <td>True</td>\n",
       "      <td>Cherbourg</td>\n",
       "      <td>yes</td>\n",
       "      <td>True</td>\n",
       "    </tr>\n",
       "    <tr>\n",
       "      <th>890</th>\n",
       "      <td>0</td>\n",
       "      <td>3</td>\n",
       "      <td>male</td>\n",
       "      <td>32.0</td>\n",
       "      <td>0</td>\n",
       "      <td>0</td>\n",
       "      <td>7.75</td>\n",
       "      <td>Q</td>\n",
       "      <td>man</td>\n",
       "      <td>True</td>\n",
       "      <td>Queenstown</td>\n",
       "      <td>no</td>\n",
       "      <td>True</td>\n",
       "    </tr>\n",
       "  </tbody>\n",
       "</table>\n",
       "</div>"
      ],
      "text/plain": [
       "     survived  pclass     sex   age  sibsp  parch   fare embarked    who  \\\n",
       "888         0       3  female   XXX      1      2  23.45        S  woman   \n",
       "889         1       1    male  26.0      0      0  30.00        C    man   \n",
       "890         0       3    male  32.0      0      0   7.75        Q    man   \n",
       "\n",
       "     adult_male  embark_town alive  alone  \n",
       "888       False  Southampton    no  False  \n",
       "889        True    Cherbourg   yes   True  \n",
       "890        True   Queenstown    no   True  "
      ]
     },
     "execution_count": 345,
     "metadata": {},
     "output_type": "execute_result"
    }
   ],
   "source": [
    "# All NaN values replaced with string \"XXX\"\n",
    "titanic.fillna(\"XXX\").tail(3)"
   ]
  },
  {
   "cell_type": "markdown",
   "id": "88252acb",
   "metadata": {},
   "source": [
    "- Notice the value in column `age` in row 888 was replaced with the string `XXX`\n",
    "- Passing in argument `method` is depreciated, use other `.ffill()` and `.bfill()` methods below"
   ]
  },
  {
   "cell_type": "markdown",
   "id": "6122b259",
   "metadata": {},
   "source": [
    "Fill in all `NaN` values with the value in the row above it using `.ffill()`"
   ]
  },
  {
   "cell_type": "code",
   "execution_count": null,
   "id": "845cd31d",
   "metadata": {},
   "outputs": [
    {
     "data": {
      "text/html": [
       "<div>\n",
       "<style scoped>\n",
       "    .dataframe tbody tr th:only-of-type {\n",
       "        vertical-align: middle;\n",
       "    }\n",
       "\n",
       "    .dataframe tbody tr th {\n",
       "        vertical-align: top;\n",
       "    }\n",
       "\n",
       "    .dataframe thead th {\n",
       "        text-align: right;\n",
       "    }\n",
       "</style>\n",
       "<table border=\"1\" class=\"dataframe\">\n",
       "  <thead>\n",
       "    <tr style=\"text-align: right;\">\n",
       "      <th></th>\n",
       "      <th>survived</th>\n",
       "      <th>pclass</th>\n",
       "      <th>sex</th>\n",
       "      <th>age</th>\n",
       "      <th>sibsp</th>\n",
       "      <th>parch</th>\n",
       "      <th>fare</th>\n",
       "      <th>embarked</th>\n",
       "      <th>who</th>\n",
       "      <th>adult_male</th>\n",
       "      <th>embark_town</th>\n",
       "      <th>alive</th>\n",
       "      <th>alone</th>\n",
       "    </tr>\n",
       "  </thead>\n",
       "  <tbody>\n",
       "    <tr>\n",
       "      <th>887</th>\n",
       "      <td>1</td>\n",
       "      <td>1</td>\n",
       "      <td>female</td>\n",
       "      <td>19.0</td>\n",
       "      <td>0</td>\n",
       "      <td>0</td>\n",
       "      <td>30.00</td>\n",
       "      <td>S</td>\n",
       "      <td>woman</td>\n",
       "      <td>False</td>\n",
       "      <td>Southampton</td>\n",
       "      <td>yes</td>\n",
       "      <td>True</td>\n",
       "    </tr>\n",
       "    <tr>\n",
       "      <th>888</th>\n",
       "      <td>0</td>\n",
       "      <td>3</td>\n",
       "      <td>female</td>\n",
       "      <td>19.0</td>\n",
       "      <td>1</td>\n",
       "      <td>2</td>\n",
       "      <td>23.45</td>\n",
       "      <td>S</td>\n",
       "      <td>woman</td>\n",
       "      <td>False</td>\n",
       "      <td>Southampton</td>\n",
       "      <td>no</td>\n",
       "      <td>False</td>\n",
       "    </tr>\n",
       "    <tr>\n",
       "      <th>889</th>\n",
       "      <td>1</td>\n",
       "      <td>1</td>\n",
       "      <td>male</td>\n",
       "      <td>26.0</td>\n",
       "      <td>0</td>\n",
       "      <td>0</td>\n",
       "      <td>30.00</td>\n",
       "      <td>C</td>\n",
       "      <td>man</td>\n",
       "      <td>True</td>\n",
       "      <td>Cherbourg</td>\n",
       "      <td>yes</td>\n",
       "      <td>True</td>\n",
       "    </tr>\n",
       "    <tr>\n",
       "      <th>890</th>\n",
       "      <td>0</td>\n",
       "      <td>3</td>\n",
       "      <td>male</td>\n",
       "      <td>32.0</td>\n",
       "      <td>0</td>\n",
       "      <td>0</td>\n",
       "      <td>7.75</td>\n",
       "      <td>Q</td>\n",
       "      <td>man</td>\n",
       "      <td>True</td>\n",
       "      <td>Queenstown</td>\n",
       "      <td>no</td>\n",
       "      <td>True</td>\n",
       "    </tr>\n",
       "  </tbody>\n",
       "</table>\n",
       "</div>"
      ],
      "text/plain": [
       "     survived  pclass     sex   age  sibsp  parch   fare embarked    who  \\\n",
       "887         1       1  female  19.0      0      0  30.00        S  woman   \n",
       "888         0       3  female  19.0      1      2  23.45        S  woman   \n",
       "889         1       1    male  26.0      0      0  30.00        C    man   \n",
       "890         0       3    male  32.0      0      0   7.75        Q    man   \n",
       "\n",
       "     adult_male  embark_town alive  alone  \n",
       "887       False  Southampton   yes   True  \n",
       "888       False  Southampton    no  False  \n",
       "889        True    Cherbourg   yes   True  \n",
       "890        True   Queenstown    no   True  "
      ]
     },
     "execution_count": 348,
     "metadata": {},
     "output_type": "execute_result"
    }
   ],
   "source": [
    "# All NaN values replaced with the value in the row above it\n",
    "titanic.ffill().tail(4)"
   ]
  },
  {
   "cell_type": "markdown",
   "id": "aaa5d614",
   "metadata": {},
   "source": [
    "- Notice the value in column `age` in row 888 was replaced with the value in row 887\n",
    "- If there are no values in all the rows above it, it remains `NaN`"
   ]
  },
  {
   "cell_type": "markdown",
   "id": "ec66734a",
   "metadata": {},
   "source": [
    "Fill in all `NaN` values with the value in the row after it using `.bfill()`"
   ]
  },
  {
   "cell_type": "code",
   "execution_count": 354,
   "id": "8b32807c",
   "metadata": {},
   "outputs": [
    {
     "data": {
      "text/html": [
       "<div>\n",
       "<style scoped>\n",
       "    .dataframe tbody tr th:only-of-type {\n",
       "        vertical-align: middle;\n",
       "    }\n",
       "\n",
       "    .dataframe tbody tr th {\n",
       "        vertical-align: top;\n",
       "    }\n",
       "\n",
       "    .dataframe thead th {\n",
       "        text-align: right;\n",
       "    }\n",
       "</style>\n",
       "<table border=\"1\" class=\"dataframe\">\n",
       "  <thead>\n",
       "    <tr style=\"text-align: right;\">\n",
       "      <th></th>\n",
       "      <th>survived</th>\n",
       "      <th>pclass</th>\n",
       "      <th>sex</th>\n",
       "      <th>age</th>\n",
       "      <th>sibsp</th>\n",
       "      <th>parch</th>\n",
       "      <th>fare</th>\n",
       "      <th>embarked</th>\n",
       "      <th>who</th>\n",
       "      <th>adult_male</th>\n",
       "      <th>embark_town</th>\n",
       "      <th>alive</th>\n",
       "      <th>alone</th>\n",
       "    </tr>\n",
       "  </thead>\n",
       "  <tbody>\n",
       "    <tr>\n",
       "      <th>888</th>\n",
       "      <td>0</td>\n",
       "      <td>3</td>\n",
       "      <td>female</td>\n",
       "      <td>26.0</td>\n",
       "      <td>1</td>\n",
       "      <td>2</td>\n",
       "      <td>23.45</td>\n",
       "      <td>S</td>\n",
       "      <td>woman</td>\n",
       "      <td>False</td>\n",
       "      <td>Southampton</td>\n",
       "      <td>no</td>\n",
       "      <td>False</td>\n",
       "    </tr>\n",
       "    <tr>\n",
       "      <th>889</th>\n",
       "      <td>1</td>\n",
       "      <td>1</td>\n",
       "      <td>male</td>\n",
       "      <td>26.0</td>\n",
       "      <td>0</td>\n",
       "      <td>0</td>\n",
       "      <td>30.00</td>\n",
       "      <td>C</td>\n",
       "      <td>man</td>\n",
       "      <td>True</td>\n",
       "      <td>Cherbourg</td>\n",
       "      <td>yes</td>\n",
       "      <td>True</td>\n",
       "    </tr>\n",
       "    <tr>\n",
       "      <th>890</th>\n",
       "      <td>0</td>\n",
       "      <td>3</td>\n",
       "      <td>male</td>\n",
       "      <td>32.0</td>\n",
       "      <td>0</td>\n",
       "      <td>0</td>\n",
       "      <td>7.75</td>\n",
       "      <td>Q</td>\n",
       "      <td>man</td>\n",
       "      <td>True</td>\n",
       "      <td>Queenstown</td>\n",
       "      <td>no</td>\n",
       "      <td>True</td>\n",
       "    </tr>\n",
       "  </tbody>\n",
       "</table>\n",
       "</div>"
      ],
      "text/plain": [
       "     survived  pclass     sex   age  sibsp  parch   fare embarked    who  \\\n",
       "888         0       3  female  26.0      1      2  23.45        S  woman   \n",
       "889         1       1    male  26.0      0      0  30.00        C    man   \n",
       "890         0       3    male  32.0      0      0   7.75        Q    man   \n",
       "\n",
       "     adult_male  embark_town alive  alone  \n",
       "888       False  Southampton    no  False  \n",
       "889        True    Cherbourg   yes   True  \n",
       "890        True   Queenstown    no   True  "
      ]
     },
     "execution_count": 354,
     "metadata": {},
     "output_type": "execute_result"
    }
   ],
   "source": [
    "# All NaN values replaced with the value in the row below it\n",
    "titanic.bfill().tail(3)"
   ]
  },
  {
   "cell_type": "markdown",
   "id": "1ab0fb48",
   "metadata": {},
   "source": [
    "- Notice the value in column `age` in row 888 was replaced with the value in row 889"
   ]
  },
  {
   "cell_type": "markdown",
   "id": "a0499295",
   "metadata": {},
   "source": [
    "Fill in `NaN` values in specified column(s) only"
   ]
  },
  {
   "cell_type": "code",
   "execution_count": 357,
   "id": "7335a6db",
   "metadata": {},
   "outputs": [
    {
     "data": {
      "text/html": [
       "<div>\n",
       "<style scoped>\n",
       "    .dataframe tbody tr th:only-of-type {\n",
       "        vertical-align: middle;\n",
       "    }\n",
       "\n",
       "    .dataframe tbody tr th {\n",
       "        vertical-align: top;\n",
       "    }\n",
       "\n",
       "    .dataframe thead th {\n",
       "        text-align: right;\n",
       "    }\n",
       "</style>\n",
       "<table border=\"1\" class=\"dataframe\">\n",
       "  <thead>\n",
       "    <tr style=\"text-align: right;\">\n",
       "      <th></th>\n",
       "      <th>survived</th>\n",
       "      <th>pclass</th>\n",
       "      <th>sex</th>\n",
       "      <th>age</th>\n",
       "      <th>sibsp</th>\n",
       "      <th>parch</th>\n",
       "      <th>fare</th>\n",
       "      <th>embarked</th>\n",
       "      <th>who</th>\n",
       "      <th>adult_male</th>\n",
       "      <th>embark_town</th>\n",
       "      <th>alive</th>\n",
       "      <th>alone</th>\n",
       "    </tr>\n",
       "  </thead>\n",
       "  <tbody>\n",
       "    <tr>\n",
       "      <th>888</th>\n",
       "      <td>0</td>\n",
       "      <td>3</td>\n",
       "      <td>female</td>\n",
       "      <td>999.0</td>\n",
       "      <td>1</td>\n",
       "      <td>2</td>\n",
       "      <td>23.45</td>\n",
       "      <td>S</td>\n",
       "      <td>woman</td>\n",
       "      <td>False</td>\n",
       "      <td>Southampton</td>\n",
       "      <td>no</td>\n",
       "      <td>False</td>\n",
       "    </tr>\n",
       "    <tr>\n",
       "      <th>889</th>\n",
       "      <td>1</td>\n",
       "      <td>1</td>\n",
       "      <td>male</td>\n",
       "      <td>26.0</td>\n",
       "      <td>0</td>\n",
       "      <td>0</td>\n",
       "      <td>30.00</td>\n",
       "      <td>C</td>\n",
       "      <td>man</td>\n",
       "      <td>True</td>\n",
       "      <td>Cherbourg</td>\n",
       "      <td>yes</td>\n",
       "      <td>True</td>\n",
       "    </tr>\n",
       "    <tr>\n",
       "      <th>890</th>\n",
       "      <td>0</td>\n",
       "      <td>3</td>\n",
       "      <td>male</td>\n",
       "      <td>32.0</td>\n",
       "      <td>0</td>\n",
       "      <td>0</td>\n",
       "      <td>7.75</td>\n",
       "      <td>Q</td>\n",
       "      <td>man</td>\n",
       "      <td>True</td>\n",
       "      <td>Queenstown</td>\n",
       "      <td>no</td>\n",
       "      <td>True</td>\n",
       "    </tr>\n",
       "  </tbody>\n",
       "</table>\n",
       "</div>"
      ],
      "text/plain": [
       "     survived  pclass     sex    age  sibsp  parch   fare embarked    who  \\\n",
       "888         0       3  female  999.0      1      2  23.45        S  woman   \n",
       "889         1       1    male   26.0      0      0  30.00        C    man   \n",
       "890         0       3    male   32.0      0      0   7.75        Q    man   \n",
       "\n",
       "     adult_male  embark_town alive  alone  \n",
       "888       False  Southampton    no  False  \n",
       "889        True    Cherbourg   yes   True  \n",
       "890        True   Queenstown    no   True  "
      ]
     },
     "execution_count": 357,
     "metadata": {},
     "output_type": "execute_result"
    }
   ],
   "source": [
    "# All NaN values in column age is replaced with 999\n",
    "titanic.fillna(value={\"age\":999}).tail(3)"
   ]
  },
  {
   "cell_type": "markdown",
   "id": "25bb1753",
   "metadata": {},
   "source": [
    "- Notice the value in column `age` in row 888 was replaced with `999.0`\n",
    "- Add arg `inplace=True` to modify the original dataframe"
   ]
  },
  {
   "cell_type": "markdown",
   "id": "9343ee97",
   "metadata": {},
   "source": [
    "### Remove `NaN`"
   ]
  },
  {
   "cell_type": "markdown",
   "id": "8d56ef1e",
   "metadata": {},
   "source": [
    "Drop entire row if `NaN` values in any column"
   ]
  },
  {
   "cell_type": "code",
   "execution_count": 358,
   "id": "daeadf80",
   "metadata": {},
   "outputs": [
    {
     "data": {
      "text/html": [
       "<div>\n",
       "<style scoped>\n",
       "    .dataframe tbody tr th:only-of-type {\n",
       "        vertical-align: middle;\n",
       "    }\n",
       "\n",
       "    .dataframe tbody tr th {\n",
       "        vertical-align: top;\n",
       "    }\n",
       "\n",
       "    .dataframe thead th {\n",
       "        text-align: right;\n",
       "    }\n",
       "</style>\n",
       "<table border=\"1\" class=\"dataframe\">\n",
       "  <thead>\n",
       "    <tr style=\"text-align: right;\">\n",
       "      <th></th>\n",
       "      <th>survived</th>\n",
       "      <th>pclass</th>\n",
       "      <th>sex</th>\n",
       "      <th>age</th>\n",
       "      <th>sibsp</th>\n",
       "      <th>parch</th>\n",
       "      <th>fare</th>\n",
       "      <th>embarked</th>\n",
       "      <th>who</th>\n",
       "      <th>adult_male</th>\n",
       "      <th>embark_town</th>\n",
       "      <th>alive</th>\n",
       "      <th>alone</th>\n",
       "    </tr>\n",
       "  </thead>\n",
       "  <tbody>\n",
       "    <tr>\n",
       "      <th>887</th>\n",
       "      <td>1</td>\n",
       "      <td>1</td>\n",
       "      <td>female</td>\n",
       "      <td>19.0</td>\n",
       "      <td>0</td>\n",
       "      <td>0</td>\n",
       "      <td>30.00</td>\n",
       "      <td>S</td>\n",
       "      <td>woman</td>\n",
       "      <td>False</td>\n",
       "      <td>Southampton</td>\n",
       "      <td>yes</td>\n",
       "      <td>True</td>\n",
       "    </tr>\n",
       "    <tr>\n",
       "      <th>889</th>\n",
       "      <td>1</td>\n",
       "      <td>1</td>\n",
       "      <td>male</td>\n",
       "      <td>26.0</td>\n",
       "      <td>0</td>\n",
       "      <td>0</td>\n",
       "      <td>30.00</td>\n",
       "      <td>C</td>\n",
       "      <td>man</td>\n",
       "      <td>True</td>\n",
       "      <td>Cherbourg</td>\n",
       "      <td>yes</td>\n",
       "      <td>True</td>\n",
       "    </tr>\n",
       "    <tr>\n",
       "      <th>890</th>\n",
       "      <td>0</td>\n",
       "      <td>3</td>\n",
       "      <td>male</td>\n",
       "      <td>32.0</td>\n",
       "      <td>0</td>\n",
       "      <td>0</td>\n",
       "      <td>7.75</td>\n",
       "      <td>Q</td>\n",
       "      <td>man</td>\n",
       "      <td>True</td>\n",
       "      <td>Queenstown</td>\n",
       "      <td>no</td>\n",
       "      <td>True</td>\n",
       "    </tr>\n",
       "  </tbody>\n",
       "</table>\n",
       "</div>"
      ],
      "text/plain": [
       "     survived  pclass     sex   age  sibsp  parch   fare embarked    who  \\\n",
       "887         1       1  female  19.0      0      0  30.00        S  woman   \n",
       "889         1       1    male  26.0      0      0  30.00        C    man   \n",
       "890         0       3    male  32.0      0      0   7.75        Q    man   \n",
       "\n",
       "     adult_male  embark_town alive  alone  \n",
       "887       False  Southampton   yes   True  \n",
       "889        True    Cherbourg   yes   True  \n",
       "890        True   Queenstown    no   True  "
      ]
     },
     "execution_count": 358,
     "metadata": {},
     "output_type": "execute_result"
    }
   ],
   "source": [
    "titanic.dropna().tail(3)"
   ]
  },
  {
   "cell_type": "markdown",
   "id": "155ceb63",
   "metadata": {},
   "source": [
    "- Notice index 888 is missing since that row was dropped\n",
    "- Add arg `subset=[]` with list of column names to apply drop only to given column names\n",
    "- Add arg `how` to define amount of elements to drop\n",
    "- Add arg `axis=0` or `axis=\"index\"` to drop row, or `axis=1` or `axis=\"columns\"` to drop column"
   ]
  },
  {
   "cell_type": "markdown",
   "id": "68c6a8a1",
   "metadata": {},
   "source": [
    "### Performing Calculations When `NaN` is Present\n",
    "- When a calculation is performed with `NaN` values present, it typically returns `NaN` unless built-in methods ignore missing values\n",
    "    - e.g., `skipna=True` argument in `mean()` and `sum()` will not include `NaN` in their calculations"
   ]
  },
  {
   "cell_type": "markdown",
   "id": "f7a89990",
   "metadata": {},
   "source": [
    "Multiplying each element in the `age` column by 100 returns `NaN` if it is `NaN` in that row"
   ]
  },
  {
   "cell_type": "code",
   "execution_count": 360,
   "id": "44f3080f",
   "metadata": {},
   "outputs": [
    {
     "data": {
      "text/html": [
       "<div>\n",
       "<style scoped>\n",
       "    .dataframe tbody tr th:only-of-type {\n",
       "        vertical-align: middle;\n",
       "    }\n",
       "\n",
       "    .dataframe tbody tr th {\n",
       "        vertical-align: top;\n",
       "    }\n",
       "\n",
       "    .dataframe thead th {\n",
       "        text-align: right;\n",
       "    }\n",
       "</style>\n",
       "<table border=\"1\" class=\"dataframe\">\n",
       "  <thead>\n",
       "    <tr style=\"text-align: right;\">\n",
       "      <th></th>\n",
       "      <th>survived</th>\n",
       "      <th>pclass</th>\n",
       "      <th>sex</th>\n",
       "      <th>age</th>\n",
       "      <th>sibsp</th>\n",
       "      <th>parch</th>\n",
       "      <th>fare</th>\n",
       "      <th>embarked</th>\n",
       "      <th>who</th>\n",
       "      <th>adult_male</th>\n",
       "      <th>embark_town</th>\n",
       "      <th>alive</th>\n",
       "      <th>alone</th>\n",
       "      <th>age2</th>\n",
       "    </tr>\n",
       "  </thead>\n",
       "  <tbody>\n",
       "    <tr>\n",
       "      <th>888</th>\n",
       "      <td>0</td>\n",
       "      <td>3</td>\n",
       "      <td>female</td>\n",
       "      <td>NaN</td>\n",
       "      <td>1</td>\n",
       "      <td>2</td>\n",
       "      <td>23.45</td>\n",
       "      <td>S</td>\n",
       "      <td>woman</td>\n",
       "      <td>False</td>\n",
       "      <td>Southampton</td>\n",
       "      <td>no</td>\n",
       "      <td>False</td>\n",
       "      <td>NaN</td>\n",
       "    </tr>\n",
       "    <tr>\n",
       "      <th>889</th>\n",
       "      <td>1</td>\n",
       "      <td>1</td>\n",
       "      <td>male</td>\n",
       "      <td>26.0</td>\n",
       "      <td>0</td>\n",
       "      <td>0</td>\n",
       "      <td>30.00</td>\n",
       "      <td>C</td>\n",
       "      <td>man</td>\n",
       "      <td>True</td>\n",
       "      <td>Cherbourg</td>\n",
       "      <td>yes</td>\n",
       "      <td>True</td>\n",
       "      <td>2600.0</td>\n",
       "    </tr>\n",
       "    <tr>\n",
       "      <th>890</th>\n",
       "      <td>0</td>\n",
       "      <td>3</td>\n",
       "      <td>male</td>\n",
       "      <td>32.0</td>\n",
       "      <td>0</td>\n",
       "      <td>0</td>\n",
       "      <td>7.75</td>\n",
       "      <td>Q</td>\n",
       "      <td>man</td>\n",
       "      <td>True</td>\n",
       "      <td>Queenstown</td>\n",
       "      <td>no</td>\n",
       "      <td>True</td>\n",
       "      <td>3200.0</td>\n",
       "    </tr>\n",
       "  </tbody>\n",
       "</table>\n",
       "</div>"
      ],
      "text/plain": [
       "     survived  pclass     sex   age  sibsp  parch   fare embarked    who  \\\n",
       "888         0       3  female   NaN      1      2  23.45        S  woman   \n",
       "889         1       1    male  26.0      0      0  30.00        C    man   \n",
       "890         0       3    male  32.0      0      0   7.75        Q    man   \n",
       "\n",
       "     adult_male  embark_town alive  alone    age2  \n",
       "888       False  Southampton    no  False     NaN  \n",
       "889        True    Cherbourg   yes   True  2600.0  \n",
       "890        True   Queenstown    no   True  3200.0  "
      ]
     },
     "execution_count": 360,
     "metadata": {},
     "output_type": "execute_result"
    }
   ],
   "source": [
    "# `.assign` temporarily adds a column to avoid adding it permanently \n",
    "titanic.assign(age2=titanic.loc[:, \"age\"] * 100).tail(3)"
   ]
  },
  {
   "cell_type": "markdown",
   "id": "d2eaf571",
   "metadata": {},
   "source": [
    "- Notice how the value in column `age2` in row 888 is `NaN` because the value in column `age` is `NaN`"
   ]
  },
  {
   "cell_type": "markdown",
   "id": "294289fc",
   "metadata": {},
   "source": [
    "### Add `NaN` When Re-indexing Dataframe\n",
    "- Common usage is when index represents some kind of interval and want to add missing values in-between\n",
    "\n",
    "Example: find the mean fares amounts for every age in the `titanic` dataset"
   ]
  },
  {
   "cell_type": "code",
   "execution_count": 387,
   "id": "32553dfe",
   "metadata": {},
   "outputs": [
    {
     "data": {
      "text/plain": [
       "age\n",
       "71.0    42.0792\n",
       "74.0     7.7750\n",
       "80.0    30.0000\n",
       "Name: fare, dtype: float64"
      ]
     },
     "execution_count": 387,
     "metadata": {},
     "output_type": "execute_result"
    }
   ],
   "source": [
    "# Added `.round()` to round ages to integers (`.groupby` is explained below)\n",
    "fares_by_age = titanic.round({\"age\":0}).groupby([\"age\"])[\"fare\"].agg(\"mean\")\n",
    "fares_by_age.tail(3)"
   ]
  },
  {
   "cell_type": "markdown",
   "id": "c70f51a3",
   "metadata": {},
   "source": [
    "- Notice that there are certain ages of people that were not on the titanic"
   ]
  },
  {
   "cell_type": "markdown",
   "id": "14afa3dc",
   "metadata": {},
   "source": [
    "Create missing ages within an interval and assign them as `NaN`"
   ]
  },
  {
   "cell_type": "code",
   "execution_count": 366,
   "id": "8bf02d1f",
   "metadata": {},
   "outputs": [
    {
     "data": {
      "text/plain": [
       "age\n",
       "74     7.775\n",
       "75       NaN\n",
       "76       NaN\n",
       "77       NaN\n",
       "78       NaN\n",
       "79       NaN\n",
       "80    30.000\n",
       "Name: fare, dtype: float64"
      ]
     },
     "execution_count": 366,
     "metadata": {},
     "output_type": "execute_result"
    }
   ],
   "source": [
    "# Create NaN values for missing ages between 74 and 80\n",
    "fares_by_age.reindex(range(74, 81))"
   ]
  },
  {
   "cell_type": "markdown",
   "id": "eb0cc71e",
   "metadata": {},
   "source": [
    "- Since the data only contained ages 74 and 80, ages 75-79 are assigned `NaN`"
   ]
  },
  {
   "cell_type": "markdown",
   "id": "e32dee7d",
   "metadata": {},
   "source": [
    "### Depreciated Methods and Functions\n",
    "\n",
    "***`.interpolate()`***\n",
    "\n",
    "Fill in all `NaN` values with values in the middle of values between it\n",
    "```python\n",
    "titanic.interpolate().tail()\n",
    "```\n",
    "- If the ages on either side of a `NaN` were 18 and 20, the `NaN` would be replaced with 19"
   ]
  },
  {
   "cell_type": "markdown",
   "id": "b8ddbbbf",
   "metadata": {},
   "source": [
    "<a id='grouped_and_aggregated_calculations'></a>\n",
    "## Grouping\n",
    "\n",
    "Grouping is based on a \"split-apply-combine\" workflow\n",
    "- Split means splitting up the data into groups\n",
    "- Apply means to apply a function to each group\n",
    "- Combine means to combine the results into a new dataset"
   ]
  },
  {
   "cell_type": "markdown",
   "id": "0cb2a923",
   "metadata": {},
   "source": [
    "### Grouping: Split\n",
    "\n",
    "Group data by a single column"
   ]
  },
  {
   "cell_type": "code",
   "execution_count": 411,
   "id": "ca8f9968",
   "metadata": {},
   "outputs": [
    {
     "data": {
      "text/plain": [
       "<pandas.core.groupby.generic.DataFrameGroupBy object at 0x793b4cef2fc0>"
      ]
     },
     "execution_count": 411,
     "metadata": {},
     "output_type": "execute_result"
    }
   ],
   "source": [
    "titanic.groupby(\"sex\")"
   ]
  },
  {
   "cell_type": "markdown",
   "id": "881e4ea1",
   "metadata": {},
   "source": [
    "- Grouping returns the data type (a `DataFrameGroupBy` object) and the memory location"
   ]
  },
  {
   "cell_type": "markdown",
   "id": "fbc80a79",
   "metadata": {},
   "source": [
    "Goup data by multiple columns by passing a list"
   ]
  },
  {
   "cell_type": "code",
   "execution_count": 412,
   "id": "142908f5",
   "metadata": {},
   "outputs": [
    {
     "data": {
      "text/plain": [
       "<pandas.core.groupby.generic.DataFrameGroupBy object at 0x793b4cef0b60>"
      ]
     },
     "execution_count": 412,
     "metadata": {},
     "output_type": "execute_result"
    }
   ],
   "source": [
    "titanic.groupby([\"sex\", \"age\"])"
   ]
  },
  {
   "cell_type": "markdown",
   "id": "15438338",
   "metadata": {},
   "source": [
    "Return all data from a single group"
   ]
  },
  {
   "cell_type": "code",
   "execution_count": 415,
   "id": "55cab33d",
   "metadata": {},
   "outputs": [
    {
     "data": {
      "text/html": [
       "<div>\n",
       "<style scoped>\n",
       "    .dataframe tbody tr th:only-of-type {\n",
       "        vertical-align: middle;\n",
       "    }\n",
       "\n",
       "    .dataframe tbody tr th {\n",
       "        vertical-align: top;\n",
       "    }\n",
       "\n",
       "    .dataframe thead th {\n",
       "        text-align: right;\n",
       "    }\n",
       "</style>\n",
       "<table border=\"1\" class=\"dataframe\">\n",
       "  <thead>\n",
       "    <tr style=\"text-align: right;\">\n",
       "      <th></th>\n",
       "      <th>survived</th>\n",
       "      <th>pclass</th>\n",
       "      <th>sex</th>\n",
       "      <th>age</th>\n",
       "      <th>sibsp</th>\n",
       "      <th>parch</th>\n",
       "      <th>fare</th>\n",
       "      <th>embarked</th>\n",
       "      <th>who</th>\n",
       "      <th>adult_male</th>\n",
       "      <th>embark_town</th>\n",
       "      <th>alive</th>\n",
       "      <th>alone</th>\n",
       "    </tr>\n",
       "  </thead>\n",
       "  <tbody>\n",
       "    <tr>\n",
       "      <th>0</th>\n",
       "      <td>0</td>\n",
       "      <td>3</td>\n",
       "      <td>male</td>\n",
       "      <td>22.0</td>\n",
       "      <td>1</td>\n",
       "      <td>0</td>\n",
       "      <td>7.2500</td>\n",
       "      <td>S</td>\n",
       "      <td>man</td>\n",
       "      <td>True</td>\n",
       "      <td>Southampton</td>\n",
       "      <td>no</td>\n",
       "      <td>False</td>\n",
       "    </tr>\n",
       "    <tr>\n",
       "      <th>4</th>\n",
       "      <td>0</td>\n",
       "      <td>3</td>\n",
       "      <td>male</td>\n",
       "      <td>35.0</td>\n",
       "      <td>0</td>\n",
       "      <td>0</td>\n",
       "      <td>8.0500</td>\n",
       "      <td>S</td>\n",
       "      <td>man</td>\n",
       "      <td>True</td>\n",
       "      <td>Southampton</td>\n",
       "      <td>no</td>\n",
       "      <td>True</td>\n",
       "    </tr>\n",
       "    <tr>\n",
       "      <th>5</th>\n",
       "      <td>0</td>\n",
       "      <td>3</td>\n",
       "      <td>male</td>\n",
       "      <td>NaN</td>\n",
       "      <td>0</td>\n",
       "      <td>0</td>\n",
       "      <td>8.4583</td>\n",
       "      <td>Q</td>\n",
       "      <td>man</td>\n",
       "      <td>True</td>\n",
       "      <td>Queenstown</td>\n",
       "      <td>no</td>\n",
       "      <td>True</td>\n",
       "    </tr>\n",
       "  </tbody>\n",
       "</table>\n",
       "</div>"
      ],
      "text/plain": [
       "   survived  pclass   sex   age  sibsp  parch    fare embarked  who  \\\n",
       "0         0       3  male  22.0      1      0  7.2500        S  man   \n",
       "4         0       3  male  35.0      0      0  8.0500        S  man   \n",
       "5         0       3  male   NaN      0      0  8.4583        Q  man   \n",
       "\n",
       "   adult_male  embark_town alive  alone  \n",
       "0        True  Southampton    no  False  \n",
       "4        True  Southampton    no   True  \n",
       "5        True   Queenstown    no   True  "
      ]
     },
     "execution_count": 415,
     "metadata": {},
     "output_type": "execute_result"
    }
   ],
   "source": [
    "# Returns all rows where the sex is male\n",
    "titanic.groupby(\"sex\").get_group(\"male\").head(3)"
   ]
  },
  {
   "cell_type": "markdown",
   "id": "3871a2a5",
   "metadata": {},
   "source": [
    "Iterate through every group"
   ]
  },
  {
   "cell_type": "code",
   "execution_count": 410,
   "id": "dc2d2bea",
   "metadata": {},
   "outputs": [
    {
     "name": "stdout",
     "output_type": "stream",
     "text": [
      "Group name: female\n",
      "Group dataframe:\n",
      "   survived  pclass     sex   age  sibsp  parch     fare embarked    who  \\\n",
      "1         1       1  female  38.0      1      0  71.2833        C  woman   \n",
      "2         1       3  female  26.0      0      0   7.9250        S  woman   \n",
      "3         1       1  female  35.0      1      0  53.1000        S  woman   \n",
      "\n",
      "   adult_male  embark_town alive  alone  \n",
      "1       False    Cherbourg   yes  False  \n",
      "2       False  Southampton   yes   True  \n",
      "3       False  Southampton   yes  False  \n",
      "\n",
      "Group name: male\n",
      "Group dataframe:\n",
      "   survived  pclass   sex   age  sibsp  parch    fare embarked  who  \\\n",
      "0         0       3  male  22.0      1      0  7.2500        S  man   \n",
      "4         0       3  male  35.0      0      0  8.0500        S  man   \n",
      "5         0       3  male   NaN      0      0  8.4583        Q  man   \n",
      "\n",
      "   adult_male  embark_town alive  alone  \n",
      "0        True  Southampton    no  False  \n",
      "4        True  Southampton    no   True  \n",
      "5        True   Queenstown    no   True  \n",
      "\n"
     ]
    }
   ],
   "source": [
    "# Split dataset into groups by sex\n",
    "for group in titanic.groupby(\"sex\"):\n",
    "    print(f\"Group name: {group[0]}\") # group name\n",
    "    print(f\"Group dataframe:\\n{group[1].head(3)}\\n\") # dataframe"
   ]
  },
  {
   "cell_type": "markdown",
   "id": "13e69388",
   "metadata": {},
   "source": [
    "- Returns tuple\n",
    "    - The first element is the name of group\n",
    "    - The second element is the dataframe of the group"
   ]
  },
  {
   "cell_type": "markdown",
   "id": "b0810de9",
   "metadata": {},
   "source": [
    "### Grouping: Apply and Combine\n"
   ]
  },
  {
   "cell_type": "markdown",
   "id": "054094b7",
   "metadata": {},
   "source": [
    "Apply a single function to every group and combine into a new dataset"
   ]
  },
  {
   "cell_type": "code",
   "execution_count": 403,
   "id": "77fcaadf",
   "metadata": {},
   "outputs": [
    {
     "data": {
      "text/plain": [
       "sex\n",
       "female    44.479818\n",
       "male      25.523893\n",
       "Name: fare, dtype: float64"
      ]
     },
     "execution_count": 403,
     "metadata": {},
     "output_type": "execute_result"
    }
   ],
   "source": [
    "# Calculate the mean fare for each group\n",
    "titanic.groupby(\"sex\")[\"fare\"].agg(\"mean\")"
   ]
  },
  {
   "cell_type": "markdown",
   "id": "ac50f822",
   "metadata": {},
   "source": [
    "Apply a single CUSTOM function to every group and combine into a new dataset"
   ]
  },
  {
   "cell_type": "code",
   "execution_count": 437,
   "id": "8f0bf76b",
   "metadata": {},
   "outputs": [
    {
     "data": {
      "text/plain": [
       "sex\n",
       "female    44.479818\n",
       "male      25.523893\n",
       "Name: fare, dtype: float64"
      ]
     },
     "execution_count": 437,
     "metadata": {},
     "output_type": "execute_result"
    }
   ],
   "source": [
    "# Apply custom function for calculating the mean manually\n",
    "def calc_mean(values):\n",
    "    sum = 0\n",
    "    for value in values:\n",
    "        sum += value\n",
    "    return(sum / len(values))\n",
    "\n",
    "titanic.groupby(\"sex\", observed=True)[\"fare\"].agg(calc_mean)"
   ]
  },
  {
   "cell_type": "markdown",
   "id": "5d81eb5d",
   "metadata": {},
   "source": [
    "- `values` arg here are arrays of fare amounts separated by sex and is automatically passed into the function in `.agg()`\n",
    "- Arg `observed=True` added due to FutureWarning"
   ]
  },
  {
   "cell_type": "markdown",
   "id": "02f1e8dc",
   "metadata": {},
   "source": [
    "Apply a single CUSTOM function with additional arguments to every group and combine into a new dataset"
   ]
  },
  {
   "cell_type": "code",
   "execution_count": null,
   "id": "81e1a196",
   "metadata": {},
   "outputs": [
    {
     "data": {
      "text/plain": [
       "sex\n",
       "female    12.275610\n",
       "male      -6.680315\n",
       "Name: fare, dtype: float64"
      ]
     },
     "execution_count": 435,
     "metadata": {},
     "output_type": "execute_result"
    }
   ],
   "source": [
    "# Apply custom function with additional arguments\n",
    "# Calculate the mean by sex then subtract by the global mean\n",
    "def mean_dif(values, diff_value):\n",
    "    sum = 0\n",
    "    for value in values:\n",
    "        sum += value\n",
    "    return sum/len(values) - diff_value\n",
    "titanic.groupby(\"sex\")[\"fare\"].agg(mean_dif, diff_value=titanic[\"fare\"].mean())"
   ]
  },
  {
   "cell_type": "markdown",
   "id": "1dd01375",
   "metadata": {},
   "source": [
    "Apply multiple functions to every group and combine into a new dataset"
   ]
  },
  {
   "cell_type": "code",
   "execution_count": 416,
   "id": "9b1bda7e",
   "metadata": {},
   "outputs": [
    {
     "data": {
      "text/html": [
       "<div>\n",
       "<style scoped>\n",
       "    .dataframe tbody tr th:only-of-type {\n",
       "        vertical-align: middle;\n",
       "    }\n",
       "\n",
       "    .dataframe tbody tr th {\n",
       "        vertical-align: top;\n",
       "    }\n",
       "\n",
       "    .dataframe thead th {\n",
       "        text-align: right;\n",
       "    }\n",
       "</style>\n",
       "<table border=\"1\" class=\"dataframe\">\n",
       "  <thead>\n",
       "    <tr style=\"text-align: right;\">\n",
       "      <th></th>\n",
       "      <th>mean</th>\n",
       "      <th>std</th>\n",
       "    </tr>\n",
       "    <tr>\n",
       "      <th>sex</th>\n",
       "      <th></th>\n",
       "      <th></th>\n",
       "    </tr>\n",
       "  </thead>\n",
       "  <tbody>\n",
       "    <tr>\n",
       "      <th>female</th>\n",
       "      <td>44.479818</td>\n",
       "      <td>57.997698</td>\n",
       "    </tr>\n",
       "    <tr>\n",
       "      <th>male</th>\n",
       "      <td>25.523893</td>\n",
       "      <td>43.138263</td>\n",
       "    </tr>\n",
       "  </tbody>\n",
       "</table>\n",
       "</div>"
      ],
      "text/plain": [
       "             mean        std\n",
       "sex                         \n",
       "female  44.479818  57.997698\n",
       "male    25.523893  43.138263"
      ]
     },
     "execution_count": 416,
     "metadata": {},
     "output_type": "execute_result"
    }
   ],
   "source": [
    "# Calculate the mean and std fare for each group\n",
    "titanic.groupby(\"sex\")[\"fare\"].agg([\"mean\", \"std\"]).head(3)"
   ]
  },
  {
   "cell_type": "markdown",
   "id": "7005caff",
   "metadata": {},
   "source": [
    "Apply multiple functions to multiple columns by passing a `dict` and combine into a new dataset"
   ]
  },
  {
   "cell_type": "code",
   "execution_count": 417,
   "id": "3b631996",
   "metadata": {},
   "outputs": [
    {
     "data": {
      "text/html": [
       "<div>\n",
       "<style scoped>\n",
       "    .dataframe tbody tr th:only-of-type {\n",
       "        vertical-align: middle;\n",
       "    }\n",
       "\n",
       "    .dataframe tbody tr th {\n",
       "        vertical-align: top;\n",
       "    }\n",
       "\n",
       "    .dataframe thead th {\n",
       "        text-align: right;\n",
       "    }\n",
       "</style>\n",
       "<table border=\"1\" class=\"dataframe\">\n",
       "  <thead>\n",
       "    <tr style=\"text-align: right;\">\n",
       "      <th></th>\n",
       "      <th>fare</th>\n",
       "      <th>sibsp</th>\n",
       "    </tr>\n",
       "    <tr>\n",
       "      <th>sex</th>\n",
       "      <th></th>\n",
       "      <th></th>\n",
       "    </tr>\n",
       "  </thead>\n",
       "  <tbody>\n",
       "    <tr>\n",
       "      <th>female</th>\n",
       "      <td>44.479818</td>\n",
       "      <td>0.0</td>\n",
       "    </tr>\n",
       "    <tr>\n",
       "      <th>male</th>\n",
       "      <td>25.523893</td>\n",
       "      <td>0.0</td>\n",
       "    </tr>\n",
       "  </tbody>\n",
       "</table>\n",
       "</div>"
      ],
      "text/plain": [
       "             fare  sibsp\n",
       "sex                     \n",
       "female  44.479818    0.0\n",
       "male    25.523893    0.0"
      ]
     },
     "execution_count": 417,
     "metadata": {},
     "output_type": "execute_result"
    }
   ],
   "source": [
    "# Calculate the mean and mean fare for each group\n",
    "titanic.groupby(\"sex\").agg({\"fare\":\"mean\", \"sibsp\":\"median\"}).head(3)"
   ]
  },
  {
   "cell_type": "markdown",
   "id": "abebf799",
   "metadata": {},
   "source": [
    "- Keys = column name while values = functions to apply"
   ]
  },
  {
   "cell_type": "markdown",
   "id": "8ba26a2b",
   "metadata": {},
   "source": [
    "Apply a function to every group and return transformed dataframe with the same index as the original"
   ]
  },
  {
   "cell_type": "code",
   "execution_count": 418,
   "id": "a274cb0f",
   "metadata": {},
   "outputs": [
    {
     "data": {
      "text/plain": [
       "0   -0.423612\n",
       "1    0.462147\n",
       "2   -0.630280\n",
       "Name: fare, dtype: float64"
      ]
     },
     "execution_count": 418,
     "metadata": {},
     "output_type": "execute_result"
    }
   ],
   "source": [
    "# Calculate the z-score for fares based on sex's mean\n",
    "titanic.groupby(\"sex\")[\"fare\"].transform(lambda x: (x-x.mean()) / x.std()).head(3)"
   ]
  },
  {
   "cell_type": "markdown",
   "id": "52d8cb14",
   "metadata": {},
   "source": [
    "- What this code does is:\n",
    "    - Calculate the mean and std fare amounts for every group in column `sex` (i.e., `male` and `female`)\n",
    "    - For the first row, subtract the mean fare amount for that group's sex from the fare amount\n",
    "    - Then divide that amount by that group's sex's std\n",
    "    - Return that amount into the same index as that row\n",
    "    - Repeat for every row in the dataframe"
   ]
  },
  {
   "cell_type": "code",
   "execution_count": 441,
   "id": "dd188f14",
   "metadata": {},
   "outputs": [
    {
     "data": {
      "text/plain": [
       "888    27.915709\n",
       "889    26.000000\n",
       "890    32.000000\n",
       "Name: age, dtype: float64"
      ]
     },
     "execution_count": 441,
     "metadata": {},
     "output_type": "execute_result"
    }
   ],
   "source": [
    "# Calculate the mean age for \n",
    "titanic.groupby(\"sex\")[\"age\"].transform(lambda x: x.fillna(x.mean())).tail(3)"
   ]
  },
  {
   "cell_type": "markdown",
   "id": "b932965c",
   "metadata": {},
   "source": [
    "- What this code does is:\n",
    "    - Calculate the mean age for every group in column `sex` (i.e., `male` and `female`)\n",
    "    - For the first row, if the value under row `age` is `NaN`, replace it with that group's sex mean\n",
    "    - Return that amount into the same index as that row\n",
    "    - Repeat for every row in the dataframe"
   ]
  },
  {
   "cell_type": "markdown",
   "id": "d0ceb8c1",
   "metadata": {},
   "source": [
    "Filter groups based on a condition"
   ]
  },
  {
   "cell_type": "code",
   "execution_count": 424,
   "id": "ecb4a9d6",
   "metadata": {},
   "outputs": [
    {
     "data": {
      "text/html": [
       "<div>\n",
       "<style scoped>\n",
       "    .dataframe tbody tr th:only-of-type {\n",
       "        vertical-align: middle;\n",
       "    }\n",
       "\n",
       "    .dataframe tbody tr th {\n",
       "        vertical-align: top;\n",
       "    }\n",
       "\n",
       "    .dataframe thead th {\n",
       "        text-align: right;\n",
       "    }\n",
       "</style>\n",
       "<table border=\"1\" class=\"dataframe\">\n",
       "  <thead>\n",
       "    <tr style=\"text-align: right;\">\n",
       "      <th></th>\n",
       "      <th>survived</th>\n",
       "      <th>pclass</th>\n",
       "      <th>sex</th>\n",
       "      <th>age</th>\n",
       "      <th>sibsp</th>\n",
       "      <th>parch</th>\n",
       "      <th>fare</th>\n",
       "      <th>embarked</th>\n",
       "      <th>who</th>\n",
       "      <th>adult_male</th>\n",
       "      <th>embark_town</th>\n",
       "      <th>alive</th>\n",
       "      <th>alone</th>\n",
       "    </tr>\n",
       "  </thead>\n",
       "  <tbody>\n",
       "    <tr>\n",
       "      <th>0</th>\n",
       "      <td>0</td>\n",
       "      <td>3</td>\n",
       "      <td>male</td>\n",
       "      <td>22.0</td>\n",
       "      <td>1</td>\n",
       "      <td>0</td>\n",
       "      <td>7.2500</td>\n",
       "      <td>S</td>\n",
       "      <td>man</td>\n",
       "      <td>True</td>\n",
       "      <td>Southampton</td>\n",
       "      <td>no</td>\n",
       "      <td>False</td>\n",
       "    </tr>\n",
       "    <tr>\n",
       "      <th>4</th>\n",
       "      <td>0</td>\n",
       "      <td>3</td>\n",
       "      <td>male</td>\n",
       "      <td>35.0</td>\n",
       "      <td>0</td>\n",
       "      <td>0</td>\n",
       "      <td>8.0500</td>\n",
       "      <td>S</td>\n",
       "      <td>man</td>\n",
       "      <td>True</td>\n",
       "      <td>Southampton</td>\n",
       "      <td>no</td>\n",
       "      <td>True</td>\n",
       "    </tr>\n",
       "    <tr>\n",
       "      <th>5</th>\n",
       "      <td>0</td>\n",
       "      <td>3</td>\n",
       "      <td>male</td>\n",
       "      <td>NaN</td>\n",
       "      <td>0</td>\n",
       "      <td>0</td>\n",
       "      <td>8.4583</td>\n",
       "      <td>Q</td>\n",
       "      <td>man</td>\n",
       "      <td>True</td>\n",
       "      <td>Queenstown</td>\n",
       "      <td>no</td>\n",
       "      <td>True</td>\n",
       "    </tr>\n",
       "    <tr>\n",
       "      <th>6</th>\n",
       "      <td>0</td>\n",
       "      <td>1</td>\n",
       "      <td>male</td>\n",
       "      <td>54.0</td>\n",
       "      <td>0</td>\n",
       "      <td>0</td>\n",
       "      <td>51.8625</td>\n",
       "      <td>S</td>\n",
       "      <td>man</td>\n",
       "      <td>True</td>\n",
       "      <td>Southampton</td>\n",
       "      <td>no</td>\n",
       "      <td>True</td>\n",
       "    </tr>\n",
       "    <tr>\n",
       "      <th>7</th>\n",
       "      <td>0</td>\n",
       "      <td>3</td>\n",
       "      <td>male</td>\n",
       "      <td>2.0</td>\n",
       "      <td>3</td>\n",
       "      <td>1</td>\n",
       "      <td>21.0750</td>\n",
       "      <td>S</td>\n",
       "      <td>child</td>\n",
       "      <td>False</td>\n",
       "      <td>Southampton</td>\n",
       "      <td>no</td>\n",
       "      <td>False</td>\n",
       "    </tr>\n",
       "  </tbody>\n",
       "</table>\n",
       "</div>"
      ],
      "text/plain": [
       "   survived  pclass   sex   age  sibsp  parch     fare embarked    who  \\\n",
       "0         0       3  male  22.0      1      0   7.2500        S    man   \n",
       "4         0       3  male  35.0      0      0   8.0500        S    man   \n",
       "5         0       3  male   NaN      0      0   8.4583        Q    man   \n",
       "6         0       1  male  54.0      0      0  51.8625        S    man   \n",
       "7         0       3  male   2.0      3      1  21.0750        S  child   \n",
       "\n",
       "   adult_male  embark_town alive  alone  \n",
       "0        True  Southampton    no  False  \n",
       "4        True  Southampton    no   True  \n",
       "5        True   Queenstown    no   True  \n",
       "6        True  Southampton    no   True  \n",
       "7       False  Southampton    no  False  "
      ]
     },
     "execution_count": 424,
     "metadata": {},
     "output_type": "execute_result"
    }
   ],
   "source": [
    "# Retain groups that have > 440 rows\n",
    "titanic.groupby(\"sex\").filter(lambda x: len(x) > 440).head()"
   ]
  },
  {
   "cell_type": "markdown",
   "id": "7216be61",
   "metadata": {},
   "source": [
    "- Notice that female values are now missing, meaning there is less than 440 total rows with `female` in column `sex`"
   ]
  },
  {
   "cell_type": "markdown",
   "id": "2241a803",
   "metadata": {},
   "source": [
    "<a id='concatenation_adding_rows_or_columns_to_dataframe'></a>\n",
    "## Concatenation: Adding Row(s) or Columns(s) to Dataframe"
   ]
  },
  {
   "cell_type": "markdown",
   "id": "eb9f922b",
   "metadata": {},
   "source": [
    "### Add Row(s) to Dataframe"
   ]
  },
  {
   "cell_type": "markdown",
   "id": "46229a22",
   "metadata": {},
   "source": [
    "Add a row(s) to a dataframe"
   ]
  },
  {
   "cell_type": "code",
   "execution_count": null,
   "id": "44e3f3aa",
   "metadata": {},
   "outputs": [
    {
     "data": {
      "text/html": [
       "<div>\n",
       "<style scoped>\n",
       "    .dataframe tbody tr th:only-of-type {\n",
       "        vertical-align: middle;\n",
       "    }\n",
       "\n",
       "    .dataframe tbody tr th {\n",
       "        vertical-align: top;\n",
       "    }\n",
       "\n",
       "    .dataframe thead th {\n",
       "        text-align: right;\n",
       "    }\n",
       "</style>\n",
       "<table border=\"1\" class=\"dataframe\">\n",
       "  <thead>\n",
       "    <tr style=\"text-align: right;\">\n",
       "      <th></th>\n",
       "      <th>sepal_length</th>\n",
       "      <th>sepal_width</th>\n",
       "      <th>petal_length</th>\n",
       "      <th>petal_width</th>\n",
       "      <th>species</th>\n",
       "    </tr>\n",
       "  </thead>\n",
       "  <tbody>\n",
       "    <tr>\n",
       "      <th>148</th>\n",
       "      <td>6.2</td>\n",
       "      <td>3.4</td>\n",
       "      <td>5.4</td>\n",
       "      <td>2.3</td>\n",
       "      <td>virginica</td>\n",
       "    </tr>\n",
       "    <tr>\n",
       "      <th>149</th>\n",
       "      <td>5.9</td>\n",
       "      <td>3.0</td>\n",
       "      <td>5.1</td>\n",
       "      <td>1.8</td>\n",
       "      <td>virginica</td>\n",
       "    </tr>\n",
       "    <tr>\n",
       "      <th>150</th>\n",
       "      <td>6.0</td>\n",
       "      <td>4.0</td>\n",
       "      <td>5.0</td>\n",
       "      <td>2.0</td>\n",
       "      <td>XXX</td>\n",
       "    </tr>\n",
       "  </tbody>\n",
       "</table>\n",
       "</div>"
      ],
      "text/plain": [
       "     sepal_length  sepal_width  petal_length  petal_width    species\n",
       "148           6.2          3.4           5.4          2.3  virginica\n",
       "149           5.9          3.0           5.1          1.8  virginica\n",
       "150           6.0          4.0           5.0          2.0        XXX"
      ]
     },
     "execution_count": 467,
     "metadata": {},
     "output_type": "execute_result"
    }
   ],
   "source": [
    "# Create copy of iris to avoid modifying original\n",
    "iris_copy = iris.copy()\n",
    "\n",
    "# Create a dataframe with single row\n",
    "insert = pd.DataFrame({\n",
    "    \"sepal_length\" : [6],\n",
    "    \"sepal_width\" : [4],\n",
    "    \"petal_length\" : [5],\n",
    "    \"petal_width\" : [2],\n",
    "    \"species\" : [\"XXX\"]},\n",
    "    index=[len(iris)]\n",
    "    )\n",
    "\n",
    "# Add two dataframes together\n",
    "pd.concat([iris, insert]).tail(3)"
   ]
  },
  {
   "cell_type": "markdown",
   "id": "c0d30773",
   "metadata": {},
   "source": [
    "- If the `index` arg was not specified, it would have been 0 even after the concat\n",
    "    - Arg `ignore_index=True` resets all indices and rebuilds after all concatting is completed\n",
    "- If the dataframe were longer, the same method would be used\n",
    "- Multiple dataframes can be passed into `.concat()` and they will be added in order"
   ]
  },
  {
   "cell_type": "markdown",
   "id": "d5ce2c47",
   "metadata": {},
   "source": [
    "Adding dataframe which do not share columns"
   ]
  },
  {
   "cell_type": "code",
   "execution_count": 508,
   "id": "dfa9c586",
   "metadata": {},
   "outputs": [
    {
     "data": {
      "text/html": [
       "<div>\n",
       "<style scoped>\n",
       "    .dataframe tbody tr th:only-of-type {\n",
       "        vertical-align: middle;\n",
       "    }\n",
       "\n",
       "    .dataframe tbody tr th {\n",
       "        vertical-align: top;\n",
       "    }\n",
       "\n",
       "    .dataframe thead th {\n",
       "        text-align: right;\n",
       "    }\n",
       "</style>\n",
       "<table border=\"1\" class=\"dataframe\">\n",
       "  <thead>\n",
       "    <tr style=\"text-align: right;\">\n",
       "      <th></th>\n",
       "      <th>sepal_length</th>\n",
       "      <th>sepal_width</th>\n",
       "      <th>petal_length</th>\n",
       "      <th>petal_width</th>\n",
       "      <th>species</th>\n",
       "      <th>survived</th>\n",
       "      <th>pclass</th>\n",
       "      <th>sex</th>\n",
       "      <th>age</th>\n",
       "      <th>sibsp</th>\n",
       "      <th>parch</th>\n",
       "      <th>fare</th>\n",
       "      <th>embarked</th>\n",
       "      <th>who</th>\n",
       "      <th>adult_male</th>\n",
       "      <th>embark_town</th>\n",
       "      <th>alive</th>\n",
       "      <th>alone</th>\n",
       "    </tr>\n",
       "  </thead>\n",
       "  <tbody>\n",
       "    <tr>\n",
       "      <th>0</th>\n",
       "      <td>5.1</td>\n",
       "      <td>3.5</td>\n",
       "      <td>1.4</td>\n",
       "      <td>0.2</td>\n",
       "      <td>setosa</td>\n",
       "      <td>NaN</td>\n",
       "      <td>NaN</td>\n",
       "      <td>NaN</td>\n",
       "      <td>NaN</td>\n",
       "      <td>NaN</td>\n",
       "      <td>NaN</td>\n",
       "      <td>NaN</td>\n",
       "      <td>NaN</td>\n",
       "      <td>NaN</td>\n",
       "      <td>NaN</td>\n",
       "      <td>NaN</td>\n",
       "      <td>NaN</td>\n",
       "      <td>NaN</td>\n",
       "    </tr>\n",
       "    <tr>\n",
       "      <th>0</th>\n",
       "      <td>NaN</td>\n",
       "      <td>NaN</td>\n",
       "      <td>NaN</td>\n",
       "      <td>NaN</td>\n",
       "      <td>NaN</td>\n",
       "      <td>0.0</td>\n",
       "      <td>3.0</td>\n",
       "      <td>male</td>\n",
       "      <td>22.0</td>\n",
       "      <td>1.0</td>\n",
       "      <td>0.0</td>\n",
       "      <td>7.25</td>\n",
       "      <td>S</td>\n",
       "      <td>man</td>\n",
       "      <td>True</td>\n",
       "      <td>Southampton</td>\n",
       "      <td>no</td>\n",
       "      <td>False</td>\n",
       "    </tr>\n",
       "  </tbody>\n",
       "</table>\n",
       "</div>"
      ],
      "text/plain": [
       "   sepal_length  sepal_width  petal_length  petal_width species  survived  \\\n",
       "0           5.1          3.5           1.4          0.2  setosa       NaN   \n",
       "0           NaN          NaN           NaN          NaN     NaN       0.0   \n",
       "\n",
       "   pclass   sex   age  sibsp  parch  fare embarked  who adult_male  \\\n",
       "0     NaN   NaN   NaN    NaN    NaN   NaN      NaN  NaN        NaN   \n",
       "0     3.0  male  22.0    1.0    0.0  7.25        S  man       True   \n",
       "\n",
       "   embark_town alive  alone  \n",
       "0          NaN   NaN    NaN  \n",
       "0  Southampton    no  False  "
      ]
     },
     "execution_count": 508,
     "metadata": {},
     "output_type": "execute_result"
    }
   ],
   "source": [
    "# Neither dataframe has a shared column\n",
    "pd.concat([iris, titanic]).loc[[0], :]"
   ]
  },
  {
   "cell_type": "markdown",
   "id": "c479d9bb",
   "metadata": {},
   "source": [
    "- Even though none of the columns match, `titanic` is added to the end of `iris`\n",
    "    - Arg `join=inner` only retains columns that are present in all dataframes (default is `join=outer`)\n",
    "- Notice that there are two rows with index 0, and each has `NaN` values were the others have none"
   ]
  },
  {
   "cell_type": "markdown",
   "id": "13765d86",
   "metadata": {},
   "source": [
    "### Add Column(s) to Dataframe"
   ]
  },
  {
   "cell_type": "markdown",
   "id": "7193e1e4",
   "metadata": {},
   "source": [
    "Add a single column of values to a dataframe"
   ]
  },
  {
   "cell_type": "code",
   "execution_count": 509,
   "id": "69cdf991",
   "metadata": {},
   "outputs": [
    {
     "data": {
      "text/html": [
       "<div>\n",
       "<style scoped>\n",
       "    .dataframe tbody tr th:only-of-type {\n",
       "        vertical-align: middle;\n",
       "    }\n",
       "\n",
       "    .dataframe tbody tr th {\n",
       "        vertical-align: top;\n",
       "    }\n",
       "\n",
       "    .dataframe thead th {\n",
       "        text-align: right;\n",
       "    }\n",
       "</style>\n",
       "<table border=\"1\" class=\"dataframe\">\n",
       "  <thead>\n",
       "    <tr style=\"text-align: right;\">\n",
       "      <th></th>\n",
       "      <th>sepal_length</th>\n",
       "      <th>sepal_width</th>\n",
       "      <th>petal_length</th>\n",
       "      <th>petal_width</th>\n",
       "      <th>species</th>\n",
       "      <th>new_col</th>\n",
       "    </tr>\n",
       "  </thead>\n",
       "  <tbody>\n",
       "    <tr>\n",
       "      <th>0</th>\n",
       "      <td>5.1</td>\n",
       "      <td>3.5</td>\n",
       "      <td>1.4</td>\n",
       "      <td>0.2</td>\n",
       "      <td>setosa</td>\n",
       "      <td>0</td>\n",
       "    </tr>\n",
       "    <tr>\n",
       "      <th>1</th>\n",
       "      <td>4.9</td>\n",
       "      <td>3.0</td>\n",
       "      <td>1.4</td>\n",
       "      <td>0.2</td>\n",
       "      <td>setosa</td>\n",
       "      <td>3</td>\n",
       "    </tr>\n",
       "    <tr>\n",
       "      <th>2</th>\n",
       "      <td>4.7</td>\n",
       "      <td>3.2</td>\n",
       "      <td>1.3</td>\n",
       "      <td>0.2</td>\n",
       "      <td>setosa</td>\n",
       "      <td>6</td>\n",
       "    </tr>\n",
       "  </tbody>\n",
       "</table>\n",
       "</div>"
      ],
      "text/plain": [
       "   sepal_length  sepal_width  petal_length  petal_width species  new_col\n",
       "0           5.1          3.5           1.4          0.2  setosa        0\n",
       "1           4.9          3.0           1.4          0.2  setosa        3\n",
       "2           4.7          3.2           1.3          0.2  setosa        6"
      ]
     },
     "execution_count": 509,
     "metadata": {},
     "output_type": "execute_result"
    }
   ],
   "source": [
    "# Add a new column that multiplies the index by 3\n",
    "iris_copy['new_col'] = [x * 3 for x in list(range(0, len(iris_copy)))]\n",
    "iris_copy.head(3)"
   ]
  },
  {
   "cell_type": "markdown",
   "id": "a433c36e",
   "metadata": {},
   "source": [
    "- The length of the data being added has to match the length of the dataframe or else a `ValueError` is returned"
   ]
  },
  {
   "cell_type": "markdown",
   "id": "0c17a5cd",
   "metadata": {},
   "source": [
    "Add multiple columns to a dataframe"
   ]
  },
  {
   "cell_type": "code",
   "execution_count": 510,
   "id": "d2652408",
   "metadata": {},
   "outputs": [
    {
     "data": {
      "text/html": [
       "<div>\n",
       "<style scoped>\n",
       "    .dataframe tbody tr th:only-of-type {\n",
       "        vertical-align: middle;\n",
       "    }\n",
       "\n",
       "    .dataframe tbody tr th {\n",
       "        vertical-align: top;\n",
       "    }\n",
       "\n",
       "    .dataframe thead th {\n",
       "        text-align: right;\n",
       "    }\n",
       "</style>\n",
       "<table border=\"1\" class=\"dataframe\">\n",
       "  <thead>\n",
       "    <tr style=\"text-align: right;\">\n",
       "      <th></th>\n",
       "      <th>sepal_length</th>\n",
       "      <th>sepal_width</th>\n",
       "      <th>petal_length</th>\n",
       "      <th>petal_width</th>\n",
       "      <th>species</th>\n",
       "      <th>survived</th>\n",
       "      <th>pclass</th>\n",
       "      <th>sex</th>\n",
       "      <th>age</th>\n",
       "      <th>sibsp</th>\n",
       "      <th>parch</th>\n",
       "      <th>fare</th>\n",
       "      <th>embarked</th>\n",
       "      <th>who</th>\n",
       "      <th>adult_male</th>\n",
       "      <th>embark_town</th>\n",
       "      <th>alive</th>\n",
       "      <th>alone</th>\n",
       "    </tr>\n",
       "  </thead>\n",
       "  <tbody>\n",
       "    <tr>\n",
       "      <th>0</th>\n",
       "      <td>5.1</td>\n",
       "      <td>3.5</td>\n",
       "      <td>1.4</td>\n",
       "      <td>0.2</td>\n",
       "      <td>setosa</td>\n",
       "      <td>0</td>\n",
       "      <td>3</td>\n",
       "      <td>male</td>\n",
       "      <td>22.0</td>\n",
       "      <td>1</td>\n",
       "      <td>0</td>\n",
       "      <td>7.2500</td>\n",
       "      <td>S</td>\n",
       "      <td>man</td>\n",
       "      <td>True</td>\n",
       "      <td>Southampton</td>\n",
       "      <td>no</td>\n",
       "      <td>False</td>\n",
       "    </tr>\n",
       "    <tr>\n",
       "      <th>1</th>\n",
       "      <td>4.9</td>\n",
       "      <td>3.0</td>\n",
       "      <td>1.4</td>\n",
       "      <td>0.2</td>\n",
       "      <td>setosa</td>\n",
       "      <td>1</td>\n",
       "      <td>1</td>\n",
       "      <td>female</td>\n",
       "      <td>38.0</td>\n",
       "      <td>1</td>\n",
       "      <td>0</td>\n",
       "      <td>71.2833</td>\n",
       "      <td>C</td>\n",
       "      <td>woman</td>\n",
       "      <td>False</td>\n",
       "      <td>Cherbourg</td>\n",
       "      <td>yes</td>\n",
       "      <td>False</td>\n",
       "    </tr>\n",
       "    <tr>\n",
       "      <th>2</th>\n",
       "      <td>4.7</td>\n",
       "      <td>3.2</td>\n",
       "      <td>1.3</td>\n",
       "      <td>0.2</td>\n",
       "      <td>setosa</td>\n",
       "      <td>1</td>\n",
       "      <td>3</td>\n",
       "      <td>female</td>\n",
       "      <td>26.0</td>\n",
       "      <td>0</td>\n",
       "      <td>0</td>\n",
       "      <td>7.9250</td>\n",
       "      <td>S</td>\n",
       "      <td>woman</td>\n",
       "      <td>False</td>\n",
       "      <td>Southampton</td>\n",
       "      <td>yes</td>\n",
       "      <td>True</td>\n",
       "    </tr>\n",
       "  </tbody>\n",
       "</table>\n",
       "</div>"
      ],
      "text/plain": [
       "   sepal_length  sepal_width  petal_length  petal_width species  survived  \\\n",
       "0           5.1          3.5           1.4          0.2  setosa         0   \n",
       "1           4.9          3.0           1.4          0.2  setosa         1   \n",
       "2           4.7          3.2           1.3          0.2  setosa         1   \n",
       "\n",
       "   pclass     sex   age  sibsp  parch     fare embarked    who  adult_male  \\\n",
       "0       3    male  22.0      1      0   7.2500        S    man        True   \n",
       "1       1  female  38.0      1      0  71.2833        C  woman       False   \n",
       "2       3  female  26.0      0      0   7.9250        S  woman       False   \n",
       "\n",
       "   embark_town alive  alone  \n",
       "0  Southampton    no  False  \n",
       "1    Cherbourg   yes  False  \n",
       "2  Southampton   yes   True  "
      ]
     },
     "execution_count": 510,
     "metadata": {},
     "output_type": "execute_result"
    }
   ],
   "source": [
    "# Add multiple columns from another dataframe\n",
    "pd.concat([iris, titanic], axis=1, ignore_index=False).head(3)"
   ]
  },
  {
   "cell_type": "markdown",
   "id": "420f56fe",
   "metadata": {},
   "source": [
    "- Arg `axis=` tells `.concat()` to add by columns and not by rows\n",
    "- Arg `ignore_index=True` resets all indices and rebuilds after all concatting is completed\n",
    "- If there were columns from each dataframe with the same name, they would be added in different columns\n",
    "- The length of columns do not matter, since empty rows will auto-fill with `NaN`"
   ]
  },
  {
   "cell_type": "markdown",
   "id": "b124bd8e",
   "metadata": {},
   "source": [
    "<a id='merging_datasets'></a>\n",
    "## Merging Datasets\n",
    "Instead of simply adding row(s) or column(s) by indices, combine based on common data values (known as \"join\")\n",
    "\n",
    "* One-to-one merge: joins one column to another column (no duplicate values present): `site.merge(visited.loc[[0, 2, 6], ], left_on='name', right_on='site')`\n",
    "* Many-to-one merge: one dataframe has key values that repeat, leftmost DataFrame data duplicated: `site.merge(visited, left_on='name', right_on='site')`\n",
    "    * Pass columns names as list if merging on multiple columns, okay if names mismatch\n"
   ]
  },
  {
   "cell_type": "markdown",
   "id": "704ec316",
   "metadata": {},
   "source": [
    "Merge two datasets together (need to prepare some data before performing merge)"
   ]
  },
  {
   "cell_type": "code",
   "execution_count": 536,
   "id": "d1c0d999",
   "metadata": {},
   "outputs": [
    {
     "name": "stdout",
     "output_type": "stream",
     "text": [
      "    ID name\n",
      "0    0   JB\n",
      "1   50   CB\n",
      "2  100   MB\n"
     ]
    },
    {
     "data": {
      "text/html": [
       "<div>\n",
       "<style scoped>\n",
       "    .dataframe tbody tr th:only-of-type {\n",
       "        vertical-align: middle;\n",
       "    }\n",
       "\n",
       "    .dataframe tbody tr th {\n",
       "        vertical-align: top;\n",
       "    }\n",
       "\n",
       "    .dataframe thead th {\n",
       "        text-align: right;\n",
       "    }\n",
       "</style>\n",
       "<table border=\"1\" class=\"dataframe\">\n",
       "  <thead>\n",
       "    <tr style=\"text-align: right;\">\n",
       "      <th></th>\n",
       "      <th>ID</th>\n",
       "      <th>name</th>\n",
       "      <th>survived</th>\n",
       "      <th>pclass</th>\n",
       "      <th>sex</th>\n",
       "      <th>age</th>\n",
       "      <th>sibsp</th>\n",
       "      <th>parch</th>\n",
       "      <th>fare</th>\n",
       "      <th>embarked</th>\n",
       "      <th>who</th>\n",
       "      <th>adult_male</th>\n",
       "      <th>embark_town</th>\n",
       "      <th>alive</th>\n",
       "      <th>alone</th>\n",
       "      <th>id</th>\n",
       "    </tr>\n",
       "  </thead>\n",
       "  <tbody>\n",
       "    <tr>\n",
       "      <th>0</th>\n",
       "      <td>0</td>\n",
       "      <td>JB</td>\n",
       "      <td>0</td>\n",
       "      <td>3</td>\n",
       "      <td>male</td>\n",
       "      <td>22.0</td>\n",
       "      <td>1</td>\n",
       "      <td>0</td>\n",
       "      <td>7.2500</td>\n",
       "      <td>S</td>\n",
       "      <td>man</td>\n",
       "      <td>True</td>\n",
       "      <td>Southampton</td>\n",
       "      <td>no</td>\n",
       "      <td>False</td>\n",
       "      <td>0</td>\n",
       "    </tr>\n",
       "    <tr>\n",
       "      <th>1</th>\n",
       "      <td>50</td>\n",
       "      <td>CB</td>\n",
       "      <td>0</td>\n",
       "      <td>3</td>\n",
       "      <td>male</td>\n",
       "      <td>7.0</td>\n",
       "      <td>4</td>\n",
       "      <td>1</td>\n",
       "      <td>39.6875</td>\n",
       "      <td>S</td>\n",
       "      <td>child</td>\n",
       "      <td>False</td>\n",
       "      <td>Southampton</td>\n",
       "      <td>no</td>\n",
       "      <td>False</td>\n",
       "      <td>50</td>\n",
       "    </tr>\n",
       "    <tr>\n",
       "      <th>2</th>\n",
       "      <td>100</td>\n",
       "      <td>MB</td>\n",
       "      <td>0</td>\n",
       "      <td>3</td>\n",
       "      <td>female</td>\n",
       "      <td>28.0</td>\n",
       "      <td>0</td>\n",
       "      <td>0</td>\n",
       "      <td>7.8958</td>\n",
       "      <td>S</td>\n",
       "      <td>woman</td>\n",
       "      <td>False</td>\n",
       "      <td>Southampton</td>\n",
       "      <td>no</td>\n",
       "      <td>True</td>\n",
       "      <td>100</td>\n",
       "    </tr>\n",
       "  </tbody>\n",
       "</table>\n",
       "</div>"
      ],
      "text/plain": [
       "    ID name  survived  pclass     sex   age  sibsp  parch     fare embarked  \\\n",
       "0    0   JB         0       3    male  22.0      1      0   7.2500        S   \n",
       "1   50   CB         0       3    male   7.0      4      1  39.6875        S   \n",
       "2  100   MB         0       3  female  28.0      0      0   7.8958        S   \n",
       "\n",
       "     who  adult_male  embark_town alive  alone   id  \n",
       "0    man        True  Southampton    no  False    0  \n",
       "1  child       False  Southampton    no  False   50  \n",
       "2  woman       False  Southampton    no   True  100  "
      ]
     },
     "execution_count": 536,
     "metadata": {},
     "output_type": "execute_result"
    }
   ],
   "source": [
    "# Add a new unique id column to a copy of titanic\n",
    "titanic_copy = titanic.copy()\n",
    "titanic_copy['id'] = list(range(0, len(titanic_copy)))\n",
    "titanic_copy.head(3)\n",
    "\n",
    "# Create a new dataframe to merge\n",
    "titanic_merge = pd.DataFrame({\n",
    "    \"ID\" : [0, 50, 100],\n",
    "    \"name\" : [\"JB\", \"CB\", \"MB\"]})\n",
    "print(titanic_merge)\n",
    "\n",
    "# Merge datasets\n",
    "titanic_merge.merge(titanic_copy, left_on=\"ID\", right_on=\"id\")"
   ]
  },
  {
   "cell_type": "markdown",
   "id": "f12f91f3",
   "metadata": {},
   "source": [
    "- Arg `how` determines the type of merge\n",
    "    - `inner`: DEFAULT - data is only retained for keys found in both dataframes and merged from the right to left dataframe\n",
    "    - `outer`': all data is retained, but for each key found in both dataframes, that data is merged\n",
    "    - `left`: all data in the left dataframe is retained, but for each key found in both dataframes, that data is merged\n",
    "    - `right`: all data in the right dataframe is retained, but for each key found in both dataframes, that data is merged\n",
    "- Arg `on` specifies the columns to merge on if they are identical, otherwise use `left_on` and `right_on` for each key"
   ]
  },
  {
   "cell_type": "markdown",
   "id": "445f12f6",
   "metadata": {},
   "source": [
    "<a id='tidy_data'></a>\n",
    "## Tidy Data\n",
    "\n",
    "* Transform wide to long format: `pd.melt(weather, id_vars=['id', 'year', 'month', 'element'])`\n",
    "* Transform long to wide format: `weather_melt.pivot_table(index=['id', 'year', 'month', 'variable'], columns='element', values='value').reset_index()`\n",
    "    \n",
    "#### String accessor: access the values of the series as strings and apply methods to it\n",
    "* Split string values in column: `scientists['Name'].str.split(' ')`\n",
    "    * Argument `expand=True` returns results as DataFrame instead of Series list\n",
    "    * Can use zip to assign as new columns `scientists['First'], scientists['Last'] = zip(*scientists['Name'].str.split(' '))`\n",
    "        * `zip` takes set of iterators and returns an iterator that generates tuples of length n (n = shortest iterator length)\n",
    "        \n",
    "#### Transform wide to long format: melt"
   ]
  },
  {
   "cell_type": "code",
   "execution_count": 39,
   "id": "ad02e03b",
   "metadata": {
    "scrolled": true
   },
   "outputs": [
    {
     "data": {
      "text/html": [
       "<div>\n",
       "<style scoped>\n",
       "    .dataframe tbody tr th:only-of-type {\n",
       "        vertical-align: middle;\n",
       "    }\n",
       "\n",
       "    .dataframe tbody tr th {\n",
       "        vertical-align: top;\n",
       "    }\n",
       "\n",
       "    .dataframe thead th {\n",
       "        text-align: right;\n",
       "    }\n",
       "</style>\n",
       "<table border=\"1\" class=\"dataframe\">\n",
       "  <thead>\n",
       "    <tr style=\"text-align: right;\">\n",
       "      <th></th>\n",
       "      <th>religion</th>\n",
       "      <th>&lt;$10k</th>\n",
       "      <th>$10-20k</th>\n",
       "      <th>$20-30k</th>\n",
       "      <th>$30-40k</th>\n",
       "      <th>$40-50k</th>\n",
       "      <th>$50-75k</th>\n",
       "      <th>$75-100k</th>\n",
       "      <th>$100-150k</th>\n",
       "      <th>&gt;150k</th>\n",
       "      <th>Don't know/refused</th>\n",
       "    </tr>\n",
       "  </thead>\n",
       "  <tbody>\n",
       "    <tr>\n",
       "      <th>0</th>\n",
       "      <td>Agnostic</td>\n",
       "      <td>27</td>\n",
       "      <td>34</td>\n",
       "      <td>60</td>\n",
       "      <td>81</td>\n",
       "      <td>76</td>\n",
       "      <td>137</td>\n",
       "      <td>122</td>\n",
       "      <td>109</td>\n",
       "      <td>84</td>\n",
       "      <td>96</td>\n",
       "    </tr>\n",
       "    <tr>\n",
       "      <th>1</th>\n",
       "      <td>Atheist</td>\n",
       "      <td>12</td>\n",
       "      <td>27</td>\n",
       "      <td>37</td>\n",
       "      <td>52</td>\n",
       "      <td>35</td>\n",
       "      <td>70</td>\n",
       "      <td>73</td>\n",
       "      <td>59</td>\n",
       "      <td>74</td>\n",
       "      <td>76</td>\n",
       "    </tr>\n",
       "    <tr>\n",
       "      <th>2</th>\n",
       "      <td>Buddhist</td>\n",
       "      <td>27</td>\n",
       "      <td>21</td>\n",
       "      <td>30</td>\n",
       "      <td>34</td>\n",
       "      <td>33</td>\n",
       "      <td>58</td>\n",
       "      <td>62</td>\n",
       "      <td>39</td>\n",
       "      <td>53</td>\n",
       "      <td>54</td>\n",
       "    </tr>\n",
       "    <tr>\n",
       "      <th>3</th>\n",
       "      <td>Catholic</td>\n",
       "      <td>418</td>\n",
       "      <td>617</td>\n",
       "      <td>732</td>\n",
       "      <td>670</td>\n",
       "      <td>638</td>\n",
       "      <td>1116</td>\n",
       "      <td>949</td>\n",
       "      <td>792</td>\n",
       "      <td>633</td>\n",
       "      <td>1489</td>\n",
       "    </tr>\n",
       "    <tr>\n",
       "      <th>4</th>\n",
       "      <td>Don’t know/refused</td>\n",
       "      <td>15</td>\n",
       "      <td>14</td>\n",
       "      <td>15</td>\n",
       "      <td>11</td>\n",
       "      <td>10</td>\n",
       "      <td>35</td>\n",
       "      <td>21</td>\n",
       "      <td>17</td>\n",
       "      <td>18</td>\n",
       "      <td>116</td>\n",
       "    </tr>\n",
       "  </tbody>\n",
       "</table>\n",
       "</div>"
      ],
      "text/plain": [
       "             religion  <$10k  $10-20k  $20-30k  $30-40k  $40-50k  $50-75k  \\\n",
       "0            Agnostic     27       34       60       81       76      137   \n",
       "1             Atheist     12       27       37       52       35       70   \n",
       "2            Buddhist     27       21       30       34       33       58   \n",
       "3            Catholic    418      617      732      670      638     1116   \n",
       "4  Don’t know/refused     15       14       15       11       10       35   \n",
       "\n",
       "   $75-100k  $100-150k  >150k  Don't know/refused  \n",
       "0       122        109     84                  96  \n",
       "1        73         59     74                  76  \n",
       "2        62         39     53                  54  \n",
       "3       949        792    633                1489  \n",
       "4        21         17     18                 116  "
      ]
     },
     "execution_count": 39,
     "metadata": {},
     "output_type": "execute_result"
    }
   ],
   "source": [
    "pew.head()"
   ]
  },
  {
   "cell_type": "markdown",
   "id": "8cafe248",
   "metadata": {},
   "source": [
    "\n",
    "\n",
    "* Only 'religion' column is a variable, remaining column names are values related to income variable. Good for presenting data, bad for analyzing."
   ]
  },
  {
   "cell_type": "code",
   "execution_count": 40,
   "id": "86604770",
   "metadata": {
    "scrolled": true
   },
   "outputs": [
    {
     "data": {
      "text/html": [
       "<div>\n",
       "<style scoped>\n",
       "    .dataframe tbody tr th:only-of-type {\n",
       "        vertical-align: middle;\n",
       "    }\n",
       "\n",
       "    .dataframe tbody tr th {\n",
       "        vertical-align: top;\n",
       "    }\n",
       "\n",
       "    .dataframe thead th {\n",
       "        text-align: right;\n",
       "    }\n",
       "</style>\n",
       "<table border=\"1\" class=\"dataframe\">\n",
       "  <thead>\n",
       "    <tr style=\"text-align: right;\">\n",
       "      <th></th>\n",
       "      <th>religion</th>\n",
       "      <th>income</th>\n",
       "      <th>count</th>\n",
       "    </tr>\n",
       "  </thead>\n",
       "  <tbody>\n",
       "    <tr>\n",
       "      <th>0</th>\n",
       "      <td>Agnostic</td>\n",
       "      <td>&lt;$10k</td>\n",
       "      <td>27</td>\n",
       "    </tr>\n",
       "    <tr>\n",
       "      <th>1</th>\n",
       "      <td>Atheist</td>\n",
       "      <td>&lt;$10k</td>\n",
       "      <td>12</td>\n",
       "    </tr>\n",
       "    <tr>\n",
       "      <th>2</th>\n",
       "      <td>Buddhist</td>\n",
       "      <td>&lt;$10k</td>\n",
       "      <td>27</td>\n",
       "    </tr>\n",
       "    <tr>\n",
       "      <th>3</th>\n",
       "      <td>Catholic</td>\n",
       "      <td>&lt;$10k</td>\n",
       "      <td>418</td>\n",
       "    </tr>\n",
       "    <tr>\n",
       "      <th>4</th>\n",
       "      <td>Don’t know/refused</td>\n",
       "      <td>&lt;$10k</td>\n",
       "      <td>15</td>\n",
       "    </tr>\n",
       "    <tr>\n",
       "      <th>...</th>\n",
       "      <td>...</td>\n",
       "      <td>...</td>\n",
       "      <td>...</td>\n",
       "    </tr>\n",
       "    <tr>\n",
       "      <th>175</th>\n",
       "      <td>Orthodox</td>\n",
       "      <td>Don't know/refused</td>\n",
       "      <td>73</td>\n",
       "    </tr>\n",
       "    <tr>\n",
       "      <th>176</th>\n",
       "      <td>Other Christian</td>\n",
       "      <td>Don't know/refused</td>\n",
       "      <td>18</td>\n",
       "    </tr>\n",
       "    <tr>\n",
       "      <th>177</th>\n",
       "      <td>Other Faiths</td>\n",
       "      <td>Don't know/refused</td>\n",
       "      <td>71</td>\n",
       "    </tr>\n",
       "    <tr>\n",
       "      <th>178</th>\n",
       "      <td>Other World Religions</td>\n",
       "      <td>Don't know/refused</td>\n",
       "      <td>8</td>\n",
       "    </tr>\n",
       "    <tr>\n",
       "      <th>179</th>\n",
       "      <td>Unaffiliated</td>\n",
       "      <td>Don't know/refused</td>\n",
       "      <td>597</td>\n",
       "    </tr>\n",
       "  </tbody>\n",
       "</table>\n",
       "<p>180 rows × 3 columns</p>\n",
       "</div>"
      ],
      "text/plain": [
       "                  religion              income  count\n",
       "0                 Agnostic               <$10k     27\n",
       "1                  Atheist               <$10k     12\n",
       "2                 Buddhist               <$10k     27\n",
       "3                 Catholic               <$10k    418\n",
       "4       Don’t know/refused               <$10k     15\n",
       "..                     ...                 ...    ...\n",
       "175               Orthodox  Don't know/refused     73\n",
       "176        Other Christian  Don't know/refused     18\n",
       "177           Other Faiths  Don't know/refused     71\n",
       "178  Other World Religions  Don't know/refused      8\n",
       "179           Unaffiliated  Don't know/refused    597\n",
       "\n",
       "[180 rows x 3 columns]"
      ]
     },
     "execution_count": 40,
     "metadata": {},
     "output_type": "execute_result"
    }
   ],
   "source": [
    "# melt dataframe\n",
    "pd.melt(pew, id_vars=['religion'], var_name='income', value_name='count')"
   ]
  },
  {
   "cell_type": "markdown",
   "id": "2af9b077",
   "metadata": {},
   "source": [
    "\n",
    "\n",
    "* Create a new df with columns 'religion', 'income', and 'count'\n",
    "* Take the first value in the original df's 'religion' column and add to the first row in the new df's 'religion' column\n",
    "* Take the second column name in the original df and add to the first row in the new df's 'income' column\n",
    "* Take the first value in the second column name in the original df and add to the first row in the new df's 'count' column\n",
    "* Next take the second value in the original df's 'religion' column and add to the second row in the new df's 'religion' column\n",
    "* Take the second column name in the original df and add to the second row in the new df's 'income' column\n",
    "* Take the second value in the second column name in the original df and add to the second row in the new df's 'count' column\n",
    "* Repeat for all rows of the original df\n",
    "* Then repeat process using the third column name in the original df until all columns are completed"
   ]
  },
  {
   "cell_type": "markdown",
   "id": "555fbbb9",
   "metadata": {},
   "source": [
    "\n",
    "\n",
    "#### Transform long to wide format: pivot_table()"
   ]
  },
  {
   "cell_type": "code",
   "execution_count": 41,
   "id": "55868362",
   "metadata": {},
   "outputs": [
    {
     "data": {
      "text/html": [
       "<div>\n",
       "<style scoped>\n",
       "    .dataframe tbody tr th:only-of-type {\n",
       "        vertical-align: middle;\n",
       "    }\n",
       "\n",
       "    .dataframe tbody tr th {\n",
       "        vertical-align: top;\n",
       "    }\n",
       "\n",
       "    .dataframe thead th {\n",
       "        text-align: right;\n",
       "    }\n",
       "</style>\n",
       "<table border=\"1\" class=\"dataframe\">\n",
       "  <thead>\n",
       "    <tr style=\"text-align: right;\">\n",
       "      <th></th>\n",
       "      <th>id</th>\n",
       "      <th>year</th>\n",
       "      <th>month</th>\n",
       "      <th>element</th>\n",
       "      <th>day</th>\n",
       "      <th>temp</th>\n",
       "    </tr>\n",
       "  </thead>\n",
       "  <tbody>\n",
       "    <tr>\n",
       "      <th>0</th>\n",
       "      <td>MX17004</td>\n",
       "      <td>2010</td>\n",
       "      <td>1</td>\n",
       "      <td>tmax</td>\n",
       "      <td>d1</td>\n",
       "      <td>NaN</td>\n",
       "    </tr>\n",
       "    <tr>\n",
       "      <th>1</th>\n",
       "      <td>MX17004</td>\n",
       "      <td>2010</td>\n",
       "      <td>1</td>\n",
       "      <td>tmin</td>\n",
       "      <td>d1</td>\n",
       "      <td>NaN</td>\n",
       "    </tr>\n",
       "    <tr>\n",
       "      <th>2</th>\n",
       "      <td>MX17004</td>\n",
       "      <td>2010</td>\n",
       "      <td>2</td>\n",
       "      <td>tmax</td>\n",
       "      <td>d1</td>\n",
       "      <td>NaN</td>\n",
       "    </tr>\n",
       "    <tr>\n",
       "      <th>3</th>\n",
       "      <td>MX17004</td>\n",
       "      <td>2010</td>\n",
       "      <td>2</td>\n",
       "      <td>tmin</td>\n",
       "      <td>d1</td>\n",
       "      <td>NaN</td>\n",
       "    </tr>\n",
       "    <tr>\n",
       "      <th>4</th>\n",
       "      <td>MX17004</td>\n",
       "      <td>2010</td>\n",
       "      <td>3</td>\n",
       "      <td>tmax</td>\n",
       "      <td>d1</td>\n",
       "      <td>NaN</td>\n",
       "    </tr>\n",
       "  </tbody>\n",
       "</table>\n",
       "</div>"
      ],
      "text/plain": [
       "        id  year  month element day  temp\n",
       "0  MX17004  2010      1    tmax  d1   NaN\n",
       "1  MX17004  2010      1    tmin  d1   NaN\n",
       "2  MX17004  2010      2    tmax  d1   NaN\n",
       "3  MX17004  2010      2    tmin  d1   NaN\n",
       "4  MX17004  2010      3    tmax  d1   NaN"
      ]
     },
     "execution_count": 41,
     "metadata": {},
     "output_type": "execute_result"
    }
   ],
   "source": [
    "weather_melt = pd.melt(weather, id_vars=['id', 'year', 'month', 'element'], var_name='day', value_name='temp')\n",
    "weather_melt.head()"
   ]
  },
  {
   "cell_type": "markdown",
   "id": "a7b06950",
   "metadata": {},
   "source": [
    "\n",
    "\n",
    "* Change all variables in the 'element' column to column names (other languages call this casting or spreading) and store their values from the 'temp' column\n",
    "* One main difference is `pivot_table` is a DataFrame method while `melt` is a Pandas function"
   ]
  },
  {
   "cell_type": "code",
   "execution_count": 42,
   "id": "ae572510",
   "metadata": {
    "scrolled": true
   },
   "outputs": [
    {
     "data": {
      "text/html": [
       "<div>\n",
       "<style scoped>\n",
       "    .dataframe tbody tr th:only-of-type {\n",
       "        vertical-align: middle;\n",
       "    }\n",
       "\n",
       "    .dataframe tbody tr th {\n",
       "        vertical-align: top;\n",
       "    }\n",
       "\n",
       "    .dataframe thead th {\n",
       "        text-align: right;\n",
       "    }\n",
       "</style>\n",
       "<table border=\"1\" class=\"dataframe\">\n",
       "  <thead>\n",
       "    <tr style=\"text-align: right;\">\n",
       "      <th>element</th>\n",
       "      <th>id</th>\n",
       "      <th>year</th>\n",
       "      <th>month</th>\n",
       "      <th>day</th>\n",
       "      <th>tmax</th>\n",
       "      <th>tmin</th>\n",
       "    </tr>\n",
       "  </thead>\n",
       "  <tbody>\n",
       "    <tr>\n",
       "      <th>0</th>\n",
       "      <td>MX17004</td>\n",
       "      <td>2010</td>\n",
       "      <td>1</td>\n",
       "      <td>d30</td>\n",
       "      <td>27.8</td>\n",
       "      <td>14.5</td>\n",
       "    </tr>\n",
       "    <tr>\n",
       "      <th>1</th>\n",
       "      <td>MX17004</td>\n",
       "      <td>2010</td>\n",
       "      <td>2</td>\n",
       "      <td>d11</td>\n",
       "      <td>29.7</td>\n",
       "      <td>13.4</td>\n",
       "    </tr>\n",
       "    <tr>\n",
       "      <th>2</th>\n",
       "      <td>MX17004</td>\n",
       "      <td>2010</td>\n",
       "      <td>2</td>\n",
       "      <td>d2</td>\n",
       "      <td>27.3</td>\n",
       "      <td>14.4</td>\n",
       "    </tr>\n",
       "    <tr>\n",
       "      <th>3</th>\n",
       "      <td>MX17004</td>\n",
       "      <td>2010</td>\n",
       "      <td>2</td>\n",
       "      <td>d23</td>\n",
       "      <td>29.9</td>\n",
       "      <td>10.7</td>\n",
       "    </tr>\n",
       "    <tr>\n",
       "      <th>4</th>\n",
       "      <td>MX17004</td>\n",
       "      <td>2010</td>\n",
       "      <td>2</td>\n",
       "      <td>d3</td>\n",
       "      <td>24.1</td>\n",
       "      <td>14.4</td>\n",
       "    </tr>\n",
       "  </tbody>\n",
       "</table>\n",
       "</div>"
      ],
      "text/plain": [
       "element       id  year  month  day  tmax  tmin\n",
       "0        MX17004  2010      1  d30  27.8  14.5\n",
       "1        MX17004  2010      2  d11  29.7  13.4\n",
       "2        MX17004  2010      2   d2  27.3  14.4\n",
       "3        MX17004  2010      2  d23  29.9  10.7\n",
       "4        MX17004  2010      2   d3  24.1  14.4"
      ]
     },
     "execution_count": 42,
     "metadata": {},
     "output_type": "execute_result"
    }
   ],
   "source": [
    "weather_melt.pivot_table(index=['id', 'year', 'month', 'day'], columns='element', values='temp').reset_index().head()"
   ]
  },
  {
   "cell_type": "markdown",
   "id": "f5466066",
   "metadata": {},
   "source": [
    "\n",
    "\n",
    "* Process is the opposite of melt"
   ]
  },
  {
   "cell_type": "markdown",
   "id": "1c253143",
   "metadata": {},
   "source": [
    "\n",
    "\n",
    "#### Shift values in DataFrame"
   ]
  },
  {
   "cell_type": "code",
   "execution_count": 43,
   "id": "331ccfb2",
   "metadata": {},
   "outputs": [
    {
     "data": {
      "text/html": [
       "<div>\n",
       "<style scoped>\n",
       "    .dataframe tbody tr th:only-of-type {\n",
       "        vertical-align: middle;\n",
       "    }\n",
       "\n",
       "    .dataframe tbody tr th {\n",
       "        vertical-align: top;\n",
       "    }\n",
       "\n",
       "    .dataframe thead th {\n",
       "        text-align: right;\n",
       "    }\n",
       "</style>\n",
       "<table border=\"1\" class=\"dataframe\">\n",
       "  <thead>\n",
       "    <tr style=\"text-align: right;\">\n",
       "      <th></th>\n",
       "      <th>id</th>\n",
       "      <th>year</th>\n",
       "      <th>month</th>\n",
       "      <th>element</th>\n",
       "      <th>d1</th>\n",
       "      <th>d2</th>\n",
       "      <th>d3</th>\n",
       "      <th>d4</th>\n",
       "      <th>d5</th>\n",
       "      <th>d6</th>\n",
       "      <th>...</th>\n",
       "      <th>d22</th>\n",
       "      <th>d23</th>\n",
       "      <th>d24</th>\n",
       "      <th>d25</th>\n",
       "      <th>d26</th>\n",
       "      <th>d27</th>\n",
       "      <th>d28</th>\n",
       "      <th>d29</th>\n",
       "      <th>d30</th>\n",
       "      <th>d31</th>\n",
       "    </tr>\n",
       "  </thead>\n",
       "  <tbody>\n",
       "    <tr>\n",
       "      <th>0</th>\n",
       "      <td>MX17004</td>\n",
       "      <td>2010</td>\n",
       "      <td>1</td>\n",
       "      <td>tmax</td>\n",
       "      <td>NaN</td>\n",
       "      <td>NaN</td>\n",
       "      <td>NaN</td>\n",
       "      <td>NaN</td>\n",
       "      <td>NaN</td>\n",
       "      <td>NaN</td>\n",
       "      <td>...</td>\n",
       "      <td>NaN</td>\n",
       "      <td>NaN</td>\n",
       "      <td>NaN</td>\n",
       "      <td>NaN</td>\n",
       "      <td>NaN</td>\n",
       "      <td>NaN</td>\n",
       "      <td>NaN</td>\n",
       "      <td>NaN</td>\n",
       "      <td>27.8</td>\n",
       "      <td>NaN</td>\n",
       "    </tr>\n",
       "    <tr>\n",
       "      <th>1</th>\n",
       "      <td>MX17004</td>\n",
       "      <td>2010</td>\n",
       "      <td>1</td>\n",
       "      <td>tmin</td>\n",
       "      <td>NaN</td>\n",
       "      <td>NaN</td>\n",
       "      <td>NaN</td>\n",
       "      <td>NaN</td>\n",
       "      <td>NaN</td>\n",
       "      <td>NaN</td>\n",
       "      <td>...</td>\n",
       "      <td>NaN</td>\n",
       "      <td>NaN</td>\n",
       "      <td>NaN</td>\n",
       "      <td>NaN</td>\n",
       "      <td>NaN</td>\n",
       "      <td>NaN</td>\n",
       "      <td>NaN</td>\n",
       "      <td>NaN</td>\n",
       "      <td>14.5</td>\n",
       "      <td>NaN</td>\n",
       "    </tr>\n",
       "    <tr>\n",
       "      <th>2</th>\n",
       "      <td>MX17004</td>\n",
       "      <td>2010</td>\n",
       "      <td>2</td>\n",
       "      <td>tmax</td>\n",
       "      <td>NaN</td>\n",
       "      <td>27.3</td>\n",
       "      <td>24.1</td>\n",
       "      <td>NaN</td>\n",
       "      <td>NaN</td>\n",
       "      <td>NaN</td>\n",
       "      <td>...</td>\n",
       "      <td>NaN</td>\n",
       "      <td>29.9</td>\n",
       "      <td>NaN</td>\n",
       "      <td>NaN</td>\n",
       "      <td>NaN</td>\n",
       "      <td>NaN</td>\n",
       "      <td>NaN</td>\n",
       "      <td>NaN</td>\n",
       "      <td>NaN</td>\n",
       "      <td>NaN</td>\n",
       "    </tr>\n",
       "    <tr>\n",
       "      <th>3</th>\n",
       "      <td>MX17004</td>\n",
       "      <td>2010</td>\n",
       "      <td>2</td>\n",
       "      <td>tmin</td>\n",
       "      <td>NaN</td>\n",
       "      <td>14.4</td>\n",
       "      <td>14.4</td>\n",
       "      <td>NaN</td>\n",
       "      <td>NaN</td>\n",
       "      <td>NaN</td>\n",
       "      <td>...</td>\n",
       "      <td>NaN</td>\n",
       "      <td>10.7</td>\n",
       "      <td>NaN</td>\n",
       "      <td>NaN</td>\n",
       "      <td>NaN</td>\n",
       "      <td>NaN</td>\n",
       "      <td>NaN</td>\n",
       "      <td>NaN</td>\n",
       "      <td>NaN</td>\n",
       "      <td>NaN</td>\n",
       "    </tr>\n",
       "    <tr>\n",
       "      <th>4</th>\n",
       "      <td>MX17004</td>\n",
       "      <td>2010</td>\n",
       "      <td>3</td>\n",
       "      <td>tmax</td>\n",
       "      <td>NaN</td>\n",
       "      <td>NaN</td>\n",
       "      <td>NaN</td>\n",
       "      <td>NaN</td>\n",
       "      <td>32.1</td>\n",
       "      <td>NaN</td>\n",
       "      <td>...</td>\n",
       "      <td>NaN</td>\n",
       "      <td>NaN</td>\n",
       "      <td>NaN</td>\n",
       "      <td>NaN</td>\n",
       "      <td>NaN</td>\n",
       "      <td>NaN</td>\n",
       "      <td>NaN</td>\n",
       "      <td>NaN</td>\n",
       "      <td>NaN</td>\n",
       "      <td>NaN</td>\n",
       "    </tr>\n",
       "  </tbody>\n",
       "</table>\n",
       "<p>5 rows × 35 columns</p>\n",
       "</div>"
      ],
      "text/plain": [
       "        id  year  month element  d1    d2    d3  d4    d5  d6  ...  d22   d23  \\\n",
       "0  MX17004  2010      1    tmax NaN   NaN   NaN NaN   NaN NaN  ...  NaN   NaN   \n",
       "1  MX17004  2010      1    tmin NaN   NaN   NaN NaN   NaN NaN  ...  NaN   NaN   \n",
       "2  MX17004  2010      2    tmax NaN  27.3  24.1 NaN   NaN NaN  ...  NaN  29.9   \n",
       "3  MX17004  2010      2    tmin NaN  14.4  14.4 NaN   NaN NaN  ...  NaN  10.7   \n",
       "4  MX17004  2010      3    tmax NaN   NaN   NaN NaN  32.1 NaN  ...  NaN   NaN   \n",
       "\n",
       "   d24  d25  d26  d27  d28  d29   d30  d31  \n",
       "0  NaN  NaN  NaN  NaN  NaN  NaN  27.8  NaN  \n",
       "1  NaN  NaN  NaN  NaN  NaN  NaN  14.5  NaN  \n",
       "2  NaN  NaN  NaN  NaN  NaN  NaN   NaN  NaN  \n",
       "3  NaN  NaN  NaN  NaN  NaN  NaN   NaN  NaN  \n",
       "4  NaN  NaN  NaN  NaN  NaN  NaN   NaN  NaN  \n",
       "\n",
       "[5 rows x 35 columns]"
      ]
     },
     "execution_count": 43,
     "metadata": {},
     "output_type": "execute_result"
    }
   ],
   "source": [
    "weather.head()"
   ]
  },
  {
   "cell_type": "code",
   "execution_count": 44,
   "id": "371e63af",
   "metadata": {},
   "outputs": [
    {
     "data": {
      "text/html": [
       "<div>\n",
       "<style scoped>\n",
       "    .dataframe tbody tr th:only-of-type {\n",
       "        vertical-align: middle;\n",
       "    }\n",
       "\n",
       "    .dataframe tbody tr th {\n",
       "        vertical-align: top;\n",
       "    }\n",
       "\n",
       "    .dataframe thead th {\n",
       "        text-align: right;\n",
       "    }\n",
       "</style>\n",
       "<table border=\"1\" class=\"dataframe\">\n",
       "  <thead>\n",
       "    <tr style=\"text-align: right;\">\n",
       "      <th></th>\n",
       "      <th>id</th>\n",
       "      <th>year</th>\n",
       "      <th>month</th>\n",
       "      <th>element</th>\n",
       "      <th>d1</th>\n",
       "      <th>d2</th>\n",
       "      <th>d3</th>\n",
       "      <th>d4</th>\n",
       "      <th>d5</th>\n",
       "      <th>d6</th>\n",
       "      <th>...</th>\n",
       "      <th>d22</th>\n",
       "      <th>d23</th>\n",
       "      <th>d24</th>\n",
       "      <th>d25</th>\n",
       "      <th>d26</th>\n",
       "      <th>d27</th>\n",
       "      <th>d28</th>\n",
       "      <th>d29</th>\n",
       "      <th>d30</th>\n",
       "      <th>d31</th>\n",
       "    </tr>\n",
       "  </thead>\n",
       "  <tbody>\n",
       "    <tr>\n",
       "      <th>0</th>\n",
       "      <td>None</td>\n",
       "      <td>NaN</td>\n",
       "      <td>NaN</td>\n",
       "      <td>None</td>\n",
       "      <td>NaN</td>\n",
       "      <td>NaN</td>\n",
       "      <td>NaN</td>\n",
       "      <td>NaN</td>\n",
       "      <td>NaN</td>\n",
       "      <td>NaN</td>\n",
       "      <td>...</td>\n",
       "      <td>NaN</td>\n",
       "      <td>NaN</td>\n",
       "      <td>NaN</td>\n",
       "      <td>NaN</td>\n",
       "      <td>NaN</td>\n",
       "      <td>NaN</td>\n",
       "      <td>NaN</td>\n",
       "      <td>NaN</td>\n",
       "      <td>NaN</td>\n",
       "      <td>NaN</td>\n",
       "    </tr>\n",
       "    <tr>\n",
       "      <th>1</th>\n",
       "      <td>MX17004</td>\n",
       "      <td>2010.0</td>\n",
       "      <td>1.0</td>\n",
       "      <td>tmax</td>\n",
       "      <td>NaN</td>\n",
       "      <td>NaN</td>\n",
       "      <td>NaN</td>\n",
       "      <td>NaN</td>\n",
       "      <td>NaN</td>\n",
       "      <td>NaN</td>\n",
       "      <td>...</td>\n",
       "      <td>NaN</td>\n",
       "      <td>NaN</td>\n",
       "      <td>NaN</td>\n",
       "      <td>NaN</td>\n",
       "      <td>NaN</td>\n",
       "      <td>NaN</td>\n",
       "      <td>NaN</td>\n",
       "      <td>NaN</td>\n",
       "      <td>27.8</td>\n",
       "      <td>NaN</td>\n",
       "    </tr>\n",
       "    <tr>\n",
       "      <th>2</th>\n",
       "      <td>MX17004</td>\n",
       "      <td>2010.0</td>\n",
       "      <td>1.0</td>\n",
       "      <td>tmin</td>\n",
       "      <td>NaN</td>\n",
       "      <td>NaN</td>\n",
       "      <td>NaN</td>\n",
       "      <td>NaN</td>\n",
       "      <td>NaN</td>\n",
       "      <td>NaN</td>\n",
       "      <td>...</td>\n",
       "      <td>NaN</td>\n",
       "      <td>NaN</td>\n",
       "      <td>NaN</td>\n",
       "      <td>NaN</td>\n",
       "      <td>NaN</td>\n",
       "      <td>NaN</td>\n",
       "      <td>NaN</td>\n",
       "      <td>NaN</td>\n",
       "      <td>14.5</td>\n",
       "      <td>NaN</td>\n",
       "    </tr>\n",
       "    <tr>\n",
       "      <th>3</th>\n",
       "      <td>MX17004</td>\n",
       "      <td>2010.0</td>\n",
       "      <td>2.0</td>\n",
       "      <td>tmax</td>\n",
       "      <td>NaN</td>\n",
       "      <td>27.3</td>\n",
       "      <td>24.1</td>\n",
       "      <td>NaN</td>\n",
       "      <td>NaN</td>\n",
       "      <td>NaN</td>\n",
       "      <td>...</td>\n",
       "      <td>NaN</td>\n",
       "      <td>29.9</td>\n",
       "      <td>NaN</td>\n",
       "      <td>NaN</td>\n",
       "      <td>NaN</td>\n",
       "      <td>NaN</td>\n",
       "      <td>NaN</td>\n",
       "      <td>NaN</td>\n",
       "      <td>NaN</td>\n",
       "      <td>NaN</td>\n",
       "    </tr>\n",
       "    <tr>\n",
       "      <th>4</th>\n",
       "      <td>MX17004</td>\n",
       "      <td>2010.0</td>\n",
       "      <td>2.0</td>\n",
       "      <td>tmin</td>\n",
       "      <td>NaN</td>\n",
       "      <td>14.4</td>\n",
       "      <td>14.4</td>\n",
       "      <td>NaN</td>\n",
       "      <td>NaN</td>\n",
       "      <td>NaN</td>\n",
       "      <td>...</td>\n",
       "      <td>NaN</td>\n",
       "      <td>10.7</td>\n",
       "      <td>NaN</td>\n",
       "      <td>NaN</td>\n",
       "      <td>NaN</td>\n",
       "      <td>NaN</td>\n",
       "      <td>NaN</td>\n",
       "      <td>NaN</td>\n",
       "      <td>NaN</td>\n",
       "      <td>NaN</td>\n",
       "    </tr>\n",
       "  </tbody>\n",
       "</table>\n",
       "<p>5 rows × 35 columns</p>\n",
       "</div>"
      ],
      "text/plain": [
       "        id    year  month element  d1    d2    d3  d4  d5  d6  ...  d22   d23  \\\n",
       "0     None     NaN    NaN    None NaN   NaN   NaN NaN NaN NaN  ...  NaN   NaN   \n",
       "1  MX17004  2010.0    1.0    tmax NaN   NaN   NaN NaN NaN NaN  ...  NaN   NaN   \n",
       "2  MX17004  2010.0    1.0    tmin NaN   NaN   NaN NaN NaN NaN  ...  NaN   NaN   \n",
       "3  MX17004  2010.0    2.0    tmax NaN  27.3  24.1 NaN NaN NaN  ...  NaN  29.9   \n",
       "4  MX17004  2010.0    2.0    tmin NaN  14.4  14.4 NaN NaN NaN  ...  NaN  10.7   \n",
       "\n",
       "   d24  d25  d26  d27  d28  d29   d30  d31  \n",
       "0  NaN  NaN  NaN  NaN  NaN  NaN   NaN  NaN  \n",
       "1  NaN  NaN  NaN  NaN  NaN  NaN  27.8  NaN  \n",
       "2  NaN  NaN  NaN  NaN  NaN  NaN  14.5  NaN  \n",
       "3  NaN  NaN  NaN  NaN  NaN  NaN   NaN  NaN  \n",
       "4  NaN  NaN  NaN  NaN  NaN  NaN   NaN  NaN  \n",
       "\n",
       "[5 rows x 35 columns]"
      ]
     },
     "execution_count": 44,
     "metadata": {},
     "output_type": "execute_result"
    }
   ],
   "source": [
    "# each row is shifted down 1 row\n",
    "weather.shift(1).head()"
   ]
  },
  {
   "cell_type": "code",
   "execution_count": 45,
   "id": "45fb6689",
   "metadata": {},
   "outputs": [
    {
     "data": {
      "text/html": [
       "<div>\n",
       "<style scoped>\n",
       "    .dataframe tbody tr th:only-of-type {\n",
       "        vertical-align: middle;\n",
       "    }\n",
       "\n",
       "    .dataframe tbody tr th {\n",
       "        vertical-align: top;\n",
       "    }\n",
       "\n",
       "    .dataframe thead th {\n",
       "        text-align: right;\n",
       "    }\n",
       "</style>\n",
       "<table border=\"1\" class=\"dataframe\">\n",
       "  <thead>\n",
       "    <tr style=\"text-align: right;\">\n",
       "      <th></th>\n",
       "      <th>id</th>\n",
       "      <th>year</th>\n",
       "      <th>month</th>\n",
       "      <th>element</th>\n",
       "      <th>d1</th>\n",
       "      <th>d2</th>\n",
       "      <th>d3</th>\n",
       "      <th>d4</th>\n",
       "      <th>d5</th>\n",
       "      <th>d6</th>\n",
       "      <th>...</th>\n",
       "      <th>d22</th>\n",
       "      <th>d23</th>\n",
       "      <th>d24</th>\n",
       "      <th>d25</th>\n",
       "      <th>d26</th>\n",
       "      <th>d27</th>\n",
       "      <th>d28</th>\n",
       "      <th>d29</th>\n",
       "      <th>d30</th>\n",
       "      <th>d31</th>\n",
       "    </tr>\n",
       "  </thead>\n",
       "  <tbody>\n",
       "    <tr>\n",
       "      <th>0</th>\n",
       "      <td>MX17004</td>\n",
       "      <td>2010.0</td>\n",
       "      <td>1.0</td>\n",
       "      <td>tmin</td>\n",
       "      <td>NaN</td>\n",
       "      <td>NaN</td>\n",
       "      <td>NaN</td>\n",
       "      <td>NaN</td>\n",
       "      <td>NaN</td>\n",
       "      <td>NaN</td>\n",
       "      <td>...</td>\n",
       "      <td>NaN</td>\n",
       "      <td>NaN</td>\n",
       "      <td>NaN</td>\n",
       "      <td>NaN</td>\n",
       "      <td>NaN</td>\n",
       "      <td>NaN</td>\n",
       "      <td>NaN</td>\n",
       "      <td>NaN</td>\n",
       "      <td>14.5</td>\n",
       "      <td>NaN</td>\n",
       "    </tr>\n",
       "    <tr>\n",
       "      <th>1</th>\n",
       "      <td>MX17004</td>\n",
       "      <td>2010.0</td>\n",
       "      <td>2.0</td>\n",
       "      <td>tmax</td>\n",
       "      <td>NaN</td>\n",
       "      <td>27.3</td>\n",
       "      <td>24.1</td>\n",
       "      <td>NaN</td>\n",
       "      <td>NaN</td>\n",
       "      <td>NaN</td>\n",
       "      <td>...</td>\n",
       "      <td>NaN</td>\n",
       "      <td>29.9</td>\n",
       "      <td>NaN</td>\n",
       "      <td>NaN</td>\n",
       "      <td>NaN</td>\n",
       "      <td>NaN</td>\n",
       "      <td>NaN</td>\n",
       "      <td>NaN</td>\n",
       "      <td>NaN</td>\n",
       "      <td>NaN</td>\n",
       "    </tr>\n",
       "    <tr>\n",
       "      <th>2</th>\n",
       "      <td>MX17004</td>\n",
       "      <td>2010.0</td>\n",
       "      <td>2.0</td>\n",
       "      <td>tmin</td>\n",
       "      <td>NaN</td>\n",
       "      <td>14.4</td>\n",
       "      <td>14.4</td>\n",
       "      <td>NaN</td>\n",
       "      <td>NaN</td>\n",
       "      <td>NaN</td>\n",
       "      <td>...</td>\n",
       "      <td>NaN</td>\n",
       "      <td>10.7</td>\n",
       "      <td>NaN</td>\n",
       "      <td>NaN</td>\n",
       "      <td>NaN</td>\n",
       "      <td>NaN</td>\n",
       "      <td>NaN</td>\n",
       "      <td>NaN</td>\n",
       "      <td>NaN</td>\n",
       "      <td>NaN</td>\n",
       "    </tr>\n",
       "    <tr>\n",
       "      <th>3</th>\n",
       "      <td>MX17004</td>\n",
       "      <td>2010.0</td>\n",
       "      <td>3.0</td>\n",
       "      <td>tmax</td>\n",
       "      <td>NaN</td>\n",
       "      <td>NaN</td>\n",
       "      <td>NaN</td>\n",
       "      <td>NaN</td>\n",
       "      <td>32.1</td>\n",
       "      <td>NaN</td>\n",
       "      <td>...</td>\n",
       "      <td>NaN</td>\n",
       "      <td>NaN</td>\n",
       "      <td>NaN</td>\n",
       "      <td>NaN</td>\n",
       "      <td>NaN</td>\n",
       "      <td>NaN</td>\n",
       "      <td>NaN</td>\n",
       "      <td>NaN</td>\n",
       "      <td>NaN</td>\n",
       "      <td>NaN</td>\n",
       "    </tr>\n",
       "    <tr>\n",
       "      <th>4</th>\n",
       "      <td>MX17004</td>\n",
       "      <td>2010.0</td>\n",
       "      <td>3.0</td>\n",
       "      <td>tmin</td>\n",
       "      <td>NaN</td>\n",
       "      <td>NaN</td>\n",
       "      <td>NaN</td>\n",
       "      <td>NaN</td>\n",
       "      <td>14.2</td>\n",
       "      <td>NaN</td>\n",
       "      <td>...</td>\n",
       "      <td>NaN</td>\n",
       "      <td>NaN</td>\n",
       "      <td>NaN</td>\n",
       "      <td>NaN</td>\n",
       "      <td>NaN</td>\n",
       "      <td>NaN</td>\n",
       "      <td>NaN</td>\n",
       "      <td>NaN</td>\n",
       "      <td>NaN</td>\n",
       "      <td>NaN</td>\n",
       "    </tr>\n",
       "  </tbody>\n",
       "</table>\n",
       "<p>5 rows × 35 columns</p>\n",
       "</div>"
      ],
      "text/plain": [
       "        id    year  month element  d1    d2    d3  d4    d5  d6  ...  d22  \\\n",
       "0  MX17004  2010.0    1.0    tmin NaN   NaN   NaN NaN   NaN NaN  ...  NaN   \n",
       "1  MX17004  2010.0    2.0    tmax NaN  27.3  24.1 NaN   NaN NaN  ...  NaN   \n",
       "2  MX17004  2010.0    2.0    tmin NaN  14.4  14.4 NaN   NaN NaN  ...  NaN   \n",
       "3  MX17004  2010.0    3.0    tmax NaN   NaN   NaN NaN  32.1 NaN  ...  NaN   \n",
       "4  MX17004  2010.0    3.0    tmin NaN   NaN   NaN NaN  14.2 NaN  ...  NaN   \n",
       "\n",
       "    d23  d24  d25  d26  d27  d28  d29   d30  d31  \n",
       "0   NaN  NaN  NaN  NaN  NaN  NaN  NaN  14.5  NaN  \n",
       "1  29.9  NaN  NaN  NaN  NaN  NaN  NaN   NaN  NaN  \n",
       "2  10.7  NaN  NaN  NaN  NaN  NaN  NaN   NaN  NaN  \n",
       "3   NaN  NaN  NaN  NaN  NaN  NaN  NaN   NaN  NaN  \n",
       "4   NaN  NaN  NaN  NaN  NaN  NaN  NaN   NaN  NaN  \n",
       "\n",
       "[5 rows x 35 columns]"
      ]
     },
     "execution_count": 45,
     "metadata": {},
     "output_type": "execute_result"
    }
   ],
   "source": [
    "# negative numbers shift row up\n",
    "weather.shift(-1).head()"
   ]
  },
  {
   "cell_type": "markdown",
   "id": "f50cda8c",
   "metadata": {},
   "source": [
    "<a id='dealing_with_datetime_objects'></a>\n",
    "## Dealing with `datetime` Objects"
   ]
  },
  {
   "cell_type": "markdown",
   "id": "3dade44e",
   "metadata": {},
   "source": [
    "Convert a column to `datetime` type when loading it in"
   ]
  },
  {
   "cell_type": "code",
   "execution_count": 573,
   "id": "99ac0475",
   "metadata": {},
   "outputs": [
    {
     "name": "stdout",
     "output_type": "stream",
     "text": [
      "<class 'pandas.core.frame.DataFrame'>\n",
      "RangeIndex: 8 entries, 0 to 7\n",
      "Data columns (total 3 columns):\n",
      " #   Column  Non-Null Count  Dtype         \n",
      "---  ------  --------------  -----         \n",
      " 0   ident   8 non-null      int64         \n",
      " 1   site    8 non-null      object        \n",
      " 2   dated   7 non-null      datetime64[ns]\n",
      "dtypes: datetime64[ns](1), int64(1), object(1)\n",
      "memory usage: 324.0+ bytes\n"
     ]
    }
   ],
   "source": [
    "# Pass the column name and the string format of the date\n",
    "pd.read_csv(survey_path, parse_dates=[\"dated\"], date_format=\"%Y-%m-%d\").info()"
   ]
  },
  {
   "cell_type": "markdown",
   "id": "fc02f198",
   "metadata": {},
   "source": [
    "- It is better to manually set the date synthax than letting it try to guess: [guide to formatted strings: `strptime`](https://docs.python.org/3/library/datetime.html#strftime-and-strptime-behavior)"
   ]
  },
  {
   "cell_type": "markdown",
   "id": "0f558d5b",
   "metadata": {},
   "source": [
    "Convert a column in a dataframe to `datetime` type "
   ]
  },
  {
   "cell_type": "code",
   "execution_count": null,
   "id": "2251e00a",
   "metadata": {},
   "outputs": [
    {
     "name": "stdout",
     "output_type": "stream",
     "text": [
      "<class 'pandas.core.frame.DataFrame'>\n",
      "RangeIndex: 8 entries, 0 to 7\n",
      "Data columns (total 4 columns):\n",
      " #   Column  Non-Null Count  Dtype         \n",
      "---  ------  --------------  -----         \n",
      " 0   ident   8 non-null      int64         \n",
      " 1   site    8 non-null      object        \n",
      " 2   dated   7 non-null      object        \n",
      " 3   date    7 non-null      datetime64[ns]\n",
      "dtypes: datetime64[ns](1), int64(1), object(2)\n",
      "memory usage: 388.0+ bytes\n"
     ]
    }
   ],
   "source": [
    "df = pd.read_csv(survey_path)\n",
    "df[\"date\"] = pd.to_datetime(df[\"dated\"], format=\"%Y-%m-%d\")\n",
    "df.info()"
   ]
  },
  {
   "cell_type": "markdown",
   "id": "e4be9350",
   "metadata": {},
   "source": [
    "- Notice how column `dated` is an object while column `date` is datetime64"
   ]
  },
  {
   "cell_type": "markdown",
   "id": "fbce3bb3",
   "metadata": {},
   "source": [
    "Return the current date and time as year, month, day, 24-hour, minute, second, and microsecond"
   ]
  },
  {
   "cell_type": "code",
   "execution_count": null,
   "id": "8377d76e",
   "metadata": {},
   "outputs": [
    {
     "data": {
      "text/plain": [
       "datetime.datetime(2025, 8, 20, 16, 35, 16, 710183)"
      ]
     },
     "metadata": {},
     "output_type": "display_data"
    }
   ],
   "source": [
    "datetime.now()"
   ]
  },
  {
   "cell_type": "markdown",
   "id": "267bd9af",
   "metadata": {},
   "source": [
    "### Selecting Data by Dates"
   ]
  },
  {
   "cell_type": "markdown",
   "id": "83b5b396",
   "metadata": {},
   "source": [
    "Select data for certain dates by using `.dt` accessor"
   ]
  },
  {
   "cell_type": "code",
   "execution_count": null,
   "id": "859ee84c",
   "metadata": {},
   "outputs": [
    {
     "data": {
      "text/html": [
       "<div>\n",
       "<style scoped>\n",
       "    .dataframe tbody tr th:only-of-type {\n",
       "        vertical-align: middle;\n",
       "    }\n",
       "\n",
       "    .dataframe tbody tr th {\n",
       "        vertical-align: top;\n",
       "    }\n",
       "\n",
       "    .dataframe thead th {\n",
       "        text-align: right;\n",
       "    }\n",
       "</style>\n",
       "<table border=\"1\" class=\"dataframe\">\n",
       "  <thead>\n",
       "    <tr style=\"text-align: right;\">\n",
       "      <th></th>\n",
       "      <th>ident</th>\n",
       "      <th>site</th>\n",
       "      <th>dated</th>\n",
       "    </tr>\n",
       "  </thead>\n",
       "  <tbody>\n",
       "    <tr>\n",
       "      <th>0</th>\n",
       "      <td>619</td>\n",
       "      <td>DR-1</td>\n",
       "      <td>1927-02-08</td>\n",
       "    </tr>\n",
       "  </tbody>\n",
       "</table>\n",
       "</div>"
      ],
      "text/plain": [
       "   ident  site      dated\n",
       "0    619  DR-1 1927-02-08"
      ]
     },
     "execution_count": 558,
     "metadata": {},
     "output_type": "execute_result"
    }
   ],
   "source": [
    "# Return dates with the 8th day in the year 1927\n",
    "survey.loc[((survey[\"dated\"].dt.year==1927) & (survey[\"dated\"].dt.day==8)), :]"
   ]
  },
  {
   "cell_type": "markdown",
   "id": "c1c1372c",
   "metadata": {},
   "source": [
    "- `.dt` allows python to search for datetime properties in the series values\n",
    "- Since it is searching for two conditions, both need to be in a joined parenthesis, along with their own separate parenthesis"
   ]
  },
  {
   "cell_type": "markdown",
   "id": "a7dd8bc6",
   "metadata": {},
   "source": [
    "Select data for certain dates by setting the date column as the index"
   ]
  },
  {
   "cell_type": "markdown",
   "id": "5d1e137c",
   "metadata": {},
   "source": [
    "\n",
    "\n",
    "#### Subset by specific times"
   ]
  },
  {
   "cell_type": "markdown",
   "id": "010e1322",
   "metadata": {},
   "source": [
    "Calculate the difference in number of days between two dates"
   ]
  },
  {
   "cell_type": "code",
   "execution_count": 579,
   "id": "4ed44b22",
   "metadata": {},
   "outputs": [
    {
     "data": {
      "text/html": [
       "<div>\n",
       "<style scoped>\n",
       "    .dataframe tbody tr th:only-of-type {\n",
       "        vertical-align: middle;\n",
       "    }\n",
       "\n",
       "    .dataframe tbody tr th {\n",
       "        vertical-align: top;\n",
       "    }\n",
       "\n",
       "    .dataframe thead th {\n",
       "        text-align: right;\n",
       "    }\n",
       "</style>\n",
       "<table border=\"1\" class=\"dataframe\">\n",
       "  <thead>\n",
       "    <tr style=\"text-align: right;\">\n",
       "      <th></th>\n",
       "      <th>ident</th>\n",
       "      <th>site</th>\n",
       "      <th>dated</th>\n",
       "      <th>date_diff</th>\n",
       "    </tr>\n",
       "    <tr>\n",
       "      <th>date_diff</th>\n",
       "      <th></th>\n",
       "      <th></th>\n",
       "      <th></th>\n",
       "      <th></th>\n",
       "    </tr>\n",
       "  </thead>\n",
       "  <tbody>\n",
       "    <tr>\n",
       "      <th>0 days</th>\n",
       "      <td>619</td>\n",
       "      <td>DR-1</td>\n",
       "      <td>1927-02-08</td>\n",
       "      <td>0 days</td>\n",
       "    </tr>\n",
       "    <tr>\n",
       "      <th>2 days</th>\n",
       "      <td>622</td>\n",
       "      <td>DR-1</td>\n",
       "      <td>1927-02-10</td>\n",
       "      <td>2 days</td>\n",
       "    </tr>\n",
       "    <tr>\n",
       "      <th>4351 days</th>\n",
       "      <td>734</td>\n",
       "      <td>DR-3</td>\n",
       "      <td>1939-01-07</td>\n",
       "      <td>4351 days</td>\n",
       "    </tr>\n",
       "  </tbody>\n",
       "</table>\n",
       "</div>"
      ],
      "text/plain": [
       "           ident  site      dated date_diff\n",
       "date_diff                                  \n",
       "0 days       619  DR-1 1927-02-08    0 days\n",
       "2 days       622  DR-1 1927-02-10    2 days\n",
       "4351 days    734  DR-3 1939-01-07 4351 days"
      ]
     },
     "execution_count": 579,
     "metadata": {},
     "output_type": "execute_result"
    }
   ],
   "source": [
    "# Calculate the number of days after the oldest date\n",
    "survey[\"date_diff\"] = survey[\"dated\"] - survey[\"dated\"].min()\n",
    "survey_copy = survey.set_index(survey[\"date_diff\"]).copy()\n",
    "survey_copy.head(3)"
   ]
  },
  {
   "cell_type": "code",
   "execution_count": 598,
   "id": "aace92c1",
   "metadata": {},
   "outputs": [
    {
     "data": {
      "text/html": [
       "<div>\n",
       "<style scoped>\n",
       "    .dataframe tbody tr th:only-of-type {\n",
       "        vertical-align: middle;\n",
       "    }\n",
       "\n",
       "    .dataframe tbody tr th {\n",
       "        vertical-align: top;\n",
       "    }\n",
       "\n",
       "    .dataframe thead th {\n",
       "        text-align: right;\n",
       "    }\n",
       "</style>\n",
       "<table border=\"1\" class=\"dataframe\">\n",
       "  <thead>\n",
       "    <tr style=\"text-align: right;\">\n",
       "      <th></th>\n",
       "      <th>ident</th>\n",
       "      <th>site</th>\n",
       "      <th>dated</th>\n",
       "      <th>date_diff</th>\n",
       "    </tr>\n",
       "    <tr>\n",
       "      <th>date_diff</th>\n",
       "      <th></th>\n",
       "      <th></th>\n",
       "      <th></th>\n",
       "      <th></th>\n",
       "    </tr>\n",
       "  </thead>\n",
       "  <tbody>\n",
       "    <tr>\n",
       "      <th>4351 days</th>\n",
       "      <td>734</td>\n",
       "      <td>DR-3</td>\n",
       "      <td>1939-01-07</td>\n",
       "      <td>4351 days</td>\n",
       "    </tr>\n",
       "    <tr>\n",
       "      <th>1069 days</th>\n",
       "      <td>735</td>\n",
       "      <td>DR-3</td>\n",
       "      <td>1930-01-12</td>\n",
       "      <td>1069 days</td>\n",
       "    </tr>\n",
       "    <tr>\n",
       "      <th>1114 days</th>\n",
       "      <td>751</td>\n",
       "      <td>DR-3</td>\n",
       "      <td>1930-02-26</td>\n",
       "      <td>1114 days</td>\n",
       "    </tr>\n",
       "    <tr>\n",
       "      <th>1801 days</th>\n",
       "      <td>837</td>\n",
       "      <td>MSK-4</td>\n",
       "      <td>1932-01-14</td>\n",
       "      <td>1801 days</td>\n",
       "    </tr>\n",
       "    <tr>\n",
       "      <th>1869 days</th>\n",
       "      <td>844</td>\n",
       "      <td>DR-1</td>\n",
       "      <td>1932-03-22</td>\n",
       "      <td>1869 days</td>\n",
       "    </tr>\n",
       "  </tbody>\n",
       "</table>\n",
       "</div>"
      ],
      "text/plain": [
       "           ident   site      dated date_diff\n",
       "date_diff                                   \n",
       "4351 days    734   DR-3 1939-01-07 4351 days\n",
       "1069 days    735   DR-3 1930-01-12 1069 days\n",
       "1114 days    751   DR-3 1930-02-26 1114 days\n",
       "1801 days    837  MSK-4 1932-01-14 1801 days\n",
       "1869 days    844   DR-1 1932-03-22 1869 days"
      ]
     },
     "execution_count": 598,
     "metadata": {},
     "output_type": "execute_result"
    }
   ],
   "source": [
    "survey_copy.loc[survey_copy.index > pd.Timedelta('3 days'), :]"
   ]
  },
  {
   "cell_type": "code",
   "execution_count": 596,
   "id": "6b5a6f3b",
   "metadata": {},
   "outputs": [
    {
     "name": "stdout",
     "output_type": "stream",
     "text": [
      "TimedeltaIndex([   '0 days',    '2 days', '4351 days', '1069 days',\n",
      "                '1114 days',         NaT, '1801 days', '1869 days'],\n",
      "               dtype='timedelta64[ns]', name='date_diff', freq=None)\n"
     ]
    }
   ],
   "source": [
    "print(survey_copy.index)"
   ]
  },
  {
   "cell_type": "code",
   "execution_count": 49,
   "id": "b4c8cb85",
   "metadata": {},
   "outputs": [
    {
     "data": {
      "text/html": [
       "<div>\n",
       "<style scoped>\n",
       "    .dataframe tbody tr th:only-of-type {\n",
       "        vertical-align: middle;\n",
       "    }\n",
       "\n",
       "    .dataframe tbody tr th {\n",
       "        vertical-align: top;\n",
       "    }\n",
       "\n",
       "    .dataframe thead th {\n",
       "        text-align: right;\n",
       "    }\n",
       "</style>\n",
       "<table border=\"1\" class=\"dataframe\">\n",
       "  <thead>\n",
       "    <tr style=\"text-align: right;\">\n",
       "      <th></th>\n",
       "      <th>Date</th>\n",
       "      <th>Open</th>\n",
       "      <th>High</th>\n",
       "      <th>Low</th>\n",
       "      <th>Close</th>\n",
       "      <th>Adj Close</th>\n",
       "      <th>Volume</th>\n",
       "      <th>ref_date</th>\n",
       "    </tr>\n",
       "    <tr>\n",
       "      <th>ref_date</th>\n",
       "      <th></th>\n",
       "      <th></th>\n",
       "      <th></th>\n",
       "      <th></th>\n",
       "      <th></th>\n",
       "      <th></th>\n",
       "      <th></th>\n",
       "      <th></th>\n",
       "    </tr>\n",
       "  </thead>\n",
       "  <tbody>\n",
       "    <tr>\n",
       "      <th>0 days</th>\n",
       "      <td>2010-06-29</td>\n",
       "      <td>19.000000</td>\n",
       "      <td>25.00</td>\n",
       "      <td>17.540001</td>\n",
       "      <td>23.889999</td>\n",
       "      <td>23.889999</td>\n",
       "      <td>18766300</td>\n",
       "      <td>0 days</td>\n",
       "    </tr>\n",
       "    <tr>\n",
       "      <th>1 days</th>\n",
       "      <td>2010-06-30</td>\n",
       "      <td>25.790001</td>\n",
       "      <td>30.42</td>\n",
       "      <td>23.299999</td>\n",
       "      <td>23.830000</td>\n",
       "      <td>23.830000</td>\n",
       "      <td>17187100</td>\n",
       "      <td>1 days</td>\n",
       "    </tr>\n",
       "    <tr>\n",
       "      <th>2 days</th>\n",
       "      <td>2010-07-01</td>\n",
       "      <td>25.000000</td>\n",
       "      <td>25.92</td>\n",
       "      <td>20.270000</td>\n",
       "      <td>21.959999</td>\n",
       "      <td>21.959999</td>\n",
       "      <td>8218800</td>\n",
       "      <td>2 days</td>\n",
       "    </tr>\n",
       "    <tr>\n",
       "      <th>3 days</th>\n",
       "      <td>2010-07-02</td>\n",
       "      <td>23.000000</td>\n",
       "      <td>23.10</td>\n",
       "      <td>18.709999</td>\n",
       "      <td>19.200001</td>\n",
       "      <td>19.200001</td>\n",
       "      <td>5139800</td>\n",
       "      <td>3 days</td>\n",
       "    </tr>\n",
       "  </tbody>\n",
       "</table>\n",
       "</div>"
      ],
      "text/plain": [
       "               Date       Open   High        Low      Close  Adj Close  \\\n",
       "ref_date                                                                 \n",
       "0 days   2010-06-29  19.000000  25.00  17.540001  23.889999  23.889999   \n",
       "1 days   2010-06-30  25.790001  30.42  23.299999  23.830000  23.830000   \n",
       "2 days   2010-07-01  25.000000  25.92  20.270000  21.959999  21.959999   \n",
       "3 days   2010-07-02  23.000000  23.10  18.709999  19.200001  19.200001   \n",
       "\n",
       "            Volume ref_date  \n",
       "ref_date                     \n",
       "0 days    18766300   0 days  \n",
       "1 days    17187100   1 days  \n",
       "2 days     8218800   2 days  \n",
       "3 days     5139800   3 days  "
      ]
     },
     "execution_count": 49,
     "metadata": {},
     "output_type": "execute_result"
    }
   ],
   "source": [
    "# use query\n",
    "tesla.query('ref_date.dt.days<5')"
   ]
  },
  {
   "cell_type": "code",
   "execution_count": null,
   "id": "091b7c3d",
   "metadata": {},
   "outputs": [],
   "source": [
    "#### Extracting parts of date\n",
    "* Extract year from single date: `pd.to_datetime('2016-02-29').year` (or directly from column with dt accessor: `ebola['Date'].dt.year`)\n",
    "* Extract month from single date: `pd.to_datetime('2016-02-29').month`(or directly from column with dt accessor: `ebola['Date'].dt.month`)\n",
    "* Extract day from single date: `pd.to_datetime('2016-02-29').day`(or directly from column with dt accessor: `ebola['Date'].dt.day`)\n",
    "\n",
    "#### Create dates\n",
    "* Create range of dates: `pd.date_range(start='2000-01-01', end='2000-01-05')`\n",
    "    * Can set freq (default='D' for days) https://pandas.pydata.org/pandas-docs/stable/user_guide/timeseries.html#dateoffset-objects\n",
    "\n",
    "#### Calculations on dates\n",
    "* Calculate days passed between dates: `ebola['Date'] - ebola['Date'].min()`\n",
    "    * Returns `timedelta` objects, think of as time lengths\n",
    "* Calculate based on different time frequencies, if index is datetime: `ebola.resample('M').mean()`\n",
    "* Calculate based on different time frequencies, if datetime is in column: `ebola.reset_index().groupby(pd.Grouper(key='date', freq='1M')).mean()`\n",
    "\n",
    "#### Dealing with time zones\n",
    "* Use library: `import pytz`\n",
    "* Create time with timezone: `pd.Timestamp('2017-08-29 07:00', tz='US/Eastern')`\n",
    "* Add timezone to time: `pd.Timestamp('2017-08-29 09:57').tz_localize('US/Pacific')`\n",
    "* Convert timezones: `pd.Timestamp('2017-08-29 09:57', tz='US/Pacific').tz_convert('US/Eastern')`\n",
    "* Find durations (timezones MUST match): `pd.Timestamp('2017-08-29 12:57', tz='US/Eastern') - pd.Timestamp('2017-08-29 07:00', tz='US/Eastern')`"
   ]
  },
  {
   "cell_type": "markdown",
   "id": "d7fbbba1",
   "metadata": {
    "scrolled": true
   },
   "source": [
    "\n",
    "\n",
    "<a id='Broadcasting:_Dealing_with_Different_Sized_Objects'></a>\n",
    "## Broadcasting: Dealing with Different Sized Objects"
   ]
  },
  {
   "cell_type": "code",
   "execution_count": 50,
   "id": "4257ea8b",
   "metadata": {},
   "outputs": [
    {
     "data": {
      "text/plain": [
       "0     38.0\n",
       "1    161.0\n",
       "2      NaN\n",
       "3      NaN\n",
       "4      NaN\n",
       "5      NaN\n",
       "6      NaN\n",
       "7      NaN\n",
       "dtype: float64"
      ]
     },
     "execution_count": 50,
     "metadata": {},
     "output_type": "execute_result"
    }
   ],
   "source": [
    "# Series and Series: match by index, remaining indexes filled with NaN\n",
    "scientists['Age'] + pd.Series([1, 100])"
   ]
  },
  {
   "cell_type": "code",
   "execution_count": 51,
   "id": "0a34d00d",
   "metadata": {},
   "outputs": [],
   "source": [
    "# Series and other objects(np.array): ValueError\n",
    "# scientists['Age'] + np.array([1, 100])"
   ]
  },
  {
   "cell_type": "code",
   "execution_count": 52,
   "id": "5fa5b38c",
   "metadata": {},
   "outputs": [],
   "source": [
    "# DataFrame and boolean vector: IndexError"
   ]
  },
  {
   "cell_type": "markdown",
   "id": "d460cd53",
   "metadata": {},
   "source": [
    "\n",
    "\n",
    "<a id='apply_function_across_each_row_or_column'></a>\n",
    "## Apply Function Across Each Row or Column\n",
    "\n",
    "* \"Applies\" function to each element individually either by rows or columns\n",
    "* Similar to writing a for loop across each row or column\n",
    "* Parentheses () for the passed function NOT needed (current element automatically assigned as 1st argument in passed function)\n",
    "* If passed function takes multiple arguments, pass as keywords in `.apply()`"
   ]
  },
  {
   "cell_type": "markdown",
   "id": "cb3bb981",
   "metadata": {},
   "source": [
    "\n",
    "\n",
    "#### `.apply()` on Series objects\n",
    "\n",
    "* Each element assigned as first argument in passed function"
   ]
  },
  {
   "cell_type": "code",
   "execution_count": 53,
   "id": "b72a1f11",
   "metadata": {},
   "outputs": [
    {
     "data": {
      "text/html": [
       "<div>\n",
       "<style scoped>\n",
       "    .dataframe tbody tr th:only-of-type {\n",
       "        vertical-align: middle;\n",
       "    }\n",
       "\n",
       "    .dataframe tbody tr th {\n",
       "        vertical-align: top;\n",
       "    }\n",
       "\n",
       "    .dataframe thead th {\n",
       "        text-align: right;\n",
       "    }\n",
       "</style>\n",
       "<table border=\"1\" class=\"dataframe\">\n",
       "  <thead>\n",
       "    <tr style=\"text-align: right;\">\n",
       "      <th></th>\n",
       "      <th>total_bill</th>\n",
       "      <th>tip</th>\n",
       "      <th>sex</th>\n",
       "      <th>smoker</th>\n",
       "      <th>day</th>\n",
       "      <th>time</th>\n",
       "      <th>size</th>\n",
       "    </tr>\n",
       "  </thead>\n",
       "  <tbody>\n",
       "    <tr>\n",
       "      <th>0</th>\n",
       "      <td>16.99</td>\n",
       "      <td>1.01</td>\n",
       "      <td>Female</td>\n",
       "      <td>No</td>\n",
       "      <td>Sun</td>\n",
       "      <td>Dinner</td>\n",
       "      <td>2</td>\n",
       "    </tr>\n",
       "    <tr>\n",
       "      <th>1</th>\n",
       "      <td>10.34</td>\n",
       "      <td>1.66</td>\n",
       "      <td>Male</td>\n",
       "      <td>No</td>\n",
       "      <td>Sun</td>\n",
       "      <td>Dinner</td>\n",
       "      <td>3</td>\n",
       "    </tr>\n",
       "    <tr>\n",
       "      <th>2</th>\n",
       "      <td>21.01</td>\n",
       "      <td>3.50</td>\n",
       "      <td>Male</td>\n",
       "      <td>No</td>\n",
       "      <td>Sun</td>\n",
       "      <td>Dinner</td>\n",
       "      <td>3</td>\n",
       "    </tr>\n",
       "    <tr>\n",
       "      <th>3</th>\n",
       "      <td>23.68</td>\n",
       "      <td>3.31</td>\n",
       "      <td>Male</td>\n",
       "      <td>No</td>\n",
       "      <td>Sun</td>\n",
       "      <td>Dinner</td>\n",
       "      <td>2</td>\n",
       "    </tr>\n",
       "    <tr>\n",
       "      <th>4</th>\n",
       "      <td>24.59</td>\n",
       "      <td>3.61</td>\n",
       "      <td>Female</td>\n",
       "      <td>No</td>\n",
       "      <td>Sun</td>\n",
       "      <td>Dinner</td>\n",
       "      <td>4</td>\n",
       "    </tr>\n",
       "  </tbody>\n",
       "</table>\n",
       "</div>"
      ],
      "text/plain": [
       "   total_bill   tip     sex smoker  day    time  size\n",
       "0       16.99  1.01  Female     No  Sun  Dinner     2\n",
       "1       10.34  1.66    Male     No  Sun  Dinner     3\n",
       "2       21.01  3.50    Male     No  Sun  Dinner     3\n",
       "3       23.68  3.31    Male     No  Sun  Dinner     2\n",
       "4       24.59  3.61  Female     No  Sun  Dinner     4"
      ]
     },
     "execution_count": 53,
     "metadata": {},
     "output_type": "execute_result"
    }
   ],
   "source": [
    "# glance at df\n",
    "tips.head()"
   ]
  },
  {
   "cell_type": "code",
   "execution_count": 54,
   "id": "04a8e627",
   "metadata": {},
   "outputs": [
    {
     "data": {
      "text/plain": [
       "0    288.6601\n",
       "1    106.9156\n",
       "2    441.4201\n",
       "3    560.7424\n",
       "4    604.6681\n",
       "Name: total_bill, dtype: float64"
      ]
     },
     "execution_count": 54,
     "metadata": {},
     "output_type": "execute_result"
    }
   ],
   "source": [
    "# custom function to calculate squares\n",
    "def square(x):\n",
    "return x ** 2\n",
    "tips['total_bill'].apply(square).head()"
   ]
  },
  {
   "cell_type": "markdown",
   "id": "e70a598e",
   "metadata": {},
   "source": [
    "\n",
    "\n",
    "* For each element in the series (value in DataFrame column 'total_bill'), it is passed into the `square` function and the square of that element is calculated\n",
    "* Read as \"apply given function to 1st element in series, then 2nd element, and so on until the last element in series\""
   ]
  },
  {
   "cell_type": "code",
   "execution_count": 55,
   "id": "463f42ee",
   "metadata": {},
   "outputs": [
    {
     "data": {
      "text/plain": [
       "0    288.6601\n",
       "1    106.9156\n",
       "2    441.4201\n",
       "3    560.7424\n",
       "4    604.6681\n",
       "Name: total_bill, dtype: float64"
      ]
     },
     "execution_count": 55,
     "metadata": {},
     "output_type": "execute_result"
    }
   ],
   "source": [
    "# for simple functions, use lambda (previous square function in lambda form)\n",
    "tips['total_bill'].apply(lambda x: x**2).head()"
   ]
  },
  {
   "cell_type": "code",
   "execution_count": 56,
   "id": "25a74676",
   "metadata": {},
   "outputs": [
    {
     "data": {
      "text/plain": [
       "0     4904.335099\n",
       "1     1105.507304\n",
       "2     9274.236301\n",
       "3    13278.380032\n",
       "4    14868.788579\n",
       "Name: total_bill, dtype: float64"
      ]
     },
     "execution_count": 56,
     "metadata": {},
     "output_type": "execute_result"
    }
   ],
   "source": [
    "# okay to pass multiple args in lambda\n",
    "tips['total_bill'].apply(lambda x, e=3: x**e).head()"
   ]
  },
  {
   "cell_type": "markdown",
   "id": "796d3931",
   "metadata": {},
   "source": [
    "\n",
    "\n",
    "#### `.apply()` on DataFrame objects\n",
    "\n",
    "* Column-wise: each column assigned as first argument of passed fuction\n",
    "    * `axis=0` (default argument)\n",
    "* Row-wise: each row assigned as first argument of passed function\n",
    "    * `axis=1`"
   ]
  },
  {
   "cell_type": "code",
   "execution_count": 57,
   "id": "1355e5bf",
   "metadata": {
    "scrolled": true
   },
   "outputs": [
    {
     "data": {
      "text/plain": [
       "total_bill    96.61\n",
       "tip           13.09\n",
       "dtype: float64"
      ]
     },
     "execution_count": 57,
     "metadata": {},
     "output_type": "execute_result"
    }
   ],
   "source": [
    "# column-wise apply\n",
    "tips.iloc[:5, :2].apply(sum) # axis=0 is default arg"
   ]
  },
  {
   "cell_type": "markdown",
   "id": "55ebb850",
   "metadata": {},
   "source": [
    "\n",
    "\n",
    "* First column in DataFrame is passed as argument in apply function, and so on until all columns applied to"
   ]
  },
  {
   "cell_type": "code",
   "execution_count": 58,
   "id": "2f36bf0d",
   "metadata": {
    "scrolled": false
   },
   "outputs": [
    {
     "data": {
      "text/plain": [
       "0    18.00\n",
       "1    12.00\n",
       "2    24.51\n",
       "3    26.99\n",
       "4    28.20\n",
       "dtype: float64"
      ]
     },
     "execution_count": 58,
     "metadata": {},
     "output_type": "execute_result"
    }
   ],
   "source": [
    "# row-wise apply\n",
    "tips.iloc[:5, :2].apply(sum, axis=1)"
   ]
  },
  {
   "cell_type": "markdown",
   "id": "7fcc8148",
   "metadata": {},
   "source": [
    "\n",
    "\n",
    "* First row in DataFrame is passed as argument in apply function, and so on until all rows applied to"
   ]
  },
  {
   "cell_type": "markdown",
   "id": "1a85bf0f",
   "metadata": {},
   "source": [
    "<a id='references'></a>\n",
    "## References\n",
    "- [Pandas API reference](https://pandas.pydata.org/pandas-docs/stable/reference/index.html)\n",
    "- \"Pandas for Everyone\" by Daniel Y. Chen (2018)"
   ]
  },
  {
   "cell_type": "code",
   "execution_count": null,
   "id": "831d499e",
   "metadata": {},
   "outputs": [],
   "source": []
  }
 ],
 "metadata": {
  "kernelspec": {
   "display_name": "softdocs",
   "language": "python",
   "name": "python3"
  },
  "language_info": {
   "codemirror_mode": {
    "name": "ipython",
    "version": 3
   },
   "file_extension": ".py",
   "mimetype": "text/x-python",
   "name": "python",
   "nbconvert_exporter": "python",
   "pygments_lexer": "ipython3",
   "version": "3.12.11"
  }
 },
 "nbformat": 4,
 "nbformat_minor": 5
}
