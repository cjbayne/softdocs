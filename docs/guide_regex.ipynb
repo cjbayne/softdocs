{
 "cells": [
  {
   "cell_type": "markdown",
   "id": "cac96ca2",
   "metadata": {},
   "source": [
    "# Guide to Regex\n",
    "\n",
    "from Chapter 8: Strings and Text Data\n",
    "\"Pandas for Everyone\" by Daniel Y. Chen (2018)\n",
    "\n",
    "* [Data types](#7.1)\n",
    "* [Converting data types](#7.2)"
   ]
  },
  {
   "cell_type": "code",
   "execution_count": 1,
   "id": "fc26d88a",
   "metadata": {
    "scrolled": true
   },
   "outputs": [
    {
     "data": {
      "text/html": [
       "<!-- HTML CODE BLOCK TO SHIFT JUPYTER TABLES TO THE LEFT -->\n",
       "<style>\n",
       "table {float:left}\n",
       "</style>\n"
      ],
      "text/plain": [
       "<IPython.core.display.HTML object>"
      ]
     },
     "metadata": {},
     "output_type": "display_data"
    }
   ],
   "source": [
    "%%html \n",
    "<!-- HTML CODE BLOCK TO SHIFT JUPYTER TABLES TO THE LEFT -->\n",
    "<style>\n",
    "table {float:left}\n",
    "</style>"
   ]
  },
  {
   "cell_type": "code",
   "execution_count": 23,
   "id": "4217422c",
   "metadata": {},
   "outputs": [],
   "source": [
    "import pandas as pd\n",
    "from pathlib import Path\n",
    "import re\n",
    "import seaborn as sns\n",
    "\n",
    "path_data = Path.cwd() / 'data'\n",
    "tips = sns.load_dataset('tips')"
   ]
  },
  {
   "cell_type": "markdown",
   "id": "b6df612c",
   "metadata": {},
   "source": [
    "## Strings\n",
    "In Python, `string` is series of characters, created by set of opening single or double quotes"
   ]
  },
  {
   "cell_type": "code",
   "execution_count": 2,
   "id": "36fc0fed",
   "metadata": {},
   "outputs": [],
   "source": [
    "word = 'grail'\n",
    "sent = 'a scratch'"
   ]
  },
  {
   "cell_type": "markdown",
   "id": "d1ee459a",
   "metadata": {},
   "source": [
    "### Subsetting and slicing strings\n",
    "\n",
    "Strings like container of characters, and can subset like other Python containers (`list`, `Series`)"
   ]
  },
  {
   "cell_type": "markdown",
   "id": "b982ca84",
   "metadata": {},
   "source": [
    "**Index positions for string 'grail'**\n",
    "\n",
    "| | | | | | |\n",
    "| --- | --- | --- | --- | --- | --- |\n",
    "| index | 0 | 1 | 2 | 3 | 4 |\n",
    "| string | g | r | a | i | l |\n",
    "| neg index | -5 | -4 | -3 | -2 | -1 |"
   ]
  },
  {
   "cell_type": "code",
   "execution_count": 4,
   "id": "1c4c2af0",
   "metadata": {},
   "outputs": [
    {
     "data": {
      "text/plain": [
       "'g'"
      ]
     },
     "execution_count": 4,
     "metadata": {},
     "output_type": "execute_result"
    }
   ],
   "source": [
    "# get 1st character in string\n",
    "word[0]"
   ]
  },
  {
   "cell_type": "code",
   "execution_count": 5,
   "id": "4138a549",
   "metadata": {},
   "outputs": [
    {
     "data": {
      "text/plain": [
       "'gra'"
      ]
     },
     "execution_count": 5,
     "metadata": {},
     "output_type": "execute_result"
    }
   ],
   "source": [
    "# slicing notation (get characters from 0 up to, but NOT including 3)\n",
    "word[:3]"
   ]
  },
  {
   "cell_type": "code",
   "execution_count": 6,
   "id": "a57898bd",
   "metadata": {},
   "outputs": [
    {
     "data": {
      "text/plain": [
       "'l'"
      ]
     },
     "execution_count": 6,
     "metadata": {},
     "output_type": "execute_result"
    }
   ],
   "source": [
    "# negative index starts count from end of container\n",
    "word[-1]"
   ]
  },
  {
   "cell_type": "code",
   "execution_count": 7,
   "id": "e224717d",
   "metadata": {},
   "outputs": [
    {
     "data": {
      "text/plain": [
       "'g'"
      ]
     },
     "execution_count": 7,
     "metadata": {},
     "output_type": "execute_result"
    }
   ],
   "source": [
    "# slicing notation with negative indices (get characters from -5 up to, but NOT including -4)\n",
    "word[-5:-4]"
   ]
  },
  {
   "cell_type": "code",
   "execution_count": 11,
   "id": "34a0d29f",
   "metadata": {},
   "outputs": [
    {
     "data": {
      "text/plain": [
       "'ail'"
      ]
     },
     "execution_count": 11,
     "metadata": {},
     "output_type": "execute_result"
    }
   ],
   "source": [
    "# slicing notation to INCLUDE last character\n",
    "word[2:]"
   ]
  },
  {
   "cell_type": "code",
   "execution_count": 16,
   "id": "c67ca2bd",
   "metadata": {},
   "outputs": [
    {
     "data": {
      "text/plain": [
       "'gal'"
      ]
     },
     "execution_count": 16,
     "metadata": {},
     "output_type": "execute_result"
    }
   ],
   "source": [
    "# specify slicing interval (start from 0, get every 2nd character)\n",
    "word[::2]"
   ]
  },
  {
   "cell_type": "code",
   "execution_count": 22,
   "id": "c29d75a1",
   "metadata": {},
   "outputs": [
    {
     "name": "stdout",
     "output_type": "stream",
     "text": [
      "40° 46' 52.837\" N 73° 58' 26.302\" W\n"
     ]
    }
   ],
   "source": [
    "# join method takes container (e.g., list) and returns new string joining all elements using string as separator\n",
    "print(' '.join(['40°',  '46\\'', '52.837\"', 'N', '73°', '58\\'', '26.302\"', 'W']))"
   ]
  },
  {
   "cell_type": "markdown",
   "id": "79257e6c",
   "metadata": {},
   "source": [
    "## Regular expressions (regex)\n",
    "\n",
    "Regular expressions allow a *pattern* of text to be searched. e.g., email addresses have @ symbols in the middle, US social security numbers have 9 digits and 2 hypens, etc.\n",
    "\n",
    "Most regexes are passing a pattern to `re.compile()`, store it in `Regex` object. Call method on `Regex` object and pass string to check. Result gets stored.\n",
    "\n",
    "This section from automate the boring stuff with Python: https://automatetheboringstuff.com/2e/chapter7/"
   ]
  },
  {
   "cell_type": "code",
   "execution_count": 117,
   "id": "26fff8bf",
   "metadata": {},
   "outputs": [
    {
     "name": "stdout",
     "output_type": "stream",
     "text": [
      "Phone number found: 415-555-4242\n"
     ]
    }
   ],
   "source": [
    "# searches string for 3 consecutive digits followed by hyphen, 3 more consecutive digits, another hyphen, and 4 more consecutive digits\n",
    "phone_regex = re.compile(r'\\d\\d\\d-\\d\\d\\d-\\d\\d\\d\\d')\n",
    "mo = phone_regex.search('My number is 415-555-4242.')\n",
    "print(f'Phone number found: {mo.group()}')"
   ]
  },
  {
   "cell_type": "markdown",
   "id": "17687481",
   "metadata": {},
   "source": [
    "### Grouping with Parentheses\n",
    "\n",
    "Groups used to separate parts of matched strings. Each set of parentheses in pattern is a group\n",
    "* Passing 0 or no argument returns entire matched text\n",
    "* Passing 1 returns the matched string in the 1st set of parentheses...etc."
   ]
  },
  {
   "cell_type": "code",
   "execution_count": 63,
   "id": "2fd4973d",
   "metadata": {},
   "outputs": [
    {
     "data": {
      "text/plain": [
       "'415-555-4242'"
      ]
     },
     "execution_count": 63,
     "metadata": {},
     "output_type": "execute_result"
    }
   ],
   "source": [
    "# create Regex object and search string for pattern\n",
    "phone_regex = re.compile(r'(\\d\\d\\d)-(\\d\\d\\d-\\d\\d\\d\\d)')\n",
    "mo = phone_regex.search('My number is 415-555-4242.')\n",
    "\n",
    "# .group() returns entire matched text\n",
    "mo.group()"
   ]
  },
  {
   "cell_type": "code",
   "execution_count": 64,
   "id": "642933d2",
   "metadata": {},
   "outputs": [
    {
     "data": {
      "text/plain": [
       "'415'"
      ]
     },
     "execution_count": 64,
     "metadata": {},
     "output_type": "execute_result"
    }
   ],
   "source": [
    "# passing 1 to .group() returns string in 1st set of parentheses\n",
    "mo.group(1)"
   ]
  },
  {
   "cell_type": "code",
   "execution_count": 65,
   "id": "174f26d2",
   "metadata": {},
   "outputs": [
    {
     "data": {
      "text/plain": [
       "'555-4242'"
      ]
     },
     "execution_count": 65,
     "metadata": {},
     "output_type": "execute_result"
    }
   ],
   "source": [
    "# passing 2 to .group() returns string in 2nd set of parentheses\n",
    "mo.group(2)"
   ]
  },
  {
   "cell_type": "code",
   "execution_count": 66,
   "id": "64c44725",
   "metadata": {},
   "outputs": [
    {
     "data": {
      "text/plain": [
       "('415', '555-4242')"
      ]
     },
     "execution_count": 66,
     "metadata": {},
     "output_type": "execute_result"
    }
   ],
   "source": [
    "# returns all groups as tuple\n",
    "mo.groups()"
   ]
  },
  {
   "cell_type": "code",
   "execution_count": null,
   "id": "6773fbe2",
   "metadata": {},
   "outputs": [],
   "source": []
  },
  {
   "cell_type": "code",
   "execution_count": null,
   "id": "833b49d9",
   "metadata": {},
   "outputs": [],
   "source": []
  },
  {
   "cell_type": "code",
   "execution_count": null,
   "id": "0739f333",
   "metadata": {},
   "outputs": [],
   "source": []
  },
  {
   "cell_type": "markdown",
   "id": "b89cf1ce",
   "metadata": {},
   "source": [
    "### Special characters\n",
    "\n",
    "The following characters have special meanings:  \n",
    ". ^ $ * + ? { } [ ] \\ | ( )  \n",
    "*To use these characters as part of text pattern, escape with backslash, e.g., `\\.`*\n",
    "\n",
    "#### | character (pipe): matches if part is from multiple given patterns\n",
    "\n",
    "| character used to separate patterns to match to, and the 1st pattern that is found is returned"
   ]
  },
  {
   "cell_type": "code",
   "execution_count": 164,
   "id": "284e7df2",
   "metadata": {},
   "outputs": [
    {
     "data": {
      "text/plain": [
       "<re.Match object; span=(0, 6), match='Batman'>"
      ]
     },
     "execution_count": 164,
     "metadata": {},
     "output_type": "execute_result"
    }
   ],
   "source": [
    "# matches 'Batman' OR 'Tina Fey' (1st match returned)\n",
    "hero_regex = re.compile(r'Batman|Tina Fey')\n",
    "hero_regex.search('Batman and Tina Fey')"
   ]
  },
  {
   "cell_type": "code",
   "execution_count": 165,
   "id": "c0cf789c",
   "metadata": {},
   "outputs": [
    {
     "data": {
      "text/plain": [
       "<re.Match object; span=(0, 8), match='Tina Fey'>"
      ]
     },
     "execution_count": 165,
     "metadata": {},
     "output_type": "execute_result"
    }
   ],
   "source": [
    "# matches 'Batman' OR 'Tina Fey' (1st match returned)\n",
    "hero_regex.search('Tina Fey and Batman')"
   ]
  },
  {
   "cell_type": "code",
   "execution_count": 167,
   "id": "9a6f9b00",
   "metadata": {},
   "outputs": [
    {
     "data": {
      "text/plain": [
       "<re.Match object; span=(0, 9), match='Batmobile'>"
      ]
     },
     "execution_count": 167,
     "metadata": {},
     "output_type": "execute_result"
    }
   ],
   "source": [
    "# matches 'Batman' OR 'Batmobile' OR 'Batcopter' OR 'Batbat'\n",
    "bat_regex = re.compile(r'Bat(man|mobile|copter|bat)')\n",
    "bat_regex.search('Batmobile lost a wheel')"
   ]
  },
  {
   "cell_type": "code",
   "execution_count": 168,
   "id": "ea6a9943",
   "metadata": {},
   "outputs": [
    {
     "data": {
      "text/plain": [
       "'mobile'"
      ]
     },
     "execution_count": 168,
     "metadata": {},
     "output_type": "execute_result"
    }
   ],
   "source": [
    "# returns only matched text from 1st parentheses group\n",
    "bat_regex.search('Batmobile lost a wheel').group(1)"
   ]
  },
  {
   "cell_type": "markdown",
   "id": "e43ce23c",
   "metadata": {},
   "source": [
    "#### ? character: matches if part is absent or present once\n",
    "\n",
    "Whatever precedes the ? character is set as optional when matching. So to match, it will be present either 0 or exactly 1 times"
   ]
  },
  {
   "cell_type": "code",
   "execution_count": 169,
   "id": "e717f0e7",
   "metadata": {},
   "outputs": [
    {
     "data": {
      "text/plain": [
       "<re.Match object; span=(18, 24), match='Batman'>"
      ]
     },
     "execution_count": 169,
     "metadata": {},
     "output_type": "execute_result"
    }
   ],
   "source": [
    "# matches 'Batman' OR 'Batwoman' (longest regex returned)\n",
    "bat_regex = re.compile(r'Bat(wo)?man')\n",
    "bat_regex.search('The Adventures of Batman')"
   ]
  },
  {
   "cell_type": "code",
   "execution_count": 171,
   "id": "775f245a",
   "metadata": {},
   "outputs": [
    {
     "data": {
      "text/plain": [
       "<re.Match object; span=(18, 26), match='Batwoman'>"
      ]
     },
     "execution_count": 171,
     "metadata": {},
     "output_type": "execute_result"
    }
   ],
   "source": [
    "# matches 'Batman' OR 'Batwoman' (longest regex returned)\n",
    "bat_regex.search('The Adventures of Batwoman')"
   ]
  },
  {
   "cell_type": "code",
   "execution_count": 172,
   "id": "f062f710",
   "metadata": {},
   "outputs": [
    {
     "ename": "NameError",
     "evalue": "name 'BOOKMARK' is not defined",
     "output_type": "error",
     "traceback": [
      "\u001b[1;31m---------------------------------------------------------------------------\u001b[0m",
      "\u001b[1;31mNameError\u001b[0m                                 Traceback (most recent call last)",
      "Cell \u001b[1;32mIn[172], line 1\u001b[0m\n\u001b[1;32m----> 1\u001b[0m \u001b[43mBOOKMARK\u001b[49m\n",
      "\u001b[1;31mNameError\u001b[0m: name 'BOOKMARK' is not defined"
     ]
    }
   ],
   "source": [
    "BOOKMARK"
   ]
  },
  {
   "cell_type": "markdown",
   "id": "90a3b254",
   "metadata": {},
   "source": [
    "#### * character: matches if part is absent or present 1 or more times\n",
    "\n",
    "Similar to ? character, but the part preceding * character can be present multiple times"
   ]
  },
  {
   "cell_type": "code",
   "execution_count": 124,
   "id": "22e561ff",
   "metadata": {},
   "outputs": [
    {
     "data": {
      "text/plain": [
       "'Batman'"
      ]
     },
     "execution_count": 124,
     "metadata": {},
     "output_type": "execute_result"
    }
   ],
   "source": [
    "# matches 'Batman' OR 'Batwoman' OR 'Batwowoman', etc.\n",
    "bat_regex = re.compile(r'Bat(wo)*man')\n",
    "text = 'The Adventures of Batman'\n",
    "mo = bat_regex.search(text)\n",
    "mo.group()"
   ]
  },
  {
   "cell_type": "code",
   "execution_count": 126,
   "id": "ad18d97b",
   "metadata": {},
   "outputs": [
    {
     "data": {
      "text/plain": [
       "'Batwoman'"
      ]
     },
     "execution_count": 126,
     "metadata": {},
     "output_type": "execute_result"
    }
   ],
   "source": [
    "# matches 'Batman' OR 'Batwoman' OR 'Batwowoman', etc.\n",
    "text = 'The Adventures of Batwoman'\n",
    "mo = bat_regex.search(text)\n",
    "mo.group()"
   ]
  },
  {
   "cell_type": "code",
   "execution_count": 128,
   "id": "110ed965",
   "metadata": {},
   "outputs": [
    {
     "data": {
      "text/plain": [
       "'Batwowowowowowoman'"
      ]
     },
     "execution_count": 128,
     "metadata": {},
     "output_type": "execute_result"
    }
   ],
   "source": [
    "# matches 'Batman' OR 'Batwoman' OR 'Batwowoman', etc.\n",
    "text = 'The Adventures of Batwowowowowowoman'\n",
    "mo = bat_regex.search(text)\n",
    "mo.group()"
   ]
  },
  {
   "cell_type": "markdown",
   "id": "78361186",
   "metadata": {},
   "source": [
    "#### + character: matches if part is present 1 or more times\n",
    "\n",
    "Similar to * character, but the part preceding + character MUST be present at least once"
   ]
  },
  {
   "cell_type": "code",
   "execution_count": 129,
   "id": "4a3dfc9e",
   "metadata": {},
   "outputs": [
    {
     "data": {
      "text/plain": [
       "True"
      ]
     },
     "execution_count": 129,
     "metadata": {},
     "output_type": "execute_result"
    }
   ],
   "source": [
    "# matches 'Batwoman' OR 'Batwowoman', etc.\n",
    "bat_regex = re.compile(r'Bat(wo)+man')\n",
    "text = 'The Adventures of Batman'\n",
    "mo = bat_regex.search(text)\n",
    "mo == None"
   ]
  },
  {
   "cell_type": "code",
   "execution_count": 130,
   "id": "cfe9640e",
   "metadata": {},
   "outputs": [
    {
     "data": {
      "text/plain": [
       "'Batwoman'"
      ]
     },
     "execution_count": 130,
     "metadata": {},
     "output_type": "execute_result"
    }
   ],
   "source": [
    "# matches 'Batwoman' OR 'Batwowoman', etc.\n",
    "bat_regex = re.compile(r'Bat(wo)+man')\n",
    "text = 'The Adventures of Batwoman'\n",
    "mo = bat_regex.search(text)\n",
    "mo.group()"
   ]
  },
  {
   "cell_type": "code",
   "execution_count": 131,
   "id": "ce2c623f",
   "metadata": {},
   "outputs": [
    {
     "data": {
      "text/plain": [
       "'Batwowowowoman'"
      ]
     },
     "execution_count": 131,
     "metadata": {},
     "output_type": "execute_result"
    }
   ],
   "source": [
    "# matches 'Batwoman' OR 'Batwowoman', etc.\n",
    "bat_regex = re.compile(r'Bat(wo)+man')\n",
    "text = 'The Adventures of Batwowowowoman'\n",
    "mo = bat_regex.search(text)\n",
    "mo.group()"
   ]
  },
  {
   "cell_type": "markdown",
   "id": "e79c26a9",
   "metadata": {},
   "source": [
    "#### ^ character (caret): matches ONLY IF match occurs at BEGINNING of searched text\n",
    "\n",
    "Force the match to occur at the beginning of the searched string"
   ]
  },
  {
   "cell_type": "code",
   "execution_count": 155,
   "id": "ba278339",
   "metadata": {},
   "outputs": [
    {
     "data": {
      "text/plain": [
       "'Hello'"
      ]
     },
     "execution_count": 155,
     "metadata": {},
     "output_type": "execute_result"
    }
   ],
   "source": [
    "# match occurs because searched string begins with 'Hello'\n",
    "hello_regex = re.compile(r'^Hello')\n",
    "text = 'Hello, world!'\n",
    "mo = hello_regex.search(text)\n",
    "mo.group()"
   ]
  },
  {
   "cell_type": "code",
   "execution_count": 157,
   "id": "c7e12efc",
   "metadata": {},
   "outputs": [
    {
     "data": {
      "text/plain": [
       "True"
      ]
     },
     "execution_count": 157,
     "metadata": {},
     "output_type": "execute_result"
    }
   ],
   "source": [
    "# match DOES NOT occur because searched string DOES NOT begin with 'Hello'\n",
    "hello_regex = re.compile(r'^Hello')\n",
    "text = 'hello, world!'\n",
    "mo = hello_regex.search(text)\n",
    "mo == None"
   ]
  },
  {
   "cell_type": "markdown",
   "id": "33fcc062",
   "metadata": {},
   "source": [
    "#### $ character: matches ONLY IF match occurs at END of searched text\n",
    "\n",
    "Force the match to occur at the end of the searched string"
   ]
  },
  {
   "cell_type": "code",
   "execution_count": 158,
   "id": "2626d40b",
   "metadata": {},
   "outputs": [
    {
     "data": {
      "text/plain": [
       "'2'"
      ]
     },
     "execution_count": 158,
     "metadata": {},
     "output_type": "execute_result"
    }
   ],
   "source": [
    "# match occurs because searched string ends with digit\n",
    "end_regex = re.compile(r'\\d$')\n",
    "text = 'Your number is 42'\n",
    "mo = end_regex.search(text)\n",
    "mo.group()"
   ]
  },
  {
   "cell_type": "markdown",
   "id": "9b7bbaa9",
   "metadata": {},
   "source": [
    "Combine ^ and $ to force match that starts and ends with given pattern"
   ]
  },
  {
   "cell_type": "code",
   "execution_count": 159,
   "id": "05f55c5b",
   "metadata": {},
   "outputs": [
    {
     "data": {
      "text/plain": [
       "<re.Match object; span=(0, 10), match='1234567890'>"
      ]
     },
     "execution_count": 159,
     "metadata": {},
     "output_type": "execute_result"
    }
   ],
   "source": [
    "# match occurs\n",
    "whole_regex = re.compile(r'^\\d+$')\n",
    "whole_regex.search('1234567890')"
   ]
  },
  {
   "cell_type": "code",
   "execution_count": 160,
   "id": "6fd4ce0b",
   "metadata": {},
   "outputs": [
    {
     "data": {
      "text/plain": [
       "True"
      ]
     },
     "execution_count": 160,
     "metadata": {},
     "output_type": "execute_result"
    }
   ],
   "source": [
    "# match DOES NOT occur because letters in string\n",
    "whole_regex.search('12345xyz67890') == None"
   ]
  },
  {
   "cell_type": "code",
   "execution_count": 161,
   "id": "a8781aa3",
   "metadata": {},
   "outputs": [
    {
     "data": {
      "text/plain": [
       "True"
      ]
     },
     "execution_count": 161,
     "metadata": {},
     "output_type": "execute_result"
    }
   ],
   "source": [
    "# match DOES NOT occur because spacing in string\n",
    "whole_regex.search('12  34567890') == None"
   ]
  },
  {
   "cell_type": "markdown",
   "id": "eb3c7f19",
   "metadata": {},
   "source": [
    "### Matching specific repetitions with braces"
   ]
  },
  {
   "cell_type": "code",
   "execution_count": 136,
   "id": "0786c664",
   "metadata": {},
   "outputs": [
    {
     "data": {
      "text/plain": [
       "'HaHaHa'"
      ]
     },
     "execution_count": 136,
     "metadata": {},
     "output_type": "execute_result"
    }
   ],
   "source": [
    "# matches 'HaHaHa' only\n",
    "ha_regex = re.compile(r'(Ha){3}')\n",
    "mo = ha_regex.search('HaHaHa')\n",
    "mo.group()"
   ]
  },
  {
   "cell_type": "code",
   "execution_count": 137,
   "id": "aa99d43d",
   "metadata": {},
   "outputs": [
    {
     "data": {
      "text/plain": [
       "True"
      ]
     },
     "execution_count": 137,
     "metadata": {},
     "output_type": "execute_result"
    }
   ],
   "source": [
    "# matches 'HaHaHa' only\n",
    "mo = ha_regex.search('Ha')\n",
    "mo == None"
   ]
  },
  {
   "cell_type": "markdown",
   "id": "47dda829",
   "metadata": {},
   "source": [
    "Can use a range with braces instead of single number:\n",
    "* `(Ha){2,4}` will match `'HaHa'`, `'HaHaHa'`, or `'HaHaHaHa'`\n",
    "* `(Ha){2,}` will match 2 or more instances of `(Ha)` group\n",
    "* `(Ha){,5}` will match 0 to 5 instances of `(Ha)` group\n",
    "\n",
    "By default, Python's regular expressions are *greedy*, meaning in ambiguous situations, will match longest string possible. "
   ]
  },
  {
   "cell_type": "code",
   "execution_count": 141,
   "id": "fbb95e89",
   "metadata": {},
   "outputs": [
    {
     "data": {
      "text/plain": [
       "'HaHaHaHa'"
      ]
     },
     "execution_count": 141,
     "metadata": {},
     "output_type": "execute_result"
    }
   ],
   "source": [
    "# will match 'HaHaHaHa'\n",
    "greedy_regex = re.compile(r'(Ha){2,4}')\n",
    "mo = greedy_regex.search('HaHaHaHa')\n",
    "mo.group()"
   ]
  },
  {
   "cell_type": "code",
   "execution_count": 142,
   "id": "7e934bdd",
   "metadata": {},
   "outputs": [
    {
     "data": {
      "text/plain": [
       "'HaHa'"
      ]
     },
     "execution_count": 142,
     "metadata": {},
     "output_type": "execute_result"
    }
   ],
   "source": [
    "# will match 'HaHa'\n",
    "nongreedy_regex = re.compile(r'(Ha){2,4}?')\n",
    "mo = nongreedy_regex.search('HaHaHaHa')\n",
    "mo.group()"
   ]
  },
  {
   "cell_type": "markdown",
   "id": "9f7a76c5",
   "metadata": {},
   "source": [
    "Question mark has 2 meanings in regular expressions: declaring non-greedy match or flagging a group as optional"
   ]
  },
  {
   "cell_type": "markdown",
   "id": "ad082808",
   "metadata": {},
   "source": [
    "### FINDALL() method\n",
    "\n",
    "\n",
    "`Regex` objects also have `findall()` method. `search()` returns `Match` object of *first* matched text in searched string, while `findall()` method returns string of *every* match in searched string"
   ]
  },
  {
   "cell_type": "code",
   "execution_count": 143,
   "id": "e636cf68",
   "metadata": {},
   "outputs": [
    {
     "data": {
      "text/plain": [
       "['415-555-9999', '212-555-0000']"
      ]
     },
     "execution_count": 143,
     "metadata": {},
     "output_type": "execute_result"
    }
   ],
   "source": [
    "# returns list of strings IF NO GROUPS in regular expression\n",
    "phone_regex = re.compile(r'\\d\\d\\d-\\d\\d\\d-\\d\\d\\d\\d')\n",
    "phone_regex.findall('Cell: 415-555-9999 Work: 212-555-0000')"
   ]
  },
  {
   "cell_type": "code",
   "execution_count": 145,
   "id": "d61391fa",
   "metadata": {},
   "outputs": [
    {
     "data": {
      "text/plain": [
       "[('415', '555', '9999'), ('212', '555', '0000')]"
      ]
     },
     "execution_count": 145,
     "metadata": {},
     "output_type": "execute_result"
    }
   ],
   "source": [
    "# returns list of tuples (each represents found match, and its items are matched strings for each group in regex)\n",
    "phone_regex = re.compile(r'(\\d\\d\\d)-(\\d\\d\\d)-(\\d\\d\\d\\d)')\n",
    "phone_regex.findall('Cell: 415-555-9999 Work: 212-555-0000')"
   ]
  },
  {
   "cell_type": "markdown",
   "id": "586b4b8a",
   "metadata": {},
   "source": [
    "### Character classes\n",
    "\n",
    "Useful to shorten regexes.\n",
    "\n",
    "List of shorthand character classes:\n",
    "* \\d: matches any decimal digit (equivalent to [0-9])\n",
    "* \\D: matches any non-digit character (equivalent to [^0-9])\n",
    "* \\s: matches any whitespace character (equivalent to [ \\t\\n\\r\\f\\v])\n",
    "* \\S: matches any non-whitespace character (equivalent to [^ \\t\\n\\r\\f\\v])\n",
    "* \\w: matches any alphanumeric character (equivalent to [a-zA-Z0-9_])\n",
    "* \\W: matches any non-alphanumeric character (equivalent to [^a-zA-Z0-9_])"
   ]
  },
  {
   "cell_type": "code",
   "execution_count": 147,
   "id": "a89a314a",
   "metadata": {},
   "outputs": [
    {
     "data": {
      "text/plain": [
       "['12 drummers',\n",
       " '11 pipers',\n",
       " '10 lords',\n",
       " '9 ladies',\n",
       " '8 maids',\n",
       " '7 swans',\n",
       " '6 geese',\n",
       " '5 rings',\n",
       " '4 birds',\n",
       " '3 hens',\n",
       " '2 doves',\n",
       " '1 partridge']"
      ]
     },
     "execution_count": 147,
     "metadata": {},
     "output_type": "execute_result"
    }
   ],
   "source": [
    "# matches text with 1 or more digits, followed by whitespace character, followed by 1 or more letter/digit/underscore characters\n",
    "xmas_regex = re.compile(r'\\d+\\s\\w+')\n",
    "text = '12 drummers, 11 pipers, 10 lords, 9 ladies, 8 maids, 7 swans, 6 geese, 5 rings, 4 birds, 3 hens, 2 doves, 1 partridge'\n",
    "xmas_regex.findall(text)"
   ]
  },
  {
   "cell_type": "markdown",
   "id": "76daa450",
   "metadata": {},
   "source": [
    "#### Custom character classes\n",
    "\n",
    "Create custom character classes, if shorthand character classes are too broad. \n",
    "* Define character class by using square brackets, e.g., `[aeiouAEIOU]` will match any vowel, both lowercase and uppercase\n",
    "* Can also includes ranges of letters or numbers by using hyphen, e.g., `[a-d]` will match the letters a, b, c, or d\n",
    "* Special characters DO NOT need to be escaped in brackets, e.g., [0-5.] will match digits 0 to 5 and a period\n",
    "* Caret character (^) just after character class's opening bracket makes a *negative character* class"
   ]
  },
  {
   "cell_type": "code",
   "execution_count": 151,
   "id": "e156f93e",
   "metadata": {},
   "outputs": [
    {
     "data": {
      "text/plain": [
       "['o', 'o', 'o', 'e', 'a', 'a', 'o', 'o', 'A', 'O', 'O']"
      ]
     },
     "execution_count": 151,
     "metadata": {},
     "output_type": "execute_result"
    }
   ],
   "source": [
    "# list of string matches for any vowels in string\n",
    "vowel_regex = re.compile(r'[aeiouAEIOU]')\n",
    "text = 'Robocop eats baby food. BABY FOOD'\n",
    "vowel_regex.findall(text)"
   ]
  },
  {
   "cell_type": "code",
   "execution_count": 153,
   "id": "bfe562ef",
   "metadata": {},
   "outputs": [
    {
     "data": {
      "text/plain": [
       "['R',\n",
       " 'b',\n",
       " 'c',\n",
       " 'p',\n",
       " ' ',\n",
       " 't',\n",
       " 's',\n",
       " ' ',\n",
       " 'b',\n",
       " 'b',\n",
       " 'y',\n",
       " ' ',\n",
       " 'f',\n",
       " 'd',\n",
       " '.',\n",
       " ' ',\n",
       " 'B',\n",
       " 'B',\n",
       " 'Y',\n",
       " ' ',\n",
       " 'F',\n",
       " 'D']"
      ]
     },
     "execution_count": 153,
     "metadata": {},
     "output_type": "execute_result"
    }
   ],
   "source": [
    "# negative character class (^), matches every non-vowel character\n",
    "vowel_regex = re.compile(r'[^aeiouAEIOU]')\n",
    "text = 'Robocop eats baby food. BABY FOOD'\n",
    "vowel_regex.findall(text)"
   ]
  },
  {
   "cell_type": "code",
   "execution_count": null,
   "id": "56b8f43f",
   "metadata": {},
   "outputs": [],
   "source": []
  }
 ],
 "metadata": {
  "kernelspec": {
   "display_name": "Python 3 (ipykernel)",
   "language": "python",
   "name": "python3"
  },
  "language_info": {
   "codemirror_mode": {
    "name": "ipython",
    "version": 3
   },
   "file_extension": ".py",
   "mimetype": "text/x-python",
   "name": "python",
   "nbconvert_exporter": "python",
   "pygments_lexer": "ipython3",
   "version": "3.11.5"
  }
 },
 "nbformat": 4,
 "nbformat_minor": 5
}
